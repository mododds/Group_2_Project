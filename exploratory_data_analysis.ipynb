{
 "cells": [
  {
   "cell_type": "code",
   "execution_count": 3,
   "id": "5cdb49b7",
   "metadata": {},
   "outputs": [],
   "source": [
    "#ignore warning\n",
    "import warnings\n",
    "warnings.filterwarnings('ignore')"
   ]
  },
  {
   "cell_type": "code",
   "execution_count": 4,
   "id": "37d0a820",
   "metadata": {},
   "outputs": [],
   "source": [
    "# import yfinance, pandas and os\n",
    "import yfinance as yf\n",
    "import pandas as pd\n",
    "import datetime\n",
    "import os\n",
    "import yesg"
   ]
  },
  {
   "cell_type": "code",
   "execution_count": 5,
   "id": "f4639aa4",
   "metadata": {},
   "outputs": [
    {
     "name": "stdout",
     "output_type": "stream",
     "text": [
      "Enter database password········\n",
      "('INTC', 17.0, 4.0, 6.0, 7.0, datetime.datetime(2022, 2, 1, 0, 0), 'LAG_PERF', 'Semiconductors', 3.0, 31, 14.57, 'Customer Incidents,Business Ethics Incidents', 11.6, 21.21967741935484, 32.93, 2.53, 8.044999999999998, 16.08, 2.62, 6.166333333333333, 9.51, 4.79, 6.668666666666666, 9.67, 0.0, 1.1290322580645162, 4.0, 'None')\n"
     ]
    }
   ],
   "source": [
    "%run Connect_Database.ipynb"
   ]
  },
  {
   "cell_type": "code",
   "execution_count": 7,
   "id": "5873a34b",
   "metadata": {},
   "outputs": [
    {
     "data": {
      "text/plain": [
       "Ticker                                  object\n",
       "totalScore                             float64\n",
       "eScore                                 float64\n",
       "sScore                                 float64\n",
       "gScore                                 float64\n",
       "lastRated                       datetime64[ns]\n",
       "esgPerformance                          object\n",
       "peerGroup                               object\n",
       "highestControversy                     float64\n",
       "peerCount                                int64\n",
       "totalPercentile                        float64\n",
       "relatedControversy                      object\n",
       "minPeerESG                             float64\n",
       "avgPeerESG                             float64\n",
       "maxPeerESG                             float64\n",
       "minPeerEnvironment                     float64\n",
       "avgPeerEnvironment                     float64\n",
       "maxPeerEnvironment                     float64\n",
       "minPeerSocial                          float64\n",
       "avgPeerSocial                          float64\n",
       "maxPeerSocial                          float64\n",
       "minPeerGovernance                      float64\n",
       "avgPeerGovernance                      float64\n",
       "maxPeerGovernance                      float64\n",
       "minHighestControversy                  float64\n",
       "avgHighestControversy                  float64\n",
       "maxHighestControversy                  float64\n",
       "controversialBusinessAreas              object\n",
       "Ticker_1                                object\n",
       "longName                                object\n",
       "sector                                  object\n",
       "industry                                object\n",
       "city                                    object\n",
       "state                                   object\n",
       "country                                 object\n",
       "fullTimeEmployees                        int64\n",
       "revenueGrowth                          float64\n",
       "forwardEps                             float64\n",
       "beta                                   float64\n",
       "priceToSalesTrailing12Months           float64\n",
       "forwardPE                              float64\n",
       "dividendRate                           float64\n",
       "trailingPE                             float64\n",
       "bookValue                              float64\n",
       "returnOnAssets                         float64\n",
       "returnOnEquity                         float64\n",
       "averageVolume                            int64\n",
       "volume                                   int64\n",
       "currentPrice                           float64\n",
       "fiftyTwoWeekLow                        float64\n",
       "fiftyTwoWeekHigh                       float64\n",
       "regularMarketPrice                     float64\n",
       "marketCap                                int64\n",
       "dtype: object"
      ]
     },
     "execution_count": 7,
     "metadata": {},
     "output_type": "execute_result"
    }
   ],
   "source": [
    "esg_info_df.dtypes"
   ]
  },
  {
   "cell_type": "code",
   "execution_count": 11,
   "id": "7cf49b47",
   "metadata": {},
   "outputs": [
    {
     "data": {
      "text/plain": [
       "Ticker                          0\n",
       "totalScore                      0\n",
       "eScore                          0\n",
       "sScore                          0\n",
       "gScore                          0\n",
       "lastRated                       0\n",
       "esgPerformance                  0\n",
       "peerGroup                       0\n",
       "highestControversy              0\n",
       "peerCount                       0\n",
       "totalPercentile                 0\n",
       "relatedControversy              0\n",
       "minPeerESG                      0\n",
       "avgPeerESG                      0\n",
       "maxPeerESG                      0\n",
       "minPeerEnvironment              0\n",
       "avgPeerEnvironment              0\n",
       "maxPeerEnvironment              0\n",
       "minPeerSocial                   0\n",
       "avgPeerSocial                   0\n",
       "maxPeerSocial                   0\n",
       "minPeerGovernance               0\n",
       "avgPeerGovernance               0\n",
       "maxPeerGovernance               0\n",
       "minHighestControversy           0\n",
       "avgHighestControversy           0\n",
       "maxHighestControversy           0\n",
       "controversialBusinessAreas      0\n",
       "Ticker_1                        0\n",
       "longName                        0\n",
       "sector                          0\n",
       "industry                        0\n",
       "city                            0\n",
       "state                           0\n",
       "country                         0\n",
       "fullTimeEmployees               0\n",
       "revenueGrowth                   0\n",
       "forwardEps                      0\n",
       "beta                            0\n",
       "priceToSalesTrailing12Months    0\n",
       "forwardPE                       0\n",
       "dividendRate                    0\n",
       "trailingPE                      0\n",
       "bookValue                       0\n",
       "returnOnAssets                  0\n",
       "returnOnEquity                  0\n",
       "averageVolume                   0\n",
       "volume                          0\n",
       "currentPrice                    0\n",
       "fiftyTwoWeekLow                 0\n",
       "fiftyTwoWeekHigh                0\n",
       "regularMarketPrice              0\n",
       "marketCap                       0\n",
       "dtype: int64"
      ]
     },
     "execution_count": 11,
     "metadata": {},
     "output_type": "execute_result"
    }
   ],
   "source": [
    "esg_info_df.isnull().sum()"
   ]
  },
  {
   "cell_type": "code",
   "execution_count": 9,
   "id": "6f526fda",
   "metadata": {},
   "outputs": [
    {
     "data": {
      "text/plain": [
       "Ticker                  object\n",
       "animalTesting            int64\n",
       "catholicValues           int64\n",
       "controversialWeapons     int64\n",
       "militaryContracting      int64\n",
       "None                     int64\n",
       "Nuclear                  int64\n",
       "smallArms                int64\n",
       "thermalCoal              int64\n",
       "dtype: object"
      ]
     },
     "execution_count": 9,
     "metadata": {},
     "output_type": "execute_result"
    }
   ],
   "source": [
    "business_controversy_df.dtypes"
   ]
  },
  {
   "cell_type": "code",
   "execution_count": 12,
   "id": "896957e6",
   "metadata": {},
   "outputs": [
    {
     "data": {
      "text/plain": [
       "Ticker                  0\n",
       "animalTesting           0\n",
       "catholicValues          0\n",
       "controversialWeapons    0\n",
       "militaryContracting     0\n",
       "None                    0\n",
       "Nuclear                 0\n",
       "smallArms               0\n",
       "thermalCoal             0\n",
       "dtype: int64"
      ]
     },
     "execution_count": 12,
     "metadata": {},
     "output_type": "execute_result"
    }
   ],
   "source": [
    "business_controversy_df.isnull().sum()"
   ]
  },
  {
   "cell_type": "code",
   "execution_count": 10,
   "id": "4607a8b8",
   "metadata": {},
   "outputs": [
    {
     "data": {
      "text/plain": [
       "Ticker                               object\n",
       "businessEthicsIncidents               int64\n",
       "customerIncidents                     int64\n",
       "employeeIncidents                     int64\n",
       "environmentalSupplyChainIncidents     int64\n",
       "governanceIncidents                   int64\n",
       "None                                  int64\n",
       "operationsIncidents                   int64\n",
       "productServiceIncidents               int64\n",
       "publicPolicyIncidents                 int64\n",
       "socialSupplyChainIncidents            int64\n",
       "societyCommunityIncidents             int64\n",
       "dtype: object"
      ]
     },
     "execution_count": 10,
     "metadata": {},
     "output_type": "execute_result"
    }
   ],
   "source": [
    "controversy_df.dtypes"
   ]
  },
  {
   "cell_type": "code",
   "execution_count": 13,
   "id": "8680664a",
   "metadata": {},
   "outputs": [
    {
     "data": {
      "text/plain": [
       "Ticker                               0\n",
       "businessEthicsIncidents              0\n",
       "customerIncidents                    0\n",
       "employeeIncidents                    0\n",
       "environmentalSupplyChainIncidents    0\n",
       "governanceIncidents                  0\n",
       "None                                 0\n",
       "operationsIncidents                  0\n",
       "productServiceIncidents              0\n",
       "publicPolicyIncidents                0\n",
       "socialSupplyChainIncidents           0\n",
       "societyCommunityIncidents            0\n",
       "dtype: int64"
      ]
     },
     "execution_count": 13,
     "metadata": {},
     "output_type": "execute_result"
    }
   ],
   "source": [
    "controversy_df.isnull().sum()"
   ]
  },
  {
   "cell_type": "code",
   "execution_count": null,
   "id": "a703a4e2",
   "metadata": {},
   "outputs": [],
   "source": [
    "\n",
    "\n"
   ]
  }
 ],
 "metadata": {
  "kernelspec": {
   "display_name": "esgenv",
   "language": "python",
   "name": "esgenv"
  },
  "language_info": {
   "codemirror_mode": {
    "name": "ipython",
    "version": 3
   },
   "file_extension": ".py",
   "mimetype": "text/x-python",
   "name": "python",
   "nbconvert_exporter": "python",
   "pygments_lexer": "ipython3",
   "version": "3.7.11"
  }
 },
 "nbformat": 4,
 "nbformat_minor": 5
}
