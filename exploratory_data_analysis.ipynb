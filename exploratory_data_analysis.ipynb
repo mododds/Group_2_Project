{
 "cells": [
  {
   "cell_type": "code",
   "execution_count": 1,
   "id": "5cdb49b7",
   "metadata": {},
   "outputs": [],
   "source": [
    "#ignore warning\n",
    "import warnings\n",
    "warnings.filterwarnings('ignore')"
   ]
  },
  {
   "cell_type": "code",
   "execution_count": 1,
   "id": "37d0a820",
   "metadata": {},
   "outputs": [],
   "source": [
    "# import yfinance, pandas and os\n",
    "import yfinance as yf\n",
    "import pandas as pd\n",
    "import datetime\n",
    "import os\n",
    "import yesg"
   ]
  },
  {
   "cell_type": "code",
   "execution_count": null,
   "id": "94f35d0c",
   "metadata": {},
   "outputs": [],
   "source": [
    "%run Connect_Database.ipynb"
   ]
  },
  {
   "cell_type": "code",
   "execution_count": null,
   "id": "88961315",
   "metadata": {},
   "outputs": [],
   "source": []
  },
  {
   "cell_type": "code",
   "execution_count": null,
   "id": "716ed108",
   "metadata": {},
   "outputs": [],
   "source": []
  },
  {
   "cell_type": "code",
   "execution_count": null,
   "id": "805e6824",
   "metadata": {},
   "outputs": [],
   "source": []
  },
  {
   "cell_type": "code",
   "execution_count": null,
   "id": "dec464a4",
   "metadata": {},
   "outputs": [],
   "source": []
  },
  {
   "cell_type": "code",
   "execution_count": null,
   "id": "fecc8802",
   "metadata": {},
   "outputs": [],
   "source": []
  }
 ],
 "metadata": {
  "kernelspec": {
   "display_name": "esgenv",
   "language": "python",
   "name": "esgenv"
  },
  "language_info": {
   "codemirror_mode": {
    "name": "ipython",
    "version": 3
   },
   "file_extension": ".py",
   "mimetype": "text/x-python",
   "name": "python",
   "nbconvert_exporter": "python",
   "pygments_lexer": "ipython3",
   "version": "3.7.11"
  }
 },
 "nbformat": 4,
 "nbformat_minor": 5
}
