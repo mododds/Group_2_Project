{
 "cells": [
  {
   "cell_type": "code",
   "execution_count": 1,
   "id": "5cdb49b7",
   "metadata": {},
   "outputs": [],
   "source": [
    "#ignore warning\n",
    "import warnings\n",
    "warnings.filterwarnings('ignore')"
   ]
  },
  {
   "cell_type": "code",
   "execution_count": 2,
   "id": "37d0a820",
   "metadata": {},
   "outputs": [],
   "source": [
    "# import yfinance, pandas and os\n",
    "import yfinance as yf\n",
    "import pandas as pd\n",
    "import datetime\n",
    "import os\n",
    "import yesg"
   ]
  },
  {
   "cell_type": "code",
   "execution_count": 3,
   "id": "5ef6f948",
   "metadata": {},
   "outputs": [],
   "source": [
    "# Tickers, Forbes Just 100 top esg companies with all financial and esg details are available on yahoo finance\n",
    "Symbols = [\"INTC\", \"MSFT\", \"AAPL\", \"NVDA\", \"VZ\", \"CSCO\", \"EXC\", \"PEP\", \"MA\", \"ANTM\", \"ACN\", \"T\", \"IBM\",\n",
    "           \"F\", \"OC\", \"INTU\", \"MRK\", \"AEP\", \"UNH\", \"CI\", \"AMAT\", \"CL\", \"EQIX\", \"UPS\", \"NEM\", \"LMT\", \"BLK\",\n",
    "           \"EIX\", \"JNJ\", \"GS\", \"NOC\", \"PG\", \"ADM\", \"ETR\", \"QCOM\", \"GIS\", \"DE\", \"LOW\", \"AMGN\", \"ABT\",\n",
    "            \"BDX\", \"CLX\", \"AES\", \"SPGI\", \"ES\", \"HSY\", \"AXP\", \"NLSN\", \"EBAY\", \"ECL\", \"NDAQ\", \"DLR\", \"BBY\", \n",
    "           \"KMB\", \"EMN\"]"
   ]
  },
  {
   "cell_type": "code",
   "execution_count": 4,
   "id": "aa2ca953",
   "metadata": {},
   "outputs": [],
   "source": [
    "def create_esg_full(Symbols):\n",
    "    esg_data = pd.DataFrame()\n",
    "    \n",
    "    for i in Symbols:\n",
    "        try:\n",
    "            temp =pd.DataFrame(yesg.get_esg_full(i))\n",
    "            \n",
    "            # append the individual stock info\n",
    "            if len(temp) == 0:\n",
    "                None\n",
    "            else:\n",
    "                esg_data = esg_data.append(temp, ignore_index = True) \n",
    "#                 print(f'{i}: esg appended')\n",
    "        \n",
    "        except Exception:\n",
    "            None\n",
    "    # Data cleaning to ensure table names are proper, no null or duplicate data and datatypes are correct     \n",
    "    esg_data['Total-Score'] = pd.to_numeric(esg_data['Total-Score'])\n",
    "    esg_data['E-Score'] = pd.to_numeric(esg_data['E-Score'])\n",
    "    esg_data['S-Score'] = pd.to_numeric(esg_data['S-Score'])\n",
    "    esg_data['G-Score'] = pd.to_numeric(esg_data['G-Score'])\n",
    "    esg_data['Last Rated']= pd.to_datetime(esg_data['Last Rated'])\n",
    "    esg_data.drop(['environment Percentile','social Percentile', 'governance Percentile'], axis = 1, inplace = True)\n",
    "    esg_data.loc[esg_data['Controversial Business Areas'] == \"\", \"Controversial Business Areas\"] = 'None'\n",
    "    esg_data.loc[esg_data['related Controversy'] == \"-\", \"related Controversy\"] = 'None'\n",
    "    esg_data['ESG Performance'].fillna('Not Available', inplace = True)\n",
    "    esg_data.insert(0, \"Ticker\", esg_data.pop('Ticker'))\n",
    "    esg_data.rename(columns={'Last Rated': 'lastRated', 'ESG Performance': 'esgPerformance','peer Group': 'peerGroup',\n",
    "                             \"Highest Controversy\" : \"highestControversy\", \"peer Count\": \"peerCount\",\n",
    "                             \"total Percentile\":\"totalPercentile\", \"related Controversy\": \"relatedControversy\",\n",
    "                             'min peer ESG': \"minPeerESG\", \"avg peer ESG\": \"avgPeerESG\", \"max peer ESG\":\"maxPeerESG\",\n",
    "                             'min peer Environment': \"minPeerEnvironment\", \"avg peer Environment\": \"avgPeerEnvironment\",\n",
    "                             \"max peer Environment\":\"maxPeerEnvironment\",'min peer Social': \"minPeerSocial\", \n",
    "                             \"avg peer Social\": \"avgPeerSocial\", \"max peer Social\":\"maxPeerSocial\",\n",
    "                             'min peer Governance': \"minPeerGovernance\", \"avg peer Governance\": \"avgPeerGovernance\",\n",
    "                             \"max peer Governance\":\"maxPeerGovernance\", \"min Highest Controversy\": \"minHighestControversy\",\n",
    "                             \"avg Highest Controversy\": \"avgHighestControversy\", \"max Highest Controversy\": \"maxHighestControversy\",\n",
    "                             \"Controversial Business Areas\" : \"controversialBusinessAreas\",'Total-Score': 'totalScore',\n",
    "                             'E-Score': 'eScore', 'S-Score': 'sScore', 'G-Score': 'gScore'\n",
    "                             }, inplace=True)\n",
    "    \n",
    "    \n",
    "    return esg_data\n",
    "    "
   ]
  },
  {
   "cell_type": "code",
   "execution_count": 5,
   "id": "764351dd",
   "metadata": {},
   "outputs": [
    {
     "name": "stdout",
     "output_type": "stream",
     "text": [
      "total stocks in esg_full is : 55\n"
     ]
    }
   ],
   "source": [
    "esg_data = create_esg_full(Symbols)\n",
    "print(f'total stocks in esg_full is : {len(esg_data)}')"
   ]
  },
  {
   "cell_type": "code",
   "execution_count": 6,
   "id": "42eacadd",
   "metadata": {},
   "outputs": [],
   "source": [
    "# Created a function to extract stocks description from yahoo finance\n",
    "def create_info_list(Symbols):\n",
    "    # create empty list\n",
    "    info = []\n",
    "    # iterate over each symbol\n",
    "    for i in Symbols:  \n",
    "        try:\n",
    "            # download stock info\n",
    "            temp = []\n",
    "            temp = yf.Ticker(i).info\n",
    "                        \n",
    "            # append the individual stock info\n",
    "            if len(temp) == 0:\n",
    "                None\n",
    "            else:\n",
    "                info.append(temp)\n",
    "#                 print(f'{i}: info appended')\n",
    "                \n",
    "        except Exception:\n",
    "            None\n",
    "   \n",
    "    return info\n"
   ]
  },
  {
   "cell_type": "code",
   "execution_count": 7,
   "id": "f8b86fbc",
   "metadata": {},
   "outputs": [],
   "source": [
    "def create_info(Symbols):\n",
    "    info_df = pd.DataFrame()\n",
    "    info = create_info_list(Symbols)\n",
    "#     print(len(info))\n",
    "#     print(len(Symbols))\n",
    "    if len(info) == 0:\n",
    "        None\n",
    "    else:\n",
    "        info_df = info_df.append(info,sort=False, ignore_index=True)\n",
    "        \n",
    "    # Data cleaning to ensure table names are proper, no null or duplicate data and datatypes are correct   \n",
    "    info_df = info_df[['symbol','longName', 'sector','industry', 'city', 'state','country','fullTimeEmployees',\n",
    "                       'revenueGrowth', 'forwardEps', 'beta' , 'priceToSalesTrailing12Months' , 'forwardPE', \n",
    "                       'dividendRate', 'trailingPE', 'bookValue', 'returnOnAssets', 'returnOnEquity','averageVolume', 'volume','currentPrice',\n",
    "                       'fiftyTwoWeekLow','fiftyTwoWeekHigh', 'regularMarketPrice', 'marketCap']]\n",
    "    info_df.rename(columns = {'symbol':'Ticker'}, inplace = True)\n",
    "    info_df.loc[info_df['country'] == 'Ireland', 'state'] = 'Leinster'\n",
    "    info_df['industry'] = esg_data['peerGroup']\n",
    "    return info_df"
   ]
  },
  {
   "cell_type": "code",
   "execution_count": 8,
   "id": "9bd9feb0",
   "metadata": {},
   "outputs": [
    {
     "name": "stdout",
     "output_type": "stream",
     "text": [
      "total stocks in stock_details is : 55\n"
     ]
    }
   ],
   "source": [
    "info_df = create_info(esg_data['Ticker'].to_list())\n",
    "print(f'total stocks in stock_details is : {len(info_df)}')"
   ]
  },
  {
   "cell_type": "code",
   "execution_count": 9,
   "id": "921994ae",
   "metadata": {},
   "outputs": [],
   "source": [
    "info_df['industry'] = esg_data['peerGroup']"
   ]
  },
  {
   "cell_type": "code",
   "execution_count": 10,
   "id": "dc223cbb",
   "metadata": {},
   "outputs": [],
   "source": [
    "# function to get the time based data from yahoo finance and storing it in a Dataframe\n",
    "def create_date_based_dataframes(Symbols,start, end):\n",
    "    # create empty dataframe\n",
    "    stocks_df = pd.DataFrame()\n",
    "    # iterate over each symbol\n",
    "    for i in Symbols:  \n",
    "\n",
    "        # print the symbol which is being downloaded\n",
    "        print( str(Symbols.index(i)) + str(' : ') + i, sep=',', end=',', flush=True)  \n",
    "\n",
    "        try:\n",
    "            # download the stock price \n",
    "            stock = []\n",
    "            stock = yf.download(i,start=start, end=end, progress=False)\n",
    "\n",
    "            # append the individual stock prices \n",
    "            if len(stock) == 0:\n",
    "                None\n",
    "            else:\n",
    "                stock['Ticker']=i\n",
    "                stocks_df = stocks_df.append(stock,sort=False)\n",
    "                print('data appended')\n",
    "                \n",
    "        except Exception:\n",
    "            None\n",
    "    # Data cleaning to ensure table names are proper, no null or duplicate data and datatypes are correct   \n",
    "    stocks_df.dropna(inplace =True)\n",
    "    stocks_df = stocks_df.rename_axis('Date').reset_index()\n",
    "    stocks_df.insert(0, \"Ticker\", stocks_df.pop('Ticker'))\n",
    "    return stocks_df"
   ]
  },
  {
   "cell_type": "code",
   "execution_count": 11,
   "id": "189f3811",
   "metadata": {},
   "outputs": [
    {
     "name": "stdout",
     "output_type": "stream",
     "text": [
      "0 : INTC,data appended\n",
      "1 : MSFT,data appended\n",
      "2 : AAPL,data appended\n",
      "3 : NVDA,data appended\n",
      "4 : VZ,data appended\n",
      "5 : CSCO,data appended\n",
      "6 : EXC,data appended\n",
      "7 : PEP,data appended\n",
      "8 : MA,data appended\n",
      "9 : ANTM,data appended\n",
      "10 : ACN,data appended\n",
      "11 : T,data appended\n",
      "12 : IBM,data appended\n",
      "13 : F,data appended\n",
      "14 : OC,data appended\n",
      "15 : INTU,data appended\n",
      "16 : MRK,data appended\n",
      "17 : AEP,data appended\n",
      "18 : UNH,data appended\n",
      "19 : CI,data appended\n",
      "20 : AMAT,data appended\n",
      "21 : CL,data appended\n",
      "22 : EQIX,data appended\n",
      "23 : UPS,data appended\n",
      "24 : NEM,data appended\n",
      "25 : LMT,data appended\n",
      "26 : BLK,data appended\n",
      "27 : EIX,data appended\n",
      "28 : JNJ,data appended\n",
      "29 : GS,data appended\n",
      "30 : NOC,data appended\n",
      "31 : PG,data appended\n",
      "32 : ADM,data appended\n",
      "33 : ETR,data appended\n",
      "34 : QCOM,data appended\n",
      "35 : GIS,data appended\n",
      "36 : DE,data appended\n",
      "37 : LOW,data appended\n",
      "38 : AMGN,data appended\n",
      "39 : ABT,data appended\n",
      "40 : BDX,data appended\n",
      "41 : CLX,data appended\n",
      "42 : AES,data appended\n",
      "43 : SPGI,data appended\n",
      "44 : ES,data appended\n",
      "45 : HSY,data appended\n",
      "46 : AXP,data appended\n",
      "47 : NLSN,data appended\n",
      "48 : EBAY,data appended\n",
      "49 : ECL,data appended\n",
      "50 : NDAQ,data appended\n",
      "51 : DLR,data appended\n",
      "52 : BBY,data appended\n",
      "53 : KMB,data appended\n",
      "54 : EMN,data appended\n"
     ]
    }
   ],
   "source": [
    "# Time series data start and end date YYYY,MM,DD\n",
    "start = datetime.datetime(2017,3,16)\n",
    "end = datetime.datetime(2022,3,16)\n",
    "stock_historical_df = create_date_based_dataframes(Symbols,start, end)"
   ]
  },
  {
   "cell_type": "code",
   "execution_count": 12,
   "id": "a36b2aac",
   "metadata": {},
   "outputs": [],
   "source": [
    "# Creating business business_controversy_df from esg_data to know more about business values lowering ESG scores\n",
    "\n",
    "# Data cleaning to ensure table names are proper, no null or duplicate data and datatypes are correct   \n",
    "business_controversy_df = esg_data['controversialBusinessAreas'].str.get_dummies(sep=', ')\n",
    "business_controversy_df['Ticker'] = esg_data['Ticker']\n",
    "business_controversy_df.insert(0, \"Ticker\", business_controversy_df.pop('Ticker'))\n",
    "business_controversy_df.rename(columns={'Animal Testing': 'animalTesting', 'Catholic Values': 'catholicValues',\n",
    "                                        'Controversial Weapons': 'controversialWeapons', 'Military Contracting': 'militaryContracting',\n",
    "                                        'Small Arms': 'smallArms', 'Thermal Coal': 'thermalCoal'\n",
    "                            }, inplace=True)\n"
   ]
  },
  {
   "cell_type": "code",
   "execution_count": 13,
   "id": "260d4b4a",
   "metadata": {},
   "outputs": [],
   "source": [
    "# Creating business controversy_type_df from esg_data to know more about controversies lowering ESG scores\n",
    "\n",
    "# Data cleaning to ensure table names are proper, no null or duplicate data and datatypes are correct   \n",
    "controversy_type_df = esg_data['relatedControversy'].str.get_dummies(sep=',')\n",
    "controversy_type_df['Ticker'] = esg_data['Ticker']\n",
    "controversy_type_df.insert(0, \"Ticker\", controversy_type_df.pop('Ticker'))\n",
    "controversy_type_df.rename(columns={\"Business Ethics Incidents\": \"businessEthicsIncidents\", \"Customer Incidents\":\"customerIncidents\",\n",
    "                                    \"Employee Incidents\":\"employeeIncidents\", \"Environmental Supply Chain Incidents\":\"environmentalSupplyChainIncidents\",\n",
    "                                    \"Governance Incidents\" :\"governanceIncidents\",\"Operations Incidents\":\"operationsIncidents\",\n",
    "                                    \"Product & Service Incidents\" :\"productServiceIncidents\" , \"Public Policy Incidents\": \"publicPolicyIncidents\",\n",
    "                                    \"Social Supply Chain Incidents\": \"socialSupplyChainIncidents\", \"Society & Community Incidents\" :\"societyCommunityIncidents\" \n",
    "                            }, inplace=True)\n"
   ]
  },
  {
   "cell_type": "code",
   "execution_count": 14,
   "id": "bedbb41a",
   "metadata": {},
   "outputs": [],
   "source": [
    "# Save full_esg\n",
    "file_to_save = os.path.join(\"Resources\", \"esg_details.csv\")\n",
    "esg_data.to_csv(file_to_save, index = False)\n",
    "\n",
    "# Save full_info\n",
    "file_to_save = os.path.join(\"Resources\", \"stocks_details.csv\")\n",
    "info_df.to_csv(file_to_save, index = False)\n",
    "\n",
    "# Save stocks historical data\n",
    "file_to_save = os.path.join(\"Resources\", \"stocks_historical_data.csv\")\n",
    "stock_historical_df.to_csv(file_to_save, index = False)\n",
    "\n",
    "# Save business controversy in esg data\n",
    "file_to_save = os.path.join(\"Resources\", \"business_controversy_esg.csv\")\n",
    "business_controversy_df.to_csv(file_to_save, index = False)\n",
    "\n",
    "# Save related controversy in esg data\n",
    "file_to_save = os.path.join(\"Resources\", \"controversy_type_esg.csv\")\n",
    "controversy_type_df.to_csv(file_to_save, index = False)\n"
   ]
  },
  {
   "cell_type": "code",
   "execution_count": null,
   "id": "52c7ce79",
   "metadata": {},
   "outputs": [],
   "source": []
  }
 ],
 "metadata": {
  "kernelspec": {
   "display_name": "esgenv",
   "language": "python",
   "name": "esgenv"
  },
  "language_info": {
   "codemirror_mode": {
    "name": "ipython",
    "version": 3
   },
   "file_extension": ".py",
   "mimetype": "text/x-python",
   "name": "python",
   "nbconvert_exporter": "python",
   "pygments_lexer": "ipython3",
   "version": "3.7.11"
  }
 },
 "nbformat": 4,
 "nbformat_minor": 5
}
