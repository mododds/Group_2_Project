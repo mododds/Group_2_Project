{
 "cells": [
  {
   "cell_type": "code",
   "execution_count": 1,
   "id": "5cdb49b7",
   "metadata": {},
   "outputs": [],
   "source": [
    "#ignore warning\n",
    "import warnings\n",
    "warnings.filterwarnings('ignore')"
   ]
  },
  {
   "cell_type": "code",
   "execution_count": 13,
   "id": "37d0a820",
   "metadata": {},
   "outputs": [],
   "source": [
    "# import dependencies\n",
    "import pandas as pd\n",
    "import numpy as np\n",
    "import seaborn as sns\n",
    "import plotly.express as px\n",
    "import matplotlib.pyplot as plt\n",
    "from scipy import stats\n",
    "import datetime\n",
    "import os\n",
    "\n",
    "# set seaborn theme\n",
    "sns.set_style(style=\"whitegrid\")"
   ]
  },
  {
   "cell_type": "code",
   "execution_count": 64,
   "id": "0a238a1c",
   "metadata": {},
   "outputs": [],
   "source": [
    "pd.set_option('display.max_rows', None)\n",
    "pd.set_option('display.max_columns', None)"
   ]
  },
  {
   "cell_type": "code",
   "execution_count": 3,
   "id": "f4639aa4",
   "metadata": {},
   "outputs": [
    {
     "name": "stdout",
     "output_type": "stream",
     "text": [
      "Enter database password········\n",
      "('INTC', 17.0, 4.0, 6.0, 7.0, datetime.datetime(2022, 2, 1, 0, 0), 'LAG_PERF', 'Semiconductors', 3.0, 31, 14.57, 'Customer Incidents,Business Ethics Incidents', 11.6, 21.21967741935484, 32.93, 2.53, 8.044999999999998, 16.08, 2.62, 6.166333333333333, 9.51, 4.79, 6.668666666666666, 9.67, 0.0, 1.1290322580645162, 4.0, 'None')\n"
     ]
    }
   ],
   "source": [
    "%run Connect_Database.ipynb"
   ]
  },
  {
   "cell_type": "code",
   "execution_count": 4,
   "id": "5873a34b",
   "metadata": {},
   "outputs": [
    {
     "data": {
      "text/plain": [
       "Ticker                                  object\n",
       "totalScore                             float64\n",
       "eScore                                 float64\n",
       "sScore                                 float64\n",
       "gScore                                 float64\n",
       "lastRated                       datetime64[ns]\n",
       "esgPerformance                          object\n",
       "peerGroup                               object\n",
       "highestControversy                     float64\n",
       "peerCount                                int64\n",
       "totalPercentile                        float64\n",
       "relatedControversy                      object\n",
       "minPeerESG                             float64\n",
       "avgPeerESG                             float64\n",
       "maxPeerESG                             float64\n",
       "minPeerEnvironment                     float64\n",
       "avgPeerEnvironment                     float64\n",
       "maxPeerEnvironment                     float64\n",
       "minPeerSocial                          float64\n",
       "avgPeerSocial                          float64\n",
       "maxPeerSocial                          float64\n",
       "minPeerGovernance                      float64\n",
       "avgPeerGovernance                      float64\n",
       "maxPeerGovernance                      float64\n",
       "minHighestControversy                  float64\n",
       "avgHighestControversy                  float64\n",
       "maxHighestControversy                  float64\n",
       "controversialBusinessAreas              object\n",
       "Ticker_1                                object\n",
       "longName                                object\n",
       "sector                                  object\n",
       "industry                                object\n",
       "city                                    object\n",
       "state                                   object\n",
       "country                                 object\n",
       "fullTimeEmployees                        int64\n",
       "revenueGrowth                          float64\n",
       "forwardEps                             float64\n",
       "beta                                   float64\n",
       "priceToSalesTrailing12Months           float64\n",
       "forwardPE                              float64\n",
       "dividendRate                           float64\n",
       "trailingPE                             float64\n",
       "bookValue                              float64\n",
       "returnOnAssets                         float64\n",
       "returnOnEquity                         float64\n",
       "averageVolume                            int64\n",
       "volume                                   int64\n",
       "currentPrice                           float64\n",
       "fiftyTwoWeekLow                        float64\n",
       "fiftyTwoWeekHigh                       float64\n",
       "regularMarketPrice                     float64\n",
       "marketCap                                int64\n",
       "dtype: object"
      ]
     },
     "execution_count": 4,
     "metadata": {},
     "output_type": "execute_result"
    }
   ],
   "source": [
    "esg_info_df.dtypes"
   ]
  },
  {
   "cell_type": "code",
   "execution_count": 5,
   "id": "7cf49b47",
   "metadata": {},
   "outputs": [
    {
     "data": {
      "text/plain": [
       "Ticker                          0\n",
       "totalScore                      0\n",
       "eScore                          0\n",
       "sScore                          0\n",
       "gScore                          0\n",
       "lastRated                       0\n",
       "esgPerformance                  0\n",
       "peerGroup                       0\n",
       "highestControversy              0\n",
       "peerCount                       0\n",
       "totalPercentile                 0\n",
       "relatedControversy              0\n",
       "minPeerESG                      0\n",
       "avgPeerESG                      0\n",
       "maxPeerESG                      0\n",
       "minPeerEnvironment              0\n",
       "avgPeerEnvironment              0\n",
       "maxPeerEnvironment              0\n",
       "minPeerSocial                   0\n",
       "avgPeerSocial                   0\n",
       "maxPeerSocial                   0\n",
       "minPeerGovernance               0\n",
       "avgPeerGovernance               0\n",
       "maxPeerGovernance               0\n",
       "minHighestControversy           0\n",
       "avgHighestControversy           0\n",
       "maxHighestControversy           0\n",
       "controversialBusinessAreas      0\n",
       "Ticker_1                        0\n",
       "longName                        0\n",
       "sector                          0\n",
       "industry                        0\n",
       "city                            0\n",
       "state                           0\n",
       "country                         0\n",
       "fullTimeEmployees               0\n",
       "revenueGrowth                   0\n",
       "forwardEps                      0\n",
       "beta                            0\n",
       "priceToSalesTrailing12Months    0\n",
       "forwardPE                       0\n",
       "dividendRate                    0\n",
       "trailingPE                      0\n",
       "bookValue                       0\n",
       "returnOnAssets                  0\n",
       "returnOnEquity                  0\n",
       "averageVolume                   0\n",
       "volume                          0\n",
       "currentPrice                    0\n",
       "fiftyTwoWeekLow                 0\n",
       "fiftyTwoWeekHigh                0\n",
       "regularMarketPrice              0\n",
       "marketCap                       0\n",
       "dtype: int64"
      ]
     },
     "execution_count": 5,
     "metadata": {},
     "output_type": "execute_result"
    }
   ],
   "source": [
    "esg_info_df.isnull().sum()"
   ]
  },
  {
   "cell_type": "code",
   "execution_count": 12,
   "id": "b5f0a4c7",
   "metadata": {},
   "outputs": [
    {
     "data": {
      "text/html": [
       "<div>\n",
       "<style scoped>\n",
       "    .dataframe tbody tr th:only-of-type {\n",
       "        vertical-align: middle;\n",
       "    }\n",
       "\n",
       "    .dataframe tbody tr th {\n",
       "        vertical-align: top;\n",
       "    }\n",
       "\n",
       "    .dataframe thead th {\n",
       "        text-align: right;\n",
       "    }\n",
       "</style>\n",
       "<table border=\"1\" class=\"dataframe\">\n",
       "  <thead>\n",
       "    <tr style=\"text-align: right;\">\n",
       "      <th></th>\n",
       "      <th>totalScore</th>\n",
       "      <th>eScore</th>\n",
       "      <th>sScore</th>\n",
       "      <th>gScore</th>\n",
       "      <th>highestControversy</th>\n",
       "      <th>peerCount</th>\n",
       "      <th>totalPercentile</th>\n",
       "      <th>minPeerESG</th>\n",
       "      <th>avgPeerESG</th>\n",
       "      <th>maxPeerESG</th>\n",
       "      <th>...</th>\n",
       "      <th>bookValue</th>\n",
       "      <th>returnOnAssets</th>\n",
       "      <th>returnOnEquity</th>\n",
       "      <th>averageVolume</th>\n",
       "      <th>volume</th>\n",
       "      <th>currentPrice</th>\n",
       "      <th>fiftyTwoWeekLow</th>\n",
       "      <th>fiftyTwoWeekHigh</th>\n",
       "      <th>regularMarketPrice</th>\n",
       "      <th>marketCap</th>\n",
       "    </tr>\n",
       "  </thead>\n",
       "  <tbody>\n",
       "    <tr>\n",
       "      <th>count</th>\n",
       "      <td>65.000000</td>\n",
       "      <td>65.000000</td>\n",
       "      <td>65.000000</td>\n",
       "      <td>65.000000</td>\n",
       "      <td>65.000000</td>\n",
       "      <td>65.000000</td>\n",
       "      <td>65.000000</td>\n",
       "      <td>65.000000</td>\n",
       "      <td>65.000000</td>\n",
       "      <td>65.000000</td>\n",
       "      <td>...</td>\n",
       "      <td>65.000000</td>\n",
       "      <td>65.000000</td>\n",
       "      <td>65.000000</td>\n",
       "      <td>6.500000e+01</td>\n",
       "      <td>6.500000e+01</td>\n",
       "      <td>65.000000</td>\n",
       "      <td>65.000000</td>\n",
       "      <td>65.000000</td>\n",
       "      <td>65.000000</td>\n",
       "      <td>6.500000e+01</td>\n",
       "    </tr>\n",
       "    <tr>\n",
       "      <th>mean</th>\n",
       "      <td>20.644615</td>\n",
       "      <td>4.421538</td>\n",
       "      <td>9.304615</td>\n",
       "      <td>6.920000</td>\n",
       "      <td>2.415385</td>\n",
       "      <td>78.369231</td>\n",
       "      <td>28.754308</td>\n",
       "      <td>11.132462</td>\n",
       "      <td>22.865530</td>\n",
       "      <td>40.554462</td>\n",
       "      <td>...</td>\n",
       "      <td>43.130708</td>\n",
       "      <td>0.073398</td>\n",
       "      <td>0.472397</td>\n",
       "      <td>1.201343e+07</td>\n",
       "      <td>7.174082e+06</td>\n",
       "      <td>185.020345</td>\n",
       "      <td>150.741480</td>\n",
       "      <td>217.195670</td>\n",
       "      <td>185.017729</td>\n",
       "      <td>2.065353e+11</td>\n",
       "    </tr>\n",
       "    <tr>\n",
       "      <th>std</th>\n",
       "      <td>6.517405</td>\n",
       "      <td>4.835658</td>\n",
       "      <td>3.731640</td>\n",
       "      <td>2.252096</td>\n",
       "      <td>0.899519</td>\n",
       "      <td>40.450034</td>\n",
       "      <td>21.016613</td>\n",
       "      <td>3.227192</td>\n",
       "      <td>4.334667</td>\n",
       "      <td>11.695004</td>\n",
       "      <td>...</td>\n",
       "      <td>51.803482</td>\n",
       "      <td>0.052526</td>\n",
       "      <td>0.885982</td>\n",
       "      <td>2.037070e+07</td>\n",
       "      <td>1.153647e+07</td>\n",
       "      <td>163.240035</td>\n",
       "      <td>135.547904</td>\n",
       "      <td>198.739157</td>\n",
       "      <td>163.242271</td>\n",
       "      <td>4.481379e+11</td>\n",
       "    </tr>\n",
       "    <tr>\n",
       "      <th>min</th>\n",
       "      <td>9.400000</td>\n",
       "      <td>0.000000</td>\n",
       "      <td>2.600000</td>\n",
       "      <td>3.300000</td>\n",
       "      <td>0.000000</td>\n",
       "      <td>14.000000</td>\n",
       "      <td>1.880000</td>\n",
       "      <td>4.670000</td>\n",
       "      <td>14.254444</td>\n",
       "      <td>25.700000</td>\n",
       "      <td>...</td>\n",
       "      <td>-2.297000</td>\n",
       "      <td>0.009680</td>\n",
       "      <td>0.013680</td>\n",
       "      <td>4.597450e+05</td>\n",
       "      <td>3.361710e+05</td>\n",
       "      <td>16.470000</td>\n",
       "      <td>11.140000</td>\n",
       "      <td>17.760000</td>\n",
       "      <td>16.470000</td>\n",
       "      <td>7.937150e+09</td>\n",
       "    </tr>\n",
       "    <tr>\n",
       "      <th>25%</th>\n",
       "      <td>16.000000</td>\n",
       "      <td>0.800000</td>\n",
       "      <td>6.300000</td>\n",
       "      <td>5.600000</td>\n",
       "      <td>2.000000</td>\n",
       "      <td>54.000000</td>\n",
       "      <td>12.120000</td>\n",
       "      <td>9.450000</td>\n",
       "      <td>19.852697</td>\n",
       "      <td>31.670000</td>\n",
       "      <td>...</td>\n",
       "      <td>13.856000</td>\n",
       "      <td>0.029370</td>\n",
       "      <td>0.138380</td>\n",
       "      <td>2.089536e+06</td>\n",
       "      <td>1.453158e+06</td>\n",
       "      <td>68.790000</td>\n",
       "      <td>54.140000</td>\n",
       "      <td>80.290000</td>\n",
       "      <td>68.790000</td>\n",
       "      <td>4.052570e+10</td>\n",
       "    </tr>\n",
       "    <tr>\n",
       "      <th>50%</th>\n",
       "      <td>20.300000</td>\n",
       "      <td>2.500000</td>\n",
       "      <td>9.300000</td>\n",
       "      <td>6.200000</td>\n",
       "      <td>2.000000</td>\n",
       "      <td>83.000000</td>\n",
       "      <td>25.250000</td>\n",
       "      <td>11.060000</td>\n",
       "      <td>22.345690</td>\n",
       "      <td>35.480000</td>\n",
       "      <td>...</td>\n",
       "      <td>24.786000</td>\n",
       "      <td>0.063550</td>\n",
       "      <td>0.225220</td>\n",
       "      <td>3.853954e+06</td>\n",
       "      <td>2.240666e+06</td>\n",
       "      <td>136.460000</td>\n",
       "      <td>118.860000</td>\n",
       "      <td>167.060000</td>\n",
       "      <td>136.460000</td>\n",
       "      <td>9.964627e+10</td>\n",
       "    </tr>\n",
       "    <tr>\n",
       "      <th>75%</th>\n",
       "      <td>25.000000</td>\n",
       "      <td>7.500000</td>\n",
       "      <td>11.500000</td>\n",
       "      <td>8.000000</td>\n",
       "      <td>3.000000</td>\n",
       "      <td>105.000000</td>\n",
       "      <td>42.210000</td>\n",
       "      <td>11.600000</td>\n",
       "      <td>25.861807</td>\n",
       "      <td>48.860000</td>\n",
       "      <td>...</td>\n",
       "      <td>45.522000</td>\n",
       "      <td>0.096240</td>\n",
       "      <td>0.450950</td>\n",
       "      <td>1.071961e+07</td>\n",
       "      <td>6.263488e+06</td>\n",
       "      <td>238.790000</td>\n",
       "      <td>191.740000</td>\n",
       "      <td>272.810000</td>\n",
       "      <td>238.790000</td>\n",
       "      <td>2.054599e+11</td>\n",
       "    </tr>\n",
       "    <tr>\n",
       "      <th>max</th>\n",
       "      <td>36.400000</td>\n",
       "      <td>20.800000</td>\n",
       "      <td>18.000000</td>\n",
       "      <td>15.500000</td>\n",
       "      <td>5.000000</td>\n",
       "      <td>175.000000</td>\n",
       "      <td>81.210000</td>\n",
       "      <td>22.090000</td>\n",
       "      <td>30.502727</td>\n",
       "      <td>68.150000</td>\n",
       "      <td>...</td>\n",
       "      <td>275.256000</td>\n",
       "      <td>0.205530</td>\n",
       "      <td>6.578290</td>\n",
       "      <td>1.043990e+08</td>\n",
       "      <td>6.202308e+07</td>\n",
       "      <td>741.040000</td>\n",
       "      <td>662.260000</td>\n",
       "      <td>973.160000</td>\n",
       "      <td>741.040000</td>\n",
       "      <td>2.844308e+12</td>\n",
       "    </tr>\n",
       "  </tbody>\n",
       "</table>\n",
       "<p>8 rows × 40 columns</p>\n",
       "</div>"
      ],
      "text/plain": [
       "       totalScore     eScore     sScore     gScore  highestControversy  \\\n",
       "count   65.000000  65.000000  65.000000  65.000000           65.000000   \n",
       "mean    20.644615   4.421538   9.304615   6.920000            2.415385   \n",
       "std      6.517405   4.835658   3.731640   2.252096            0.899519   \n",
       "min      9.400000   0.000000   2.600000   3.300000            0.000000   \n",
       "25%     16.000000   0.800000   6.300000   5.600000            2.000000   \n",
       "50%     20.300000   2.500000   9.300000   6.200000            2.000000   \n",
       "75%     25.000000   7.500000  11.500000   8.000000            3.000000   \n",
       "max     36.400000  20.800000  18.000000  15.500000            5.000000   \n",
       "\n",
       "        peerCount  totalPercentile  minPeerESG  avgPeerESG  maxPeerESG  ...  \\\n",
       "count   65.000000        65.000000   65.000000   65.000000   65.000000  ...   \n",
       "mean    78.369231        28.754308   11.132462   22.865530   40.554462  ...   \n",
       "std     40.450034        21.016613    3.227192    4.334667   11.695004  ...   \n",
       "min     14.000000         1.880000    4.670000   14.254444   25.700000  ...   \n",
       "25%     54.000000        12.120000    9.450000   19.852697   31.670000  ...   \n",
       "50%     83.000000        25.250000   11.060000   22.345690   35.480000  ...   \n",
       "75%    105.000000        42.210000   11.600000   25.861807   48.860000  ...   \n",
       "max    175.000000        81.210000   22.090000   30.502727   68.150000  ...   \n",
       "\n",
       "        bookValue  returnOnAssets  returnOnEquity  averageVolume  \\\n",
       "count   65.000000       65.000000       65.000000   6.500000e+01   \n",
       "mean    43.130708        0.073398        0.472397   1.201343e+07   \n",
       "std     51.803482        0.052526        0.885982   2.037070e+07   \n",
       "min     -2.297000        0.009680        0.013680   4.597450e+05   \n",
       "25%     13.856000        0.029370        0.138380   2.089536e+06   \n",
       "50%     24.786000        0.063550        0.225220   3.853954e+06   \n",
       "75%     45.522000        0.096240        0.450950   1.071961e+07   \n",
       "max    275.256000        0.205530        6.578290   1.043990e+08   \n",
       "\n",
       "             volume  currentPrice  fiftyTwoWeekLow  fiftyTwoWeekHigh  \\\n",
       "count  6.500000e+01     65.000000        65.000000         65.000000   \n",
       "mean   7.174082e+06    185.020345       150.741480        217.195670   \n",
       "std    1.153647e+07    163.240035       135.547904        198.739157   \n",
       "min    3.361710e+05     16.470000        11.140000         17.760000   \n",
       "25%    1.453158e+06     68.790000        54.140000         80.290000   \n",
       "50%    2.240666e+06    136.460000       118.860000        167.060000   \n",
       "75%    6.263488e+06    238.790000       191.740000        272.810000   \n",
       "max    6.202308e+07    741.040000       662.260000        973.160000   \n",
       "\n",
       "       regularMarketPrice     marketCap  \n",
       "count           65.000000  6.500000e+01  \n",
       "mean           185.017729  2.065353e+11  \n",
       "std            163.242271  4.481379e+11  \n",
       "min             16.470000  7.937150e+09  \n",
       "25%             68.790000  4.052570e+10  \n",
       "50%            136.460000  9.964627e+10  \n",
       "75%            238.790000  2.054599e+11  \n",
       "max            741.040000  2.844308e+12  \n",
       "\n",
       "[8 rows x 40 columns]"
      ]
     },
     "execution_count": 12,
     "metadata": {},
     "output_type": "execute_result"
    }
   ],
   "source": [
    "esg_info_df.describe()"
   ]
  },
  {
   "cell_type": "code",
   "execution_count": 14,
   "id": "3f638727",
   "metadata": {},
   "outputs": [
    {
     "name": "stdout",
     "output_type": "stream",
     "text": [
      "0.32572850202813664\n"
     ]
    }
   ],
   "source": [
    "print(stats.skew(esg_info_df[\"totalScore\"]))\n"
   ]
  },
  {
   "cell_type": "code",
   "execution_count": 22,
   "id": "b1c7e874",
   "metadata": {},
   "outputs": [
    {
     "data": {
      "text/plain": [
       "<seaborn.axisgrid.FacetGrid at 0x21164574708>"
      ]
     },
     "execution_count": 22,
     "metadata": {},
     "output_type": "execute_result"
    },
    {
     "data": {
      "image/png": "[encoded data removed]",
      "text/plain": [
       "<Figure size 360x360 with 1 Axes>"
      ]
     },
     "metadata": {},
     "output_type": "display_data"
    }
   ],
   "source": [
    "sns.displot(esg_info_df, x=\"totalScore\", kind=\"hist\", kde=True)"
   ]
  },
  {
   "cell_type": "code",
   "execution_count": 86,
   "id": "951af430",
   "metadata": {},
   "outputs": [],
   "source": [
    "preferred_cols = ['eScore', 'sScore', 'gScore']"
   ]
  },
  {
   "cell_type": "code",
   "execution_count": 90,
   "id": "0930506b",
   "metadata": {},
   "outputs": [
    {
     "data": {
      "text/plain": [
       "<seaborn.axisgrid.PairGrid at 0x2116f9ebfc8>"
      ]
     },
     "execution_count": 90,
     "metadata": {},
     "output_type": "execute_result"
    },
    {
     "data": {
      "image/png": "[encoded data removed]",
      "text/plain": [
       "<Figure size 540x540 with 12 Axes>"
      ]
     },
     "metadata": {},
     "output_type": "display_data"
    }
   ],
   "source": [
    "sns.pairplot(data=esg_info_df, vars=preferred_cols)"
   ]
  },
  {
   "cell_type": "code",
   "execution_count": 82,
   "id": "1c6ca711",
   "metadata": {},
   "outputs": [
    {
     "data": {
      "application/vnd.plotly.v1+json": {
       "config": {
        "plotlyServerURL": "https://plot.ly"
       },
       "data": [
        {
         "hovertemplate": "totalScore=%{x}<br>returnOnEquity=%{y}<extra></extra>",
         "legendgroup": "",
         "marker": {
          "color": "#636efa",
          "symbol": "circle"
         },
         "mode": "markers",
         "name": "",
         "orientation": "v",
         "showlegend": false,
         "type": "scatter",
         "x": [
          17,
          13,
          27,
          16.3,
          12.8,
          16.7,
          11.8,
          24.4,
          16,
          17.2,
          16.4,
          27.8,
          11.6,
          9.4,
          22.2,
          14.8,
          29.6,
          15.2,
          16.5,
          32.8,
          21.9,
          29.3,
          30.5,
          17.4,
          11.6,
          12,
          22.1,
          14.7,
          20.2,
          23.2,
          28.8,
          20.7,
          27,
          27.3,
          18.7,
          20.5,
          25,
          28.5,
          27,
          36.4,
          30.3,
          18,
          21.7,
          16.9,
          19.5,
          11.7,
          19,
          26,
          12.1,
          28.3,
          21.9,
          35,
          12.7,
          19,
          25,
          20.3,
          23,
          16.7,
          24.1,
          11.9,
          13,
          23.2,
          14.3,
          22.2,
          24.8
         ],
         "xaxis": "x",
         "y": [
          0.22522,
          0.49051,
          0.11778,
          1.45567,
          0.44832,
          0.31167,
          0.28190002,
          0.05409,
          0.55412996,
          1.2473301,
          0.12995,
          0.10931,
          0.15835,
          0.31948,
          0.01368,
          0.21405001,
          0.45095003,
          0.24493,
          0.27934,
          0.1075,
          0.26036,
          0.16856001,
          0.11048,
          0.21985,
          0.17627001,
          0.51593,
          2.25676,
          0.04048,
          0.73033994,
          0.07253,
          0.74307,
          0.16974,
          0.04705,
          0.30412,
          0.32031,
          0.21384001,
          0.20768999,
          0.59604,
          0.31092,
          0.12636,
          0.096820004,
          1.06739,
          0.22723,
          0.3802,
          0.13838,
          6.57829,
          0.585,
          0.21862,
          0.18979,
          0.088190004,
          0.27365,
          0.15587,
          0.73425,
          0.08315,
          0.59371,
          0.33606,
          0.19481,
          0.28445998,
          0.17579001,
          0.18642999,
          0.09442,
          0.20556,
          0.63223,
          2.29639,
          0.08428001
         ],
         "yaxis": "y"
        },
        {
         "hovertemplate": "<b>OLS trendline</b><br>returnOnEquity = -0.0281842 * totalScore + 1.05425<br>R<sup>2</sup>=0.042984<br><br>totalScore=%{x}<br>returnOnEquity=%{y} <b>(trend)</b><extra></extra>",
         "legendgroup": "",
         "line": {
          "color": "red"
         },
         "marker": {
          "color": "#636efa",
          "symbol": "circle"
         },
         "mode": "lines",
         "name": "",
         "showlegend": false,
         "type": "scatter",
         "x": [
          9.4,
          11.6,
          11.6,
          11.7,
          11.8,
          11.9,
          12,
          12.1,
          12.7,
          12.8,
          13,
          13,
          14.3,
          14.7,
          14.8,
          15.2,
          16,
          16.3,
          16.4,
          16.5,
          16.7,
          16.7,
          16.9,
          17,
          17.2,
          17.4,
          18,
          18.7,
          19,
          19,
          19.5,
          20.2,
          20.3,
          20.5,
          20.7,
          21.7,
          21.9,
          21.9,
          22.1,
          22.2,
          22.2,
          23,
          23.2,
          23.2,
          24.1,
          24.4,
          24.8,
          25,
          25,
          26,
          27,
          27,
          27,
          27.3,
          27.8,
          28.3,
          28.5,
          28.8,
          29.3,
          29.6,
          30.3,
          30.5,
          32.8,
          35,
          36.4
         ],
         "xaxis": "x",
         "y": [
          0.7893177887323397,
          0.7273125655593686,
          0.7273125655593686,
          0.7244941463242336,
          0.7216757270890986,
          0.7188573078539635,
          0.7160388886188285,
          0.7132204693836934,
          0.6963099539728832,
          0.6934915347377482,
          0.6878546962674781,
          0.6878546962674781,
          0.6512152462107224,
          0.6399415692701822,
          0.6371231500350472,
          0.625849473094507,
          0.6033021192134266,
          0.5948468615080214,
          0.5920284422728864,
          0.5892100230377513,
          0.5835731845674812,
          0.5835731845674812,
          0.5779363460972111,
          0.5751179268620761,
          0.569481088391806,
          0.5638442499215359,
          0.5469337345107256,
          0.5272047998647803,
          0.5187495421593752,
          0.5187495421593752,
          0.5046574459836999,
          0.4849285113377546,
          0.48211009210261946,
          0.4764732536323494,
          0.4708364151620793,
          0.4426522228107289,
          0.43701538434045883,
          0.43701538434045883,
          0.43137854587018865,
          0.4285601266350536,
          0.4285601266350536,
          0.4060127727539732,
          0.4003759342837031,
          0.4003759342837031,
          0.37501016116748764,
          0.36655490346208264,
          0.35528122652154237,
          0.3496443880512723,
          0.3496443880512723,
          0.3214601956999218,
          0.2932760033485713,
          0.2932760033485713,
          0.2932760033485713,
          0.2848207456431662,
          0.27072864946749087,
          0.25663655329181567,
          0.2509997148215456,
          0.24254445711614037,
          0.22845236094046517,
          0.21999710323506005,
          0.20026816858911467,
          0.1946313301188446,
          0.12980768771073858,
          0.0678024645377675,
          0.028344595245876736
         ],
         "yaxis": "y"
        }
       ],
       "layout": {
        "legend": {
         "tracegroupgap": 0
        },
        "template": {
         "data": {
          "bar": [
           {
            "error_x": {
             "color": "#2a3f5f"
            },
            "error_y": {
             "color": "#2a3f5f"
            },
            "marker": {
             "line": {
              "color": "#E5ECF6",
              "width": 0.5
             },
             "pattern": {
              "fillmode": "overlay",
              "size": 10,
              "solidity": 0.2
             }
            },
            "type": "bar"
           }
          ],
          "barpolar": [
           {
            "marker": {
             "line": {
              "color": "#E5ECF6",
              "width": 0.5
             },
             "pattern": {
              "fillmode": "overlay",
              "size": 10,
              "solidity": 0.2
             }
            },
            "type": "barpolar"
           }
          ],
          "carpet": [
           {
            "aaxis": {
             "endlinecolor": "#2a3f5f",
             "gridcolor": "white",
             "linecolor": "white",
             "minorgridcolor": "white",
             "startlinecolor": "#2a3f5f"
            },
            "baxis": {
             "endlinecolor": "#2a3f5f",
             "gridcolor": "white",
             "linecolor": "white",
             "minorgridcolor": "white",
             "startlinecolor": "#2a3f5f"
            },
            "type": "carpet"
           }
          ],
          "choropleth": [
           {
            "colorbar": {
             "outlinewidth": 0,
             "ticks": ""
            },
            "type": "choropleth"
           }
          ],
          "contour": [
           {
            "colorbar": {
             "outlinewidth": 0,
             "ticks": ""
            },
            "colorscale": [
             [
              0,
              "#0d0887"
             ],
             [
              0.1111111111111111,
              "#46039f"
             ],
             [
              0.2222222222222222,
              "#7201a8"
             ],
             [
              0.3333333333333333,
              "#9c179e"
             ],
             [
              0.4444444444444444,
              "#bd3786"
             ],
             [
              0.5555555555555556,
              "#d8576b"
             ],
             [
              0.6666666666666666,
              "#ed7953"
             ],
             [
              0.7777777777777778,
              "#fb9f3a"
             ],
             [
              0.8888888888888888,
              "#fdca26"
             ],
             [
              1,
              "#f0f921"
             ]
            ],
            "type": "contour"
           }
          ],
          "contourcarpet": [
           {
            "colorbar": {
             "outlinewidth": 0,
             "ticks": ""
            },
            "type": "contourcarpet"
           }
          ],
          "heatmap": [
           {
            "colorbar": {
             "outlinewidth": 0,
             "ticks": ""
            },
            "colorscale": [
             [
              0,
              "#0d0887"
             ],
             [
              0.1111111111111111,
              "#46039f"
             ],
             [
              0.2222222222222222,
              "#7201a8"
             ],
             [
              0.3333333333333333,
              "#9c179e"
             ],
             [
              0.4444444444444444,
              "#bd3786"
             ],
             [
              0.5555555555555556,
              "#d8576b"
             ],
             [
              0.6666666666666666,
              "#ed7953"
             ],
             [
              0.7777777777777778,
              "#fb9f3a"
             ],
             [
              0.8888888888888888,
              "#fdca26"
             ],
             [
              1,
              "#f0f921"
             ]
            ],
            "type": "heatmap"
           }
          ],
          "heatmapgl": [
           {
            "colorbar": {
             "outlinewidth": 0,
             "ticks": ""
            },
            "colorscale": [
             [
              0,
              "#0d0887"
             ],
             [
              0.1111111111111111,
              "#46039f"
             ],
             [
              0.2222222222222222,
              "#7201a8"
             ],
             [
              0.3333333333333333,
              "#9c179e"
             ],
             [
              0.4444444444444444,
              "#bd3786"
             ],
             [
              0.5555555555555556,
              "#d8576b"
             ],
             [
              0.6666666666666666,
              "#ed7953"
             ],
             [
              0.7777777777777778,
              "#fb9f3a"
             ],
             [
              0.8888888888888888,
              "#fdca26"
             ],
             [
              1,
              "#f0f921"
             ]
            ],
            "type": "heatmapgl"
           }
          ],
          "histogram": [
           {
            "marker": {
             "pattern": {
              "fillmode": "overlay",
              "size": 10,
              "solidity": 0.2
             }
            },
            "type": "histogram"
           }
          ],
          "histogram2d": [
           {
            "colorbar": {
             "outlinewidth": 0,
             "ticks": ""
            },
            "colorscale": [
             [
              0,
              "#0d0887"
             ],
             [
              0.1111111111111111,
              "#46039f"
             ],
             [
              0.2222222222222222,
              "#7201a8"
             ],
             [
              0.3333333333333333,
              "#9c179e"
             ],
             [
              0.4444444444444444,
              "#bd3786"
             ],
             [
              0.5555555555555556,
              "#d8576b"
             ],
             [
              0.6666666666666666,
              "#ed7953"
             ],
             [
              0.7777777777777778,
              "#fb9f3a"
             ],
             [
              0.8888888888888888,
              "#fdca26"
             ],
             [
              1,
              "#f0f921"
             ]
            ],
            "type": "histogram2d"
           }
          ],
          "histogram2dcontour": [
           {
            "colorbar": {
             "outlinewidth": 0,
             "ticks": ""
            },
            "colorscale": [
             [
              0,
              "#0d0887"
             ],
             [
              0.1111111111111111,
              "#46039f"
             ],
             [
              0.2222222222222222,
              "#7201a8"
             ],
             [
              0.3333333333333333,
              "#9c179e"
             ],
             [
              0.4444444444444444,
              "#bd3786"
             ],
             [
              0.5555555555555556,
              "#d8576b"
             ],
             [
              0.6666666666666666,
              "#ed7953"
             ],
             [
              0.7777777777777778,
              "#fb9f3a"
             ],
             [
              0.8888888888888888,
              "#fdca26"
             ],
             [
              1,
              "#f0f921"
             ]
            ],
            "type": "histogram2dcontour"
           }
          ],
          "mesh3d": [
           {
            "colorbar": {
             "outlinewidth": 0,
             "ticks": ""
            },
            "type": "mesh3d"
           }
          ],
          "parcoords": [
           {
            "line": {
             "colorbar": {
              "outlinewidth": 0,
              "ticks": ""
             }
            },
            "type": "parcoords"
           }
          ],
          "pie": [
           {
            "automargin": true,
            "type": "pie"
           }
          ],
          "scatter": [
           {
            "marker": {
             "colorbar": {
              "outlinewidth": 0,
              "ticks": ""
             }
            },
            "type": "scatter"
           }
          ],
          "scatter3d": [
           {
            "line": {
             "colorbar": {
              "outlinewidth": 0,
              "ticks": ""
             }
            },
            "marker": {
             "colorbar": {
              "outlinewidth": 0,
              "ticks": ""
             }
            },
            "type": "scatter3d"
           }
          ],
          "scattercarpet": [
           {
            "marker": {
             "colorbar": {
              "outlinewidth": 0,
              "ticks": ""
             }
            },
            "type": "scattercarpet"
           }
          ],
          "scattergeo": [
           {
            "marker": {
             "colorbar": {
              "outlinewidth": 0,
              "ticks": ""
             }
            },
            "type": "scattergeo"
           }
          ],
          "scattergl": [
           {
            "marker": {
             "colorbar": {
              "outlinewidth": 0,
              "ticks": ""
             }
            },
            "type": "scattergl"
           }
          ],
          "scattermapbox": [
           {
            "marker": {
             "colorbar": {
              "outlinewidth": 0,
              "ticks": ""
             }
            },
            "type": "scattermapbox"
           }
          ],
          "scatterpolar": [
           {
            "marker": {
             "colorbar": {
              "outlinewidth": 0,
              "ticks": ""
             }
            },
            "type": "scatterpolar"
           }
          ],
          "scatterpolargl": [
           {
            "marker": {
             "colorbar": {
              "outlinewidth": 0,
              "ticks": ""
             }
            },
            "type": "scatterpolargl"
           }
          ],
          "scatterternary": [
           {
            "marker": {
             "colorbar": {
              "outlinewidth": 0,
              "ticks": ""
             }
            },
            "type": "scatterternary"
           }
          ],
          "surface": [
           {
            "colorbar": {
             "outlinewidth": 0,
             "ticks": ""
            },
            "colorscale": [
             [
              0,
              "#0d0887"
             ],
             [
              0.1111111111111111,
              "#46039f"
             ],
             [
              0.2222222222222222,
              "#7201a8"
             ],
             [
              0.3333333333333333,
              "#9c179e"
             ],
             [
              0.4444444444444444,
              "#bd3786"
             ],
             [
              0.5555555555555556,
              "#d8576b"
             ],
             [
              0.6666666666666666,
              "#ed7953"
             ],
             [
              0.7777777777777778,
              "#fb9f3a"
             ],
             [
              0.8888888888888888,
              "#fdca26"
             ],
             [
              1,
              "#f0f921"
             ]
            ],
            "type": "surface"
           }
          ],
          "table": [
           {
            "cells": {
             "fill": {
              "color": "#EBF0F8"
             },
             "line": {
              "color": "white"
             }
            },
            "header": {
             "fill": {
              "color": "#C8D4E3"
             },
             "line": {
              "color": "white"
             }
            },
            "type": "table"
           }
          ]
         },
         "layout": {
          "annotationdefaults": {
           "arrowcolor": "#2a3f5f",
           "arrowhead": 0,
           "arrowwidth": 1
          },
          "autotypenumbers": "strict",
          "coloraxis": {
           "colorbar": {
            "outlinewidth": 0,
            "ticks": ""
           }
          },
          "colorscale": {
           "diverging": [
            [
             0,
             "#8e0152"
            ],
            [
             0.1,
             "#c51b7d"
            ],
            [
             0.2,
             "#de77ae"
            ],
            [
             0.3,
             "#f1b6da"
            ],
            [
             0.4,
             "#fde0ef"
            ],
            [
             0.5,
             "#f7f7f7"
            ],
            [
             0.6,
             "#e6f5d0"
            ],
            [
             0.7,
             "#b8e186"
            ],
            [
             0.8,
             "#7fbc41"
            ],
            [
             0.9,
             "#4d9221"
            ],
            [
             1,
             "#276419"
            ]
           ],
           "sequential": [
            [
             0,
             "#0d0887"
            ],
            [
             0.1111111111111111,
             "#46039f"
            ],
            [
             0.2222222222222222,
             "#7201a8"
            ],
            [
             0.3333333333333333,
             "#9c179e"
            ],
            [
             0.4444444444444444,
             "#bd3786"
            ],
            [
             0.5555555555555556,
             "#d8576b"
            ],
            [
             0.6666666666666666,
             "#ed7953"
            ],
            [
             0.7777777777777778,
             "#fb9f3a"
            ],
            [
             0.8888888888888888,
             "#fdca26"
            ],
            [
             1,
             "#f0f921"
            ]
           ],
           "sequentialminus": [
            [
             0,
             "#0d0887"
            ],
            [
             0.1111111111111111,
             "#46039f"
            ],
            [
             0.2222222222222222,
             "#7201a8"
            ],
            [
             0.3333333333333333,
             "#9c179e"
            ],
            [
             0.4444444444444444,
             "#bd3786"
            ],
            [
             0.5555555555555556,
             "#d8576b"
            ],
            [
             0.6666666666666666,
             "#ed7953"
            ],
            [
             0.7777777777777778,
             "#fb9f3a"
            ],
            [
             0.8888888888888888,
             "#fdca26"
            ],
            [
             1,
             "#f0f921"
            ]
           ]
          },
          "colorway": [
           "#636efa",
           "#EF553B",
           "#00cc96",
           "#ab63fa",
           "#FFA15A",
           "#19d3f3",
           "#FF6692",
           "#B6E880",
           "#FF97FF",
           "#FECB52"
          ],
          "font": {
           "color": "#2a3f5f"
          },
          "geo": {
           "bgcolor": "white",
           "lakecolor": "white",
           "landcolor": "#E5ECF6",
           "showlakes": true,
           "showland": true,
           "subunitcolor": "white"
          },
          "hoverlabel": {
           "align": "left"
          },
          "hovermode": "closest",
          "mapbox": {
           "style": "light"
          },
          "paper_bgcolor": "white",
          "plot_bgcolor": "#E5ECF6",
          "polar": {
           "angularaxis": {
            "gridcolor": "white",
            "linecolor": "white",
            "ticks": ""
           },
           "bgcolor": "#E5ECF6",
           "radialaxis": {
            "gridcolor": "white",
            "linecolor": "white",
            "ticks": ""
           }
          },
          "scene": {
           "xaxis": {
            "backgroundcolor": "#E5ECF6",
            "gridcolor": "white",
            "gridwidth": 2,
            "linecolor": "white",
            "showbackground": true,
            "ticks": "",
            "zerolinecolor": "white"
           },
           "yaxis": {
            "backgroundcolor": "#E5ECF6",
            "gridcolor": "white",
            "gridwidth": 2,
            "linecolor": "white",
            "showbackground": true,
            "ticks": "",
            "zerolinecolor": "white"
           },
           "zaxis": {
            "backgroundcolor": "#E5ECF6",
            "gridcolor": "white",
            "gridwidth": 2,
            "linecolor": "white",
            "showbackground": true,
            "ticks": "",
            "zerolinecolor": "white"
           }
          },
          "shapedefaults": {
           "line": {
            "color": "#2a3f5f"
           }
          },
          "ternary": {
           "aaxis": {
            "gridcolor": "white",
            "linecolor": "white",
            "ticks": ""
           },
           "baxis": {
            "gridcolor": "white",
            "linecolor": "white",
            "ticks": ""
           },
           "bgcolor": "#E5ECF6",
           "caxis": {
            "gridcolor": "white",
            "linecolor": "white",
            "ticks": ""
           }
          },
          "title": {
           "x": 0.05
          },
          "xaxis": {
           "automargin": true,
           "gridcolor": "white",
           "linecolor": "white",
           "ticks": "",
           "title": {
            "standoff": 15
           },
           "zerolinecolor": "white",
           "zerolinewidth": 2
          },
          "yaxis": {
           "automargin": true,
           "gridcolor": "white",
           "linecolor": "white",
           "ticks": "",
           "title": {
            "standoff": 15
           },
           "zerolinecolor": "white",
           "zerolinewidth": 2
          }
         }
        },
        "title": {
         "text": "Correlation between Total ESG Score and Return on Equity is: -0.21"
        },
        "xaxis": {
         "anchor": "y",
         "domain": [
          0,
          1
         ],
         "title": {
          "text": "totalScore"
         }
        },
        "yaxis": {
         "anchor": "x",
         "domain": [
          0,
          1
         ],
         "title": {
          "text": "returnOnEquity"
         }
        }
       }
      },
      "text/html": [
       "<div>                            <div id=\"1173122d-3988-4467-901b-3f4490104296\" class=\"plotly-graph-div\" style=\"height:525px; width:100%;\"></div>            <script type=\"text/javascript\">                require([\"plotly\"], function(Plotly) {                    window.PLOTLYENV=window.PLOTLYENV || {};                                    if (document.getElementById(\"1173122d-3988-4467-901b-3f4490104296\")) {                    Plotly.newPlot(                        \"1173122d-3988-4467-901b-3f4490104296\",                        [{\"hovertemplate\":\"totalScore=%{x}<br>returnOnEquity=%{y}<extra></extra>\",\"legendgroup\":\"\",\"marker\":{\"color\":\"#636efa\",\"symbol\":\"circle\"},\"mode\":\"markers\",\"name\":\"\",\"orientation\":\"v\",\"showlegend\":false,\"x\":[17.0,13.0,27.0,16.3,12.8,16.7,11.8,24.4,16.0,17.2,16.4,27.8,11.6,9.4,22.2,14.8,29.6,15.2,16.5,32.8,21.9,29.3,30.5,17.4,11.6,12.0,22.1,14.7,20.2,23.2,28.8,20.7,27.0,27.3,18.7,20.5,25.0,28.5,27.0,36.4,30.3,18.0,21.7,16.9,19.5,11.7,19.0,26.0,12.1,28.3,21.9,35.0,12.7,19.0,25.0,20.3,23.0,16.7,24.1,11.9,13.0,23.2,14.3,22.2,24.8],\"xaxis\":\"x\",\"y\":[0.22522,0.49051,0.11778,1.45567,0.44832,0.31167,0.28190002,0.05409,0.55412996,1.2473301,0.12995,0.10931,0.15835,0.31948,0.01368,0.21405001,0.45095003,0.24493,0.27934,0.1075,0.26036,0.16856001,0.11048,0.21985,0.17627001,0.51593,2.25676,0.04048,0.73033994,0.07253,0.74307,0.16974,0.04705,0.30412,0.32031,0.21384001,0.20768999,0.59604,0.31092,0.12636,0.096820004,1.06739,0.22723,0.3802,0.13838,6.57829,0.585,0.21862,0.18979,0.088190004,0.27365,0.15587,0.73425,0.08315,0.59371,0.33606,0.19481,0.28445998,0.17579001,0.18642999,0.09442,0.20556,0.63223,2.29639,0.08428001],\"yaxis\":\"y\",\"type\":\"scatter\"},{\"hovertemplate\":\"<b>OLS trendline</b><br>returnOnEquity = -0.0281842 * totalScore + 1.05425<br>R<sup>2</sup>=0.042984<br><br>totalScore=%{x}<br>returnOnEquity=%{y} <b>(trend)</b><extra></extra>\",\"legendgroup\":\"\",\"line\":{\"color\":\"red\"},\"marker\":{\"color\":\"#636efa\",\"symbol\":\"circle\"},\"mode\":\"lines\",\"name\":\"\",\"showlegend\":false,\"x\":[9.4,11.6,11.6,11.7,11.8,11.9,12.0,12.1,12.7,12.8,13.0,13.0,14.3,14.7,14.8,15.2,16.0,16.3,16.4,16.5,16.7,16.7,16.9,17.0,17.2,17.4,18.0,18.7,19.0,19.0,19.5,20.2,20.3,20.5,20.7,21.7,21.9,21.9,22.1,22.2,22.2,23.0,23.2,23.2,24.1,24.4,24.8,25.0,25.0,26.0,27.0,27.0,27.0,27.3,27.8,28.3,28.5,28.8,29.3,29.6,30.3,30.5,32.8,35.0,36.4],\"xaxis\":\"x\",\"y\":[0.7893177887323397,0.7273125655593686,0.7273125655593686,0.7244941463242336,0.7216757270890986,0.7188573078539635,0.7160388886188285,0.7132204693836934,0.6963099539728832,0.6934915347377482,0.6878546962674781,0.6878546962674781,0.6512152462107224,0.6399415692701822,0.6371231500350472,0.625849473094507,0.6033021192134266,0.5948468615080214,0.5920284422728864,0.5892100230377513,0.5835731845674812,0.5835731845674812,0.5779363460972111,0.5751179268620761,0.569481088391806,0.5638442499215359,0.5469337345107256,0.5272047998647803,0.5187495421593752,0.5187495421593752,0.5046574459836999,0.4849285113377546,0.48211009210261946,0.4764732536323494,0.4708364151620793,0.4426522228107289,0.43701538434045883,0.43701538434045883,0.43137854587018865,0.4285601266350536,0.4285601266350536,0.4060127727539732,0.4003759342837031,0.4003759342837031,0.37501016116748764,0.36655490346208264,0.35528122652154237,0.3496443880512723,0.3496443880512723,0.3214601956999218,0.2932760033485713,0.2932760033485713,0.2932760033485713,0.2848207456431662,0.27072864946749087,0.25663655329181567,0.2509997148215456,0.24254445711614037,0.22845236094046517,0.21999710323506005,0.20026816858911467,0.1946313301188446,0.12980768771073858,0.0678024645377675,0.028344595245876736],\"yaxis\":\"y\",\"type\":\"scatter\"}],                        {\"template\":{\"data\":{\"bar\":[{\"error_x\":{\"color\":\"#2a3f5f\"},\"error_y\":{\"color\":\"#2a3f5f\"},\"marker\":{\"line\":{\"color\":\"#E5ECF6\",\"width\":0.5},\"pattern\":{\"fillmode\":\"overlay\",\"size\":10,\"solidity\":0.2}},\"type\":\"bar\"}],\"barpolar\":[{\"marker\":{\"line\":{\"color\":\"#E5ECF6\",\"width\":0.5},\"pattern\":{\"fillmode\":\"overlay\",\"size\":10,\"solidity\":0.2}},\"type\":\"barpolar\"}],\"carpet\":[{\"aaxis\":{\"endlinecolor\":\"#2a3f5f\",\"gridcolor\":\"white\",\"linecolor\":\"white\",\"minorgridcolor\":\"white\",\"startlinecolor\":\"#2a3f5f\"},\"baxis\":{\"endlinecolor\":\"#2a3f5f\",\"gridcolor\":\"white\",\"linecolor\":\"white\",\"minorgridcolor\":\"white\",\"startlinecolor\":\"#2a3f5f\"},\"type\":\"carpet\"}],\"choropleth\":[{\"colorbar\":{\"outlinewidth\":0,\"ticks\":\"\"},\"type\":\"choropleth\"}],\"contour\":[{\"colorbar\":{\"outlinewidth\":0,\"ticks\":\"\"},\"colorscale\":[[0.0,\"#0d0887\"],[0.1111111111111111,\"#46039f\"],[0.2222222222222222,\"#7201a8\"],[0.3333333333333333,\"#9c179e\"],[0.4444444444444444,\"#bd3786\"],[0.5555555555555556,\"#d8576b\"],[0.6666666666666666,\"#ed7953\"],[0.7777777777777778,\"#fb9f3a\"],[0.8888888888888888,\"#fdca26\"],[1.0,\"#f0f921\"]],\"type\":\"contour\"}],\"contourcarpet\":[{\"colorbar\":{\"outlinewidth\":0,\"ticks\":\"\"},\"type\":\"contourcarpet\"}],\"heatmap\":[{\"colorbar\":{\"outlinewidth\":0,\"ticks\":\"\"},\"colorscale\":[[0.0,\"#0d0887\"],[0.1111111111111111,\"#46039f\"],[0.2222222222222222,\"#7201a8\"],[0.3333333333333333,\"#9c179e\"],[0.4444444444444444,\"#bd3786\"],[0.5555555555555556,\"#d8576b\"],[0.6666666666666666,\"#ed7953\"],[0.7777777777777778,\"#fb9f3a\"],[0.8888888888888888,\"#fdca26\"],[1.0,\"#f0f921\"]],\"type\":\"heatmap\"}],\"heatmapgl\":[{\"colorbar\":{\"outlinewidth\":0,\"ticks\":\"\"},\"colorscale\":[[0.0,\"#0d0887\"],[0.1111111111111111,\"#46039f\"],[0.2222222222222222,\"#7201a8\"],[0.3333333333333333,\"#9c179e\"],[0.4444444444444444,\"#bd3786\"],[0.5555555555555556,\"#d8576b\"],[0.6666666666666666,\"#ed7953\"],[0.7777777777777778,\"#fb9f3a\"],[0.8888888888888888,\"#fdca26\"],[1.0,\"#f0f921\"]],\"type\":\"heatmapgl\"}],\"histogram\":[{\"marker\":{\"pattern\":{\"fillmode\":\"overlay\",\"size\":10,\"solidity\":0.2}},\"type\":\"histogram\"}],\"histogram2d\":[{\"colorbar\":{\"outlinewidth\":0,\"ticks\":\"\"},\"colorscale\":[[0.0,\"#0d0887\"],[0.1111111111111111,\"#46039f\"],[0.2222222222222222,\"#7201a8\"],[0.3333333333333333,\"#9c179e\"],[0.4444444444444444,\"#bd3786\"],[0.5555555555555556,\"#d8576b\"],[0.6666666666666666,\"#ed7953\"],[0.7777777777777778,\"#fb9f3a\"],[0.8888888888888888,\"#fdca26\"],[1.0,\"#f0f921\"]],\"type\":\"histogram2d\"}],\"histogram2dcontour\":[{\"colorbar\":{\"outlinewidth\":0,\"ticks\":\"\"},\"colorscale\":[[0.0,\"#0d0887\"],[0.1111111111111111,\"#46039f\"],[0.2222222222222222,\"#7201a8\"],[0.3333333333333333,\"#9c179e\"],[0.4444444444444444,\"#bd3786\"],[0.5555555555555556,\"#d8576b\"],[0.6666666666666666,\"#ed7953\"],[0.7777777777777778,\"#fb9f3a\"],[0.8888888888888888,\"#fdca26\"],[1.0,\"#f0f921\"]],\"type\":\"histogram2dcontour\"}],\"mesh3d\":[{\"colorbar\":{\"outlinewidth\":0,\"ticks\":\"\"},\"type\":\"mesh3d\"}],\"parcoords\":[{\"line\":{\"colorbar\":{\"outlinewidth\":0,\"ticks\":\"\"}},\"type\":\"parcoords\"}],\"pie\":[{\"automargin\":true,\"type\":\"pie\"}],\"scatter\":[{\"marker\":{\"colorbar\":{\"outlinewidth\":0,\"ticks\":\"\"}},\"type\":\"scatter\"}],\"scatter3d\":[{\"line\":{\"colorbar\":{\"outlinewidth\":0,\"ticks\":\"\"}},\"marker\":{\"colorbar\":{\"outlinewidth\":0,\"ticks\":\"\"}},\"type\":\"scatter3d\"}],\"scattercarpet\":[{\"marker\":{\"colorbar\":{\"outlinewidth\":0,\"ticks\":\"\"}},\"type\":\"scattercarpet\"}],\"scattergeo\":[{\"marker\":{\"colorbar\":{\"outlinewidth\":0,\"ticks\":\"\"}},\"type\":\"scattergeo\"}],\"scattergl\":[{\"marker\":{\"colorbar\":{\"outlinewidth\":0,\"ticks\":\"\"}},\"type\":\"scattergl\"}],\"scattermapbox\":[{\"marker\":{\"colorbar\":{\"outlinewidth\":0,\"ticks\":\"\"}},\"type\":\"scattermapbox\"}],\"scatterpolar\":[{\"marker\":{\"colorbar\":{\"outlinewidth\":0,\"ticks\":\"\"}},\"type\":\"scatterpolar\"}],\"scatterpolargl\":[{\"marker\":{\"colorbar\":{\"outlinewidth\":0,\"ticks\":\"\"}},\"type\":\"scatterpolargl\"}],\"scatterternary\":[{\"marker\":{\"colorbar\":{\"outlinewidth\":0,\"ticks\":\"\"}},\"type\":\"scatterternary\"}],\"surface\":[{\"colorbar\":{\"outlinewidth\":0,\"ticks\":\"\"},\"colorscale\":[[0.0,\"#0d0887\"],[0.1111111111111111,\"#46039f\"],[0.2222222222222222,\"#7201a8\"],[0.3333333333333333,\"#9c179e\"],[0.4444444444444444,\"#bd3786\"],[0.5555555555555556,\"#d8576b\"],[0.6666666666666666,\"#ed7953\"],[0.7777777777777778,\"#fb9f3a\"],[0.8888888888888888,\"#fdca26\"],[1.0,\"#f0f921\"]],\"type\":\"surface\"}],\"table\":[{\"cells\":{\"fill\":{\"color\":\"#EBF0F8\"},\"line\":{\"color\":\"white\"}},\"header\":{\"fill\":{\"color\":\"#C8D4E3\"},\"line\":{\"color\":\"white\"}},\"type\":\"table\"}]},\"layout\":{\"annotationdefaults\":{\"arrowcolor\":\"#2a3f5f\",\"arrowhead\":0,\"arrowwidth\":1},\"autotypenumbers\":\"strict\",\"coloraxis\":{\"colorbar\":{\"outlinewidth\":0,\"ticks\":\"\"}},\"colorscale\":{\"diverging\":[[0,\"#8e0152\"],[0.1,\"#c51b7d\"],[0.2,\"#de77ae\"],[0.3,\"#f1b6da\"],[0.4,\"#fde0ef\"],[0.5,\"#f7f7f7\"],[0.6,\"#e6f5d0\"],[0.7,\"#b8e186\"],[0.8,\"#7fbc41\"],[0.9,\"#4d9221\"],[1,\"#276419\"]],\"sequential\":[[0.0,\"#0d0887\"],[0.1111111111111111,\"#46039f\"],[0.2222222222222222,\"#7201a8\"],[0.3333333333333333,\"#9c179e\"],[0.4444444444444444,\"#bd3786\"],[0.5555555555555556,\"#d8576b\"],[0.6666666666666666,\"#ed7953\"],[0.7777777777777778,\"#fb9f3a\"],[0.8888888888888888,\"#fdca26\"],[1.0,\"#f0f921\"]],\"sequentialminus\":[[0.0,\"#0d0887\"],[0.1111111111111111,\"#46039f\"],[0.2222222222222222,\"#7201a8\"],[0.3333333333333333,\"#9c179e\"],[0.4444444444444444,\"#bd3786\"],[0.5555555555555556,\"#d8576b\"],[0.6666666666666666,\"#ed7953\"],[0.7777777777777778,\"#fb9f3a\"],[0.8888888888888888,\"#fdca26\"],[1.0,\"#f0f921\"]]},\"colorway\":[\"#636efa\",\"#EF553B\",\"#00cc96\",\"#ab63fa\",\"#FFA15A\",\"#19d3f3\",\"#FF6692\",\"#B6E880\",\"#FF97FF\",\"#FECB52\"],\"font\":{\"color\":\"#2a3f5f\"},\"geo\":{\"bgcolor\":\"white\",\"lakecolor\":\"white\",\"landcolor\":\"#E5ECF6\",\"showlakes\":true,\"showland\":true,\"subunitcolor\":\"white\"},\"hoverlabel\":{\"align\":\"left\"},\"hovermode\":\"closest\",\"mapbox\":{\"style\":\"light\"},\"paper_bgcolor\":\"white\",\"plot_bgcolor\":\"#E5ECF6\",\"polar\":{\"angularaxis\":{\"gridcolor\":\"white\",\"linecolor\":\"white\",\"ticks\":\"\"},\"bgcolor\":\"#E5ECF6\",\"radialaxis\":{\"gridcolor\":\"white\",\"linecolor\":\"white\",\"ticks\":\"\"}},\"scene\":{\"xaxis\":{\"backgroundcolor\":\"#E5ECF6\",\"gridcolor\":\"white\",\"gridwidth\":2,\"linecolor\":\"white\",\"showbackground\":true,\"ticks\":\"\",\"zerolinecolor\":\"white\"},\"yaxis\":{\"backgroundcolor\":\"#E5ECF6\",\"gridcolor\":\"white\",\"gridwidth\":2,\"linecolor\":\"white\",\"showbackground\":true,\"ticks\":\"\",\"zerolinecolor\":\"white\"},\"zaxis\":{\"backgroundcolor\":\"#E5ECF6\",\"gridcolor\":\"white\",\"gridwidth\":2,\"linecolor\":\"white\",\"showbackground\":true,\"ticks\":\"\",\"zerolinecolor\":\"white\"}},\"shapedefaults\":{\"line\":{\"color\":\"#2a3f5f\"}},\"ternary\":{\"aaxis\":{\"gridcolor\":\"white\",\"linecolor\":\"white\",\"ticks\":\"\"},\"baxis\":{\"gridcolor\":\"white\",\"linecolor\":\"white\",\"ticks\":\"\"},\"bgcolor\":\"#E5ECF6\",\"caxis\":{\"gridcolor\":\"white\",\"linecolor\":\"white\",\"ticks\":\"\"}},\"title\":{\"x\":0.05},\"xaxis\":{\"automargin\":true,\"gridcolor\":\"white\",\"linecolor\":\"white\",\"ticks\":\"\",\"title\":{\"standoff\":15},\"zerolinecolor\":\"white\",\"zerolinewidth\":2},\"yaxis\":{\"automargin\":true,\"gridcolor\":\"white\",\"linecolor\":\"white\",\"ticks\":\"\",\"title\":{\"standoff\":15},\"zerolinecolor\":\"white\",\"zerolinewidth\":2}}},\"xaxis\":{\"anchor\":\"y\",\"domain\":[0.0,1.0],\"title\":{\"text\":\"totalScore\"}},\"yaxis\":{\"anchor\":\"x\",\"domain\":[0.0,1.0],\"title\":{\"text\":\"returnOnEquity\"}},\"legend\":{\"tracegroupgap\":0},\"title\":{\"text\":\"Correlation between Total ESG Score and Return on Equity is: -0.21\"}},                        {\"responsive\": true}                    ).then(function(){\n",
       "                            \n",
       "var gd = document.getElementById('1173122d-3988-4467-901b-3f4490104296');\n",
       "var x = new MutationObserver(function (mutations, observer) {{\n",
       "        var display = window.getComputedStyle(gd).display;\n",
       "        if (!display || display === 'none') {{\n",
       "            console.log([gd, 'removed!']);\n",
       "            Plotly.purge(gd);\n",
       "            observer.disconnect();\n",
       "        }}\n",
       "}});\n",
       "\n",
       "// Listen for the removal of the full notebook cells\n",
       "var notebookContainer = gd.closest('#notebook-container');\n",
       "if (notebookContainer) {{\n",
       "    x.observe(notebookContainer, {childList: true});\n",
       "}}\n",
       "\n",
       "// Listen for the clearing of the current output cell\n",
       "var outputEl = gd.closest('.output');\n",
       "if (outputEl) {{\n",
       "    x.observe(outputEl, {childList: true});\n",
       "}}\n",
       "\n",
       "                        })                };                });            </script>        </div>"
      ]
     },
     "metadata": {},
     "output_type": "display_data"
    }
   ],
   "source": [
    "corr_value = esg_info_df[\"totalScore\"].corr(esg_info_df[\"returnOnEquity\"])\n",
    "\n",
    "fig = px.scatter(\n",
    "    data_frame=esg_info_df,\n",
    "    x=\"totalScore\",\n",
    "    y=\"returnOnEquity\",\n",
    "#     marginal_x=\"histogram\",\n",
    "#     marginal_y=\"histogram\",\n",
    "    trendline=\"ols\",\n",
    "    trendline_color_override=\"red\",\n",
    "    title=f\"Correlation between Total ESG Score and Return on Equity is: {corr_value:.2f}\",\n",
    ")\n",
    "\n",
    "fig.show()"
   ]
  },
  {
   "cell_type": "code",
   "execution_count": 37,
   "id": "59af2f9d",
   "metadata": {},
   "outputs": [
    {
     "data": {
      "text/plain": [
       "Ticker                  0\n",
       "animalTesting           0\n",
       "catholicValues          0\n",
       "controversialWeapons    0\n",
       "militaryContracting     0\n",
       "None                    0\n",
       "Nuclear                 0\n",
       "smallArms               0\n",
       "thermalCoal             0\n",
       "dtype: int64"
      ]
     },
     "execution_count": 37,
     "metadata": {},
     "output_type": "execute_result"
    }
   ],
   "source": [
    "business_controversy_df.isnull().sum()"
   ]
  },
  {
   "cell_type": "code",
   "execution_count": 40,
   "id": "c0ac79a9",
   "metadata": {},
   "outputs": [
    {
     "data": {
      "text/plain": [
       "Ticker                  object\n",
       "animalTesting            int64\n",
       "catholicValues           int64\n",
       "controversialWeapons     int64\n",
       "militaryContracting      int64\n",
       "None                     int64\n",
       "Nuclear                  int64\n",
       "smallArms                int64\n",
       "thermalCoal              int64\n",
       "dtype: object"
      ]
     },
     "execution_count": 40,
     "metadata": {},
     "output_type": "execute_result"
    }
   ],
   "source": [
    "business_controversy_df.dtypes"
   ]
  },
  {
   "cell_type": "code",
   "execution_count": 80,
   "id": "bb2503b2",
   "metadata": {},
   "outputs": [
    {
     "data": {
      "application/vnd.plotly.v1+json": {
       "config": {
        "plotlyServerURL": "https://plot.ly"
       },
       "data": [
        {
         "domain": {
          "x": [
           0,
           1
          ],
          "y": [
           0,
           1
          ]
         },
         "hovertemplate": "label=%{label}<br>value=%{value}<extra></extra>",
         "labels": [
          "AnimalTesting",
          "Catholic Values",
          "Controversial Weapons",
          "Military Contracting",
          "None",
          "Nuclear",
          "Small Arms",
          "Thermal Coal"
         ],
         "legendgroup": "",
         "name": "",
         "showlegend": true,
         "textinfo": "percent+label",
         "textposition": "auto",
         "type": "pie",
         "values": [
          14,
          6,
          2,
          2,
          43,
          4,
          1,
          3
         ]
        }
       ],
       "layout": {
        "legend": {
         "tracegroupgap": 0
        },
        "template": {
         "data": {
          "bar": [
           {
            "error_x": {
             "color": "#2a3f5f"
            },
            "error_y": {
             "color": "#2a3f5f"
            },
            "marker": {
             "line": {
              "color": "#E5ECF6",
              "width": 0.5
             },
             "pattern": {
              "fillmode": "overlay",
              "size": 10,
              "solidity": 0.2
             }
            },
            "type": "bar"
           }
          ],
          "barpolar": [
           {
            "marker": {
             "line": {
              "color": "#E5ECF6",
              "width": 0.5
             },
             "pattern": {
              "fillmode": "overlay",
              "size": 10,
              "solidity": 0.2
             }
            },
            "type": "barpolar"
           }
          ],
          "carpet": [
           {
            "aaxis": {
             "endlinecolor": "#2a3f5f",
             "gridcolor": "white",
             "linecolor": "white",
             "minorgridcolor": "white",
             "startlinecolor": "#2a3f5f"
            },
            "baxis": {
             "endlinecolor": "#2a3f5f",
             "gridcolor": "white",
             "linecolor": "white",
             "minorgridcolor": "white",
             "startlinecolor": "#2a3f5f"
            },
            "type": "carpet"
           }
          ],
          "choropleth": [
           {
            "colorbar": {
             "outlinewidth": 0,
             "ticks": ""
            },
            "type": "choropleth"
           }
          ],
          "contour": [
           {
            "colorbar": {
             "outlinewidth": 0,
             "ticks": ""
            },
            "colorscale": [
             [
              0,
              "#0d0887"
             ],
             [
              0.1111111111111111,
              "#46039f"
             ],
             [
              0.2222222222222222,
              "#7201a8"
             ],
             [
              0.3333333333333333,
              "#9c179e"
             ],
             [
              0.4444444444444444,
              "#bd3786"
             ],
             [
              0.5555555555555556,
              "#d8576b"
             ],
             [
              0.6666666666666666,
              "#ed7953"
             ],
             [
              0.7777777777777778,
              "#fb9f3a"
             ],
             [
              0.8888888888888888,
              "#fdca26"
             ],
             [
              1,
              "#f0f921"
             ]
            ],
            "type": "contour"
           }
          ],
          "contourcarpet": [
           {
            "colorbar": {
             "outlinewidth": 0,
             "ticks": ""
            },
            "type": "contourcarpet"
           }
          ],
          "heatmap": [
           {
            "colorbar": {
             "outlinewidth": 0,
             "ticks": ""
            },
            "colorscale": [
             [
              0,
              "#0d0887"
             ],
             [
              0.1111111111111111,
              "#46039f"
             ],
             [
              0.2222222222222222,
              "#7201a8"
             ],
             [
              0.3333333333333333,
              "#9c179e"
             ],
             [
              0.4444444444444444,
              "#bd3786"
             ],
             [
              0.5555555555555556,
              "#d8576b"
             ],
             [
              0.6666666666666666,
              "#ed7953"
             ],
             [
              0.7777777777777778,
              "#fb9f3a"
             ],
             [
              0.8888888888888888,
              "#fdca26"
             ],
             [
              1,
              "#f0f921"
             ]
            ],
            "type": "heatmap"
           }
          ],
          "heatmapgl": [
           {
            "colorbar": {
             "outlinewidth": 0,
             "ticks": ""
            },
            "colorscale": [
             [
              0,
              "#0d0887"
             ],
             [
              0.1111111111111111,
              "#46039f"
             ],
             [
              0.2222222222222222,
              "#7201a8"
             ],
             [
              0.3333333333333333,
              "#9c179e"
             ],
             [
              0.4444444444444444,
              "#bd3786"
             ],
             [
              0.5555555555555556,
              "#d8576b"
             ],
             [
              0.6666666666666666,
              "#ed7953"
             ],
             [
              0.7777777777777778,
              "#fb9f3a"
             ],
             [
              0.8888888888888888,
              "#fdca26"
             ],
             [
              1,
              "#f0f921"
             ]
            ],
            "type": "heatmapgl"
           }
          ],
          "histogram": [
           {
            "marker": {
             "pattern": {
              "fillmode": "overlay",
              "size": 10,
              "solidity": 0.2
             }
            },
            "type": "histogram"
           }
          ],
          "histogram2d": [
           {
            "colorbar": {
             "outlinewidth": 0,
             "ticks": ""
            },
            "colorscale": [
             [
              0,
              "#0d0887"
             ],
             [
              0.1111111111111111,
              "#46039f"
             ],
             [
              0.2222222222222222,
              "#7201a8"
             ],
             [
              0.3333333333333333,
              "#9c179e"
             ],
             [
              0.4444444444444444,
              "#bd3786"
             ],
             [
              0.5555555555555556,
              "#d8576b"
             ],
             [
              0.6666666666666666,
              "#ed7953"
             ],
             [
              0.7777777777777778,
              "#fb9f3a"
             ],
             [
              0.8888888888888888,
              "#fdca26"
             ],
             [
              1,
              "#f0f921"
             ]
            ],
            "type": "histogram2d"
           }
          ],
          "histogram2dcontour": [
           {
            "colorbar": {
             "outlinewidth": 0,
             "ticks": ""
            },
            "colorscale": [
             [
              0,
              "#0d0887"
             ],
             [
              0.1111111111111111,
              "#46039f"
             ],
             [
              0.2222222222222222,
              "#7201a8"
             ],
             [
              0.3333333333333333,
              "#9c179e"
             ],
             [
              0.4444444444444444,
              "#bd3786"
             ],
             [
              0.5555555555555556,
              "#d8576b"
             ],
             [
              0.6666666666666666,
              "#ed7953"
             ],
             [
              0.7777777777777778,
              "#fb9f3a"
             ],
             [
              0.8888888888888888,
              "#fdca26"
             ],
             [
              1,
              "#f0f921"
             ]
            ],
            "type": "histogram2dcontour"
           }
          ],
          "mesh3d": [
           {
            "colorbar": {
             "outlinewidth": 0,
             "ticks": ""
            },
            "type": "mesh3d"
           }
          ],
          "parcoords": [
           {
            "line": {
             "colorbar": {
              "outlinewidth": 0,
              "ticks": ""
             }
            },
            "type": "parcoords"
           }
          ],
          "pie": [
           {
            "automargin": true,
            "type": "pie"
           }
          ],
          "scatter": [
           {
            "marker": {
             "colorbar": {
              "outlinewidth": 0,
              "ticks": ""
             }
            },
            "type": "scatter"
           }
          ],
          "scatter3d": [
           {
            "line": {
             "colorbar": {
              "outlinewidth": 0,
              "ticks": ""
             }
            },
            "marker": {
             "colorbar": {
              "outlinewidth": 0,
              "ticks": ""
             }
            },
            "type": "scatter3d"
           }
          ],
          "scattercarpet": [
           {
            "marker": {
             "colorbar": {
              "outlinewidth": 0,
              "ticks": ""
             }
            },
            "type": "scattercarpet"
           }
          ],
          "scattergeo": [
           {
            "marker": {
             "colorbar": {
              "outlinewidth": 0,
              "ticks": ""
             }
            },
            "type": "scattergeo"
           }
          ],
          "scattergl": [
           {
            "marker": {
             "colorbar": {
              "outlinewidth": 0,
              "ticks": ""
             }
            },
            "type": "scattergl"
           }
          ],
          "scattermapbox": [
           {
            "marker": {
             "colorbar": {
              "outlinewidth": 0,
              "ticks": ""
             }
            },
            "type": "scattermapbox"
           }
          ],
          "scatterpolar": [
           {
            "marker": {
             "colorbar": {
              "outlinewidth": 0,
              "ticks": ""
             }
            },
            "type": "scatterpolar"
           }
          ],
          "scatterpolargl": [
           {
            "marker": {
             "colorbar": {
              "outlinewidth": 0,
              "ticks": ""
             }
            },
            "type": "scatterpolargl"
           }
          ],
          "scatterternary": [
           {
            "marker": {
             "colorbar": {
              "outlinewidth": 0,
              "ticks": ""
             }
            },
            "type": "scatterternary"
           }
          ],
          "surface": [
           {
            "colorbar": {
             "outlinewidth": 0,
             "ticks": ""
            },
            "colorscale": [
             [
              0,
              "#0d0887"
             ],
             [
              0.1111111111111111,
              "#46039f"
             ],
             [
              0.2222222222222222,
              "#7201a8"
             ],
             [
              0.3333333333333333,
              "#9c179e"
             ],
             [
              0.4444444444444444,
              "#bd3786"
             ],
             [
              0.5555555555555556,
              "#d8576b"
             ],
             [
              0.6666666666666666,
              "#ed7953"
             ],
             [
              0.7777777777777778,
              "#fb9f3a"
             ],
             [
              0.8888888888888888,
              "#fdca26"
             ],
             [
              1,
              "#f0f921"
             ]
            ],
            "type": "surface"
           }
          ],
          "table": [
           {
            "cells": {
             "fill": {
              "color": "#EBF0F8"
             },
             "line": {
              "color": "white"
             }
            },
            "header": {
             "fill": {
              "color": "#C8D4E3"
             },
             "line": {
              "color": "white"
             }
            },
            "type": "table"
           }
          ]
         },
         "layout": {
          "annotationdefaults": {
           "arrowcolor": "#2a3f5f",
           "arrowhead": 0,
           "arrowwidth": 1
          },
          "autotypenumbers": "strict",
          "coloraxis": {
           "colorbar": {
            "outlinewidth": 0,
            "ticks": ""
           }
          },
          "colorscale": {
           "diverging": [
            [
             0,
             "#8e0152"
            ],
            [
             0.1,
             "#c51b7d"
            ],
            [
             0.2,
             "#de77ae"
            ],
            [
             0.3,
             "#f1b6da"
            ],
            [
             0.4,
             "#fde0ef"
            ],
            [
             0.5,
             "#f7f7f7"
            ],
            [
             0.6,
             "#e6f5d0"
            ],
            [
             0.7,
             "#b8e186"
            ],
            [
             0.8,
             "#7fbc41"
            ],
            [
             0.9,
             "#4d9221"
            ],
            [
             1,
             "#276419"
            ]
           ],
           "sequential": [
            [
             0,
             "#0d0887"
            ],
            [
             0.1111111111111111,
             "#46039f"
            ],
            [
             0.2222222222222222,
             "#7201a8"
            ],
            [
             0.3333333333333333,
             "#9c179e"
            ],
            [
             0.4444444444444444,
             "#bd3786"
            ],
            [
             0.5555555555555556,
             "#d8576b"
            ],
            [
             0.6666666666666666,
             "#ed7953"
            ],
            [
             0.7777777777777778,
             "#fb9f3a"
            ],
            [
             0.8888888888888888,
             "#fdca26"
            ],
            [
             1,
             "#f0f921"
            ]
           ],
           "sequentialminus": [
            [
             0,
             "#0d0887"
            ],
            [
             0.1111111111111111,
             "#46039f"
            ],
            [
             0.2222222222222222,
             "#7201a8"
            ],
            [
             0.3333333333333333,
             "#9c179e"
            ],
            [
             0.4444444444444444,
             "#bd3786"
            ],
            [
             0.5555555555555556,
             "#d8576b"
            ],
            [
             0.6666666666666666,
             "#ed7953"
            ],
            [
             0.7777777777777778,
             "#fb9f3a"
            ],
            [
             0.8888888888888888,
             "#fdca26"
            ],
            [
             1,
             "#f0f921"
            ]
           ]
          },
          "colorway": [
           "#636efa",
           "#EF553B",
           "#00cc96",
           "#ab63fa",
           "#FFA15A",
           "#19d3f3",
           "#FF6692",
           "#B6E880",
           "#FF97FF",
           "#FECB52"
          ],
          "font": {
           "color": "#2a3f5f"
          },
          "geo": {
           "bgcolor": "white",
           "lakecolor": "white",
           "landcolor": "#E5ECF6",
           "showlakes": true,
           "showland": true,
           "subunitcolor": "white"
          },
          "hoverlabel": {
           "align": "left"
          },
          "hovermode": "closest",
          "mapbox": {
           "style": "light"
          },
          "paper_bgcolor": "white",
          "plot_bgcolor": "#E5ECF6",
          "polar": {
           "angularaxis": {
            "gridcolor": "white",
            "linecolor": "white",
            "ticks": ""
           },
           "bgcolor": "#E5ECF6",
           "radialaxis": {
            "gridcolor": "white",
            "linecolor": "white",
            "ticks": ""
           }
          },
          "scene": {
           "xaxis": {
            "backgroundcolor": "#E5ECF6",
            "gridcolor": "white",
            "gridwidth": 2,
            "linecolor": "white",
            "showbackground": true,
            "ticks": "",
            "zerolinecolor": "white"
           },
           "yaxis": {
            "backgroundcolor": "#E5ECF6",
            "gridcolor": "white",
            "gridwidth": 2,
            "linecolor": "white",
            "showbackground": true,
            "ticks": "",
            "zerolinecolor": "white"
           },
           "zaxis": {
            "backgroundcolor": "#E5ECF6",
            "gridcolor": "white",
            "gridwidth": 2,
            "linecolor": "white",
            "showbackground": true,
            "ticks": "",
            "zerolinecolor": "white"
           }
          },
          "shapedefaults": {
           "line": {
            "color": "#2a3f5f"
           }
          },
          "ternary": {
           "aaxis": {
            "gridcolor": "white",
            "linecolor": "white",
            "ticks": ""
           },
           "baxis": {
            "gridcolor": "white",
            "linecolor": "white",
            "ticks": ""
           },
           "bgcolor": "#E5ECF6",
           "caxis": {
            "gridcolor": "white",
            "linecolor": "white",
            "ticks": ""
           }
          },
          "title": {
           "x": 0.05
          },
          "xaxis": {
           "automargin": true,
           "gridcolor": "white",
           "linecolor": "white",
           "ticks": "",
           "title": {
            "standoff": 15
           },
           "zerolinecolor": "white",
           "zerolinewidth": 2
          },
          "yaxis": {
           "automargin": true,
           "gridcolor": "white",
           "linecolor": "white",
           "ticks": "",
           "title": {
            "standoff": 15
           },
           "zerolinecolor": "white",
           "zerolinewidth": 2
          }
         }
        },
        "title": {
         "text": "Business Controversy in featured companies"
        }
       }
      },
      "text/html": [
       "<div>                            <div id=\"2f0fe7a2-da75-4fdf-8127-9ef990263dde\" class=\"plotly-graph-div\" style=\"height:525px; width:100%;\"></div>            <script type=\"text/javascript\">                require([\"plotly\"], function(Plotly) {                    window.PLOTLYENV=window.PLOTLYENV || {};                                    if (document.getElementById(\"2f0fe7a2-da75-4fdf-8127-9ef990263dde\")) {                    Plotly.newPlot(                        \"2f0fe7a2-da75-4fdf-8127-9ef990263dde\",                        [{\"domain\":{\"x\":[0.0,1.0],\"y\":[0.0,1.0]},\"hovertemplate\":\"label=%{label}<br>value=%{value}<extra></extra>\",\"labels\":[\"AnimalTesting\",\"Catholic Values\",\"Controversial Weapons\",\"Military Contracting\",\"None\",\"Nuclear\",\"Small Arms\",\"Thermal Coal\"],\"legendgroup\":\"\",\"name\":\"\",\"showlegend\":true,\"values\":[14,6,2,2,43,4,1,3],\"type\":\"pie\",\"textinfo\":\"percent+label\",\"textposition\":\"auto\"}],                        {\"template\":{\"data\":{\"bar\":[{\"error_x\":{\"color\":\"#2a3f5f\"},\"error_y\":{\"color\":\"#2a3f5f\"},\"marker\":{\"line\":{\"color\":\"#E5ECF6\",\"width\":0.5},\"pattern\":{\"fillmode\":\"overlay\",\"size\":10,\"solidity\":0.2}},\"type\":\"bar\"}],\"barpolar\":[{\"marker\":{\"line\":{\"color\":\"#E5ECF6\",\"width\":0.5},\"pattern\":{\"fillmode\":\"overlay\",\"size\":10,\"solidity\":0.2}},\"type\":\"barpolar\"}],\"carpet\":[{\"aaxis\":{\"endlinecolor\":\"#2a3f5f\",\"gridcolor\":\"white\",\"linecolor\":\"white\",\"minorgridcolor\":\"white\",\"startlinecolor\":\"#2a3f5f\"},\"baxis\":{\"endlinecolor\":\"#2a3f5f\",\"gridcolor\":\"white\",\"linecolor\":\"white\",\"minorgridcolor\":\"white\",\"startlinecolor\":\"#2a3f5f\"},\"type\":\"carpet\"}],\"choropleth\":[{\"colorbar\":{\"outlinewidth\":0,\"ticks\":\"\"},\"type\":\"choropleth\"}],\"contour\":[{\"colorbar\":{\"outlinewidth\":0,\"ticks\":\"\"},\"colorscale\":[[0.0,\"#0d0887\"],[0.1111111111111111,\"#46039f\"],[0.2222222222222222,\"#7201a8\"],[0.3333333333333333,\"#9c179e\"],[0.4444444444444444,\"#bd3786\"],[0.5555555555555556,\"#d8576b\"],[0.6666666666666666,\"#ed7953\"],[0.7777777777777778,\"#fb9f3a\"],[0.8888888888888888,\"#fdca26\"],[1.0,\"#f0f921\"]],\"type\":\"contour\"}],\"contourcarpet\":[{\"colorbar\":{\"outlinewidth\":0,\"ticks\":\"\"},\"type\":\"contourcarpet\"}],\"heatmap\":[{\"colorbar\":{\"outlinewidth\":0,\"ticks\":\"\"},\"colorscale\":[[0.0,\"#0d0887\"],[0.1111111111111111,\"#46039f\"],[0.2222222222222222,\"#7201a8\"],[0.3333333333333333,\"#9c179e\"],[0.4444444444444444,\"#bd3786\"],[0.5555555555555556,\"#d8576b\"],[0.6666666666666666,\"#ed7953\"],[0.7777777777777778,\"#fb9f3a\"],[0.8888888888888888,\"#fdca26\"],[1.0,\"#f0f921\"]],\"type\":\"heatmap\"}],\"heatmapgl\":[{\"colorbar\":{\"outlinewidth\":0,\"ticks\":\"\"},\"colorscale\":[[0.0,\"#0d0887\"],[0.1111111111111111,\"#46039f\"],[0.2222222222222222,\"#7201a8\"],[0.3333333333333333,\"#9c179e\"],[0.4444444444444444,\"#bd3786\"],[0.5555555555555556,\"#d8576b\"],[0.6666666666666666,\"#ed7953\"],[0.7777777777777778,\"#fb9f3a\"],[0.8888888888888888,\"#fdca26\"],[1.0,\"#f0f921\"]],\"type\":\"heatmapgl\"}],\"histogram\":[{\"marker\":{\"pattern\":{\"fillmode\":\"overlay\",\"size\":10,\"solidity\":0.2}},\"type\":\"histogram\"}],\"histogram2d\":[{\"colorbar\":{\"outlinewidth\":0,\"ticks\":\"\"},\"colorscale\":[[0.0,\"#0d0887\"],[0.1111111111111111,\"#46039f\"],[0.2222222222222222,\"#7201a8\"],[0.3333333333333333,\"#9c179e\"],[0.4444444444444444,\"#bd3786\"],[0.5555555555555556,\"#d8576b\"],[0.6666666666666666,\"#ed7953\"],[0.7777777777777778,\"#fb9f3a\"],[0.8888888888888888,\"#fdca26\"],[1.0,\"#f0f921\"]],\"type\":\"histogram2d\"}],\"histogram2dcontour\":[{\"colorbar\":{\"outlinewidth\":0,\"ticks\":\"\"},\"colorscale\":[[0.0,\"#0d0887\"],[0.1111111111111111,\"#46039f\"],[0.2222222222222222,\"#7201a8\"],[0.3333333333333333,\"#9c179e\"],[0.4444444444444444,\"#bd3786\"],[0.5555555555555556,\"#d8576b\"],[0.6666666666666666,\"#ed7953\"],[0.7777777777777778,\"#fb9f3a\"],[0.8888888888888888,\"#fdca26\"],[1.0,\"#f0f921\"]],\"type\":\"histogram2dcontour\"}],\"mesh3d\":[{\"colorbar\":{\"outlinewidth\":0,\"ticks\":\"\"},\"type\":\"mesh3d\"}],\"parcoords\":[{\"line\":{\"colorbar\":{\"outlinewidth\":0,\"ticks\":\"\"}},\"type\":\"parcoords\"}],\"pie\":[{\"automargin\":true,\"type\":\"pie\"}],\"scatter\":[{\"marker\":{\"colorbar\":{\"outlinewidth\":0,\"ticks\":\"\"}},\"type\":\"scatter\"}],\"scatter3d\":[{\"line\":{\"colorbar\":{\"outlinewidth\":0,\"ticks\":\"\"}},\"marker\":{\"colorbar\":{\"outlinewidth\":0,\"ticks\":\"\"}},\"type\":\"scatter3d\"}],\"scattercarpet\":[{\"marker\":{\"colorbar\":{\"outlinewidth\":0,\"ticks\":\"\"}},\"type\":\"scattercarpet\"}],\"scattergeo\":[{\"marker\":{\"colorbar\":{\"outlinewidth\":0,\"ticks\":\"\"}},\"type\":\"scattergeo\"}],\"scattergl\":[{\"marker\":{\"colorbar\":{\"outlinewidth\":0,\"ticks\":\"\"}},\"type\":\"scattergl\"}],\"scattermapbox\":[{\"marker\":{\"colorbar\":{\"outlinewidth\":0,\"ticks\":\"\"}},\"type\":\"scattermapbox\"}],\"scatterpolar\":[{\"marker\":{\"colorbar\":{\"outlinewidth\":0,\"ticks\":\"\"}},\"type\":\"scatterpolar\"}],\"scatterpolargl\":[{\"marker\":{\"colorbar\":{\"outlinewidth\":0,\"ticks\":\"\"}},\"type\":\"scatterpolargl\"}],\"scatterternary\":[{\"marker\":{\"colorbar\":{\"outlinewidth\":0,\"ticks\":\"\"}},\"type\":\"scatterternary\"}],\"surface\":[{\"colorbar\":{\"outlinewidth\":0,\"ticks\":\"\"},\"colorscale\":[[0.0,\"#0d0887\"],[0.1111111111111111,\"#46039f\"],[0.2222222222222222,\"#7201a8\"],[0.3333333333333333,\"#9c179e\"],[0.4444444444444444,\"#bd3786\"],[0.5555555555555556,\"#d8576b\"],[0.6666666666666666,\"#ed7953\"],[0.7777777777777778,\"#fb9f3a\"],[0.8888888888888888,\"#fdca26\"],[1.0,\"#f0f921\"]],\"type\":\"surface\"}],\"table\":[{\"cells\":{\"fill\":{\"color\":\"#EBF0F8\"},\"line\":{\"color\":\"white\"}},\"header\":{\"fill\":{\"color\":\"#C8D4E3\"},\"line\":{\"color\":\"white\"}},\"type\":\"table\"}]},\"layout\":{\"annotationdefaults\":{\"arrowcolor\":\"#2a3f5f\",\"arrowhead\":0,\"arrowwidth\":1},\"autotypenumbers\":\"strict\",\"coloraxis\":{\"colorbar\":{\"outlinewidth\":0,\"ticks\":\"\"}},\"colorscale\":{\"diverging\":[[0,\"#8e0152\"],[0.1,\"#c51b7d\"],[0.2,\"#de77ae\"],[0.3,\"#f1b6da\"],[0.4,\"#fde0ef\"],[0.5,\"#f7f7f7\"],[0.6,\"#e6f5d0\"],[0.7,\"#b8e186\"],[0.8,\"#7fbc41\"],[0.9,\"#4d9221\"],[1,\"#276419\"]],\"sequential\":[[0.0,\"#0d0887\"],[0.1111111111111111,\"#46039f\"],[0.2222222222222222,\"#7201a8\"],[0.3333333333333333,\"#9c179e\"],[0.4444444444444444,\"#bd3786\"],[0.5555555555555556,\"#d8576b\"],[0.6666666666666666,\"#ed7953\"],[0.7777777777777778,\"#fb9f3a\"],[0.8888888888888888,\"#fdca26\"],[1.0,\"#f0f921\"]],\"sequentialminus\":[[0.0,\"#0d0887\"],[0.1111111111111111,\"#46039f\"],[0.2222222222222222,\"#7201a8\"],[0.3333333333333333,\"#9c179e\"],[0.4444444444444444,\"#bd3786\"],[0.5555555555555556,\"#d8576b\"],[0.6666666666666666,\"#ed7953\"],[0.7777777777777778,\"#fb9f3a\"],[0.8888888888888888,\"#fdca26\"],[1.0,\"#f0f921\"]]},\"colorway\":[\"#636efa\",\"#EF553B\",\"#00cc96\",\"#ab63fa\",\"#FFA15A\",\"#19d3f3\",\"#FF6692\",\"#B6E880\",\"#FF97FF\",\"#FECB52\"],\"font\":{\"color\":\"#2a3f5f\"},\"geo\":{\"bgcolor\":\"white\",\"lakecolor\":\"white\",\"landcolor\":\"#E5ECF6\",\"showlakes\":true,\"showland\":true,\"subunitcolor\":\"white\"},\"hoverlabel\":{\"align\":\"left\"},\"hovermode\":\"closest\",\"mapbox\":{\"style\":\"light\"},\"paper_bgcolor\":\"white\",\"plot_bgcolor\":\"#E5ECF6\",\"polar\":{\"angularaxis\":{\"gridcolor\":\"white\",\"linecolor\":\"white\",\"ticks\":\"\"},\"bgcolor\":\"#E5ECF6\",\"radialaxis\":{\"gridcolor\":\"white\",\"linecolor\":\"white\",\"ticks\":\"\"}},\"scene\":{\"xaxis\":{\"backgroundcolor\":\"#E5ECF6\",\"gridcolor\":\"white\",\"gridwidth\":2,\"linecolor\":\"white\",\"showbackground\":true,\"ticks\":\"\",\"zerolinecolor\":\"white\"},\"yaxis\":{\"backgroundcolor\":\"#E5ECF6\",\"gridcolor\":\"white\",\"gridwidth\":2,\"linecolor\":\"white\",\"showbackground\":true,\"ticks\":\"\",\"zerolinecolor\":\"white\"},\"zaxis\":{\"backgroundcolor\":\"#E5ECF6\",\"gridcolor\":\"white\",\"gridwidth\":2,\"linecolor\":\"white\",\"showbackground\":true,\"ticks\":\"\",\"zerolinecolor\":\"white\"}},\"shapedefaults\":{\"line\":{\"color\":\"#2a3f5f\"}},\"ternary\":{\"aaxis\":{\"gridcolor\":\"white\",\"linecolor\":\"white\",\"ticks\":\"\"},\"baxis\":{\"gridcolor\":\"white\",\"linecolor\":\"white\",\"ticks\":\"\"},\"bgcolor\":\"#E5ECF6\",\"caxis\":{\"gridcolor\":\"white\",\"linecolor\":\"white\",\"ticks\":\"\"}},\"title\":{\"x\":0.05},\"xaxis\":{\"automargin\":true,\"gridcolor\":\"white\",\"linecolor\":\"white\",\"ticks\":\"\",\"title\":{\"standoff\":15},\"zerolinecolor\":\"white\",\"zerolinewidth\":2},\"yaxis\":{\"automargin\":true,\"gridcolor\":\"white\",\"linecolor\":\"white\",\"ticks\":\"\",\"title\":{\"standoff\":15},\"zerolinecolor\":\"white\",\"zerolinewidth\":2}}},\"legend\":{\"tracegroupgap\":0},\"title\":{\"text\":\"Business Controversy in featured companies\"}},                        {\"responsive\": true}                    ).then(function(){\n",
       "                            \n",
       "var gd = document.getElementById('2f0fe7a2-da75-4fdf-8127-9ef990263dde');\n",
       "var x = new MutationObserver(function (mutations, observer) {{\n",
       "        var display = window.getComputedStyle(gd).display;\n",
       "        if (!display || display === 'none') {{\n",
       "            console.log([gd, 'removed!']);\n",
       "            Plotly.purge(gd);\n",
       "            observer.disconnect();\n",
       "        }}\n",
       "}});\n",
       "\n",
       "// Listen for the removal of the full notebook cells\n",
       "var notebookContainer = gd.closest('#notebook-container');\n",
       "if (notebookContainer) {{\n",
       "    x.observe(notebookContainer, {childList: true});\n",
       "}}\n",
       "\n",
       "// Listen for the clearing of the current output cell\n",
       "var outputEl = gd.closest('.output');\n",
       "if (outputEl) {{\n",
       "    x.observe(outputEl, {childList: true});\n",
       "}}\n",
       "\n",
       "                        })                };                });            </script>        </div>"
      ]
     },
     "metadata": {},
     "output_type": "display_data"
    }
   ],
   "source": [
    "names = ['AnimalTesting', 'Catholic Values', 'Controversial Weapons',\n",
    "       'Military Contracting', 'None', 'Nuclear', 'Small Arms', 'Thermal Coal']\n",
    "values = [business_controversy_df['animalTesting'].sum() , business_controversy_df['catholicValues'].sum(), \n",
    "          business_controversy_df['controversialWeapons'].sum(),business_controversy_df['militaryContracting'].sum(), \n",
    "          business_controversy_df['None'].sum() ,business_controversy_df['Nuclear'].sum(),\n",
    "          business_controversy_df['smallArms'].sum(),business_controversy_df['thermalCoal'].sum()]\n",
    "\n",
    "# codebook_plotly_dapi.ipynb\n",
    "fig = px.pie(total_business_controversy,\n",
    "    values= values,\n",
    "    names= names,\n",
    "    title= 'Business Controversy in featured companies')\n",
    "\n",
    "fig.update_traces(textposition='auto', textinfo='percent+label')\n",
    "fig.show()"
   ]
  },
  {
   "cell_type": "code",
   "execution_count": 39,
   "id": "8aad0bed",
   "metadata": {
    "scrolled": true
   },
   "outputs": [
    {
     "data": {
      "text/plain": [
       "Ticker                               0\n",
       "businessEthicsIncidents              0\n",
       "customerIncidents                    0\n",
       "employeeIncidents                    0\n",
       "environmentalSupplyChainIncidents    0\n",
       "governanceIncidents                  0\n",
       "None                                 0\n",
       "operationsIncidents                  0\n",
       "productServiceIncidents              0\n",
       "publicPolicyIncidents                0\n",
       "socialSupplyChainIncidents           0\n",
       "societyCommunityIncidents            0\n",
       "dtype: int64"
      ]
     },
     "execution_count": 39,
     "metadata": {},
     "output_type": "execute_result"
    }
   ],
   "source": [
    "controversy_df.isnull().sum()"
   ]
  },
  {
   "cell_type": "code",
   "execution_count": 72,
   "id": "91f66e15",
   "metadata": {},
   "outputs": [
    {
     "data": {
      "text/plain": [
       "Index(['Ticker', 'businessEthicsIncidents', 'customerIncidents',\n",
       "       'employeeIncidents', 'environmentalSupplyChainIncidents',\n",
       "       'governanceIncidents', 'None', 'operationsIncidents',\n",
       "       'productServiceIncidents', 'publicPolicyIncidents',\n",
       "       'socialSupplyChainIncidents', 'societyCommunityIncidents'],\n",
       "      dtype='object')"
      ]
     },
     "execution_count": 72,
     "metadata": {},
     "output_type": "execute_result"
    }
   ],
   "source": [
    "controversy_df.columns"
   ]
  },
  {
   "cell_type": "code",
   "execution_count": 52,
   "id": "ef889887",
   "metadata": {},
   "outputs": [
    {
     "data": {
      "text/plain": [
       "Ticker                               object\n",
       "businessEthicsIncidents               int64\n",
       "customerIncidents                     int64\n",
       "employeeIncidents                     int64\n",
       "environmentalSupplyChainIncidents     int64\n",
       "governanceIncidents                   int64\n",
       "None                                  int64\n",
       "operationsIncidents                   int64\n",
       "productServiceIncidents               int64\n",
       "publicPolicyIncidents                 int64\n",
       "socialSupplyChainIncidents            int64\n",
       "societyCommunityIncidents             int64\n",
       "dtype: object"
      ]
     },
     "execution_count": 52,
     "metadata": {},
     "output_type": "execute_result"
    }
   ],
   "source": [
    "controversy_df.dtypes"
   ]
  },
  {
   "cell_type": "code",
   "execution_count": 81,
   "id": "6ec855f1",
   "metadata": {},
   "outputs": [
    {
     "data": {
      "application/vnd.plotly.v1+json": {
       "config": {
        "plotlyServerURL": "https://plot.ly"
       },
       "data": [
        {
         "domain": {
          "x": [
           0,
           1
          ],
          "y": [
           0,
           1
          ]
         },
         "hovertemplate": "label=%{label}<br>value=%{value}<extra></extra>",
         "labels": [
          "Business Ethics Incidents",
          "Customer Incidents",
          "Employee Incidents",
          "Environmental Supplychain Incidents",
          "Governance Incidents",
          "none",
          "Operations Incidents",
          "Product Service Incidents",
          "Public Policy Incidents",
          "Social Supplychain Incidents",
          "Society Community Incidents"
         ],
         "legendgroup": "",
         "name": "",
         "showlegend": true,
         "textinfo": "percent+label",
         "textposition": "auto",
         "type": "pie",
         "values": [
          25,
          43,
          14,
          4,
          2,
          1,
          6,
          2,
          3,
          10,
          17
         ]
        }
       ],
       "layout": {
        "legend": {
         "tracegroupgap": 0
        },
        "template": {
         "data": {
          "bar": [
           {
            "error_x": {
             "color": "#2a3f5f"
            },
            "error_y": {
             "color": "#2a3f5f"
            },
            "marker": {
             "line": {
              "color": "#E5ECF6",
              "width": 0.5
             },
             "pattern": {
              "fillmode": "overlay",
              "size": 10,
              "solidity": 0.2
             }
            },
            "type": "bar"
           }
          ],
          "barpolar": [
           {
            "marker": {
             "line": {
              "color": "#E5ECF6",
              "width": 0.5
             },
             "pattern": {
              "fillmode": "overlay",
              "size": 10,
              "solidity": 0.2
             }
            },
            "type": "barpolar"
           }
          ],
          "carpet": [
           {
            "aaxis": {
             "endlinecolor": "#2a3f5f",
             "gridcolor": "white",
             "linecolor": "white",
             "minorgridcolor": "white",
             "startlinecolor": "#2a3f5f"
            },
            "baxis": {
             "endlinecolor": "#2a3f5f",
             "gridcolor": "white",
             "linecolor": "white",
             "minorgridcolor": "white",
             "startlinecolor": "#2a3f5f"
            },
            "type": "carpet"
           }
          ],
          "choropleth": [
           {
            "colorbar": {
             "outlinewidth": 0,
             "ticks": ""
            },
            "type": "choropleth"
           }
          ],
          "contour": [
           {
            "colorbar": {
             "outlinewidth": 0,
             "ticks": ""
            },
            "colorscale": [
             [
              0,
              "#0d0887"
             ],
             [
              0.1111111111111111,
              "#46039f"
             ],
             [
              0.2222222222222222,
              "#7201a8"
             ],
             [
              0.3333333333333333,
              "#9c179e"
             ],
             [
              0.4444444444444444,
              "#bd3786"
             ],
             [
              0.5555555555555556,
              "#d8576b"
             ],
             [
              0.6666666666666666,
              "#ed7953"
             ],
             [
              0.7777777777777778,
              "#fb9f3a"
             ],
             [
              0.8888888888888888,
              "#fdca26"
             ],
             [
              1,
              "#f0f921"
             ]
            ],
            "type": "contour"
           }
          ],
          "contourcarpet": [
           {
            "colorbar": {
             "outlinewidth": 0,
             "ticks": ""
            },
            "type": "contourcarpet"
           }
          ],
          "heatmap": [
           {
            "colorbar": {
             "outlinewidth": 0,
             "ticks": ""
            },
            "colorscale": [
             [
              0,
              "#0d0887"
             ],
             [
              0.1111111111111111,
              "#46039f"
             ],
             [
              0.2222222222222222,
              "#7201a8"
             ],
             [
              0.3333333333333333,
              "#9c179e"
             ],
             [
              0.4444444444444444,
              "#bd3786"
             ],
             [
              0.5555555555555556,
              "#d8576b"
             ],
             [
              0.6666666666666666,
              "#ed7953"
             ],
             [
              0.7777777777777778,
              "#fb9f3a"
             ],
             [
              0.8888888888888888,
              "#fdca26"
             ],
             [
              1,
              "#f0f921"
             ]
            ],
            "type": "heatmap"
           }
          ],
          "heatmapgl": [
           {
            "colorbar": {
             "outlinewidth": 0,
             "ticks": ""
            },
            "colorscale": [
             [
              0,
              "#0d0887"
             ],
             [
              0.1111111111111111,
              "#46039f"
             ],
             [
              0.2222222222222222,
              "#7201a8"
             ],
             [
              0.3333333333333333,
              "#9c179e"
             ],
             [
              0.4444444444444444,
              "#bd3786"
             ],
             [
              0.5555555555555556,
              "#d8576b"
             ],
             [
              0.6666666666666666,
              "#ed7953"
             ],
             [
              0.7777777777777778,
              "#fb9f3a"
             ],
             [
              0.8888888888888888,
              "#fdca26"
             ],
             [
              1,
              "#f0f921"
             ]
            ],
            "type": "heatmapgl"
           }
          ],
          "histogram": [
           {
            "marker": {
             "pattern": {
              "fillmode": "overlay",
              "size": 10,
              "solidity": 0.2
             }
            },
            "type": "histogram"
           }
          ],
          "histogram2d": [
           {
            "colorbar": {
             "outlinewidth": 0,
             "ticks": ""
            },
            "colorscale": [
             [
              0,
              "#0d0887"
             ],
             [
              0.1111111111111111,
              "#46039f"
             ],
             [
              0.2222222222222222,
              "#7201a8"
             ],
             [
              0.3333333333333333,
              "#9c179e"
             ],
             [
              0.4444444444444444,
              "#bd3786"
             ],
             [
              0.5555555555555556,
              "#d8576b"
             ],
             [
              0.6666666666666666,
              "#ed7953"
             ],
             [
              0.7777777777777778,
              "#fb9f3a"
             ],
             [
              0.8888888888888888,
              "#fdca26"
             ],
             [
              1,
              "#f0f921"
             ]
            ],
            "type": "histogram2d"
           }
          ],
          "histogram2dcontour": [
           {
            "colorbar": {
             "outlinewidth": 0,
             "ticks": ""
            },
            "colorscale": [
             [
              0,
              "#0d0887"
             ],
             [
              0.1111111111111111,
              "#46039f"
             ],
             [
              0.2222222222222222,
              "#7201a8"
             ],
             [
              0.3333333333333333,
              "#9c179e"
             ],
             [
              0.4444444444444444,
              "#bd3786"
             ],
             [
              0.5555555555555556,
              "#d8576b"
             ],
             [
              0.6666666666666666,
              "#ed7953"
             ],
             [
              0.7777777777777778,
              "#fb9f3a"
             ],
             [
              0.8888888888888888,
              "#fdca26"
             ],
             [
              1,
              "#f0f921"
             ]
            ],
            "type": "histogram2dcontour"
           }
          ],
          "mesh3d": [
           {
            "colorbar": {
             "outlinewidth": 0,
             "ticks": ""
            },
            "type": "mesh3d"
           }
          ],
          "parcoords": [
           {
            "line": {
             "colorbar": {
              "outlinewidth": 0,
              "ticks": ""
             }
            },
            "type": "parcoords"
           }
          ],
          "pie": [
           {
            "automargin": true,
            "type": "pie"
           }
          ],
          "scatter": [
           {
            "marker": {
             "colorbar": {
              "outlinewidth": 0,
              "ticks": ""
             }
            },
            "type": "scatter"
           }
          ],
          "scatter3d": [
           {
            "line": {
             "colorbar": {
              "outlinewidth": 0,
              "ticks": ""
             }
            },
            "marker": {
             "colorbar": {
              "outlinewidth": 0,
              "ticks": ""
             }
            },
            "type": "scatter3d"
           }
          ],
          "scattercarpet": [
           {
            "marker": {
             "colorbar": {
              "outlinewidth": 0,
              "ticks": ""
             }
            },
            "type": "scattercarpet"
           }
          ],
          "scattergeo": [
           {
            "marker": {
             "colorbar": {
              "outlinewidth": 0,
              "ticks": ""
             }
            },
            "type": "scattergeo"
           }
          ],
          "scattergl": [
           {
            "marker": {
             "colorbar": {
              "outlinewidth": 0,
              "ticks": ""
             }
            },
            "type": "scattergl"
           }
          ],
          "scattermapbox": [
           {
            "marker": {
             "colorbar": {
              "outlinewidth": 0,
              "ticks": ""
             }
            },
            "type": "scattermapbox"
           }
          ],
          "scatterpolar": [
           {
            "marker": {
             "colorbar": {
              "outlinewidth": 0,
              "ticks": ""
             }
            },
            "type": "scatterpolar"
           }
          ],
          "scatterpolargl": [
           {
            "marker": {
             "colorbar": {
              "outlinewidth": 0,
              "ticks": ""
             }
            },
            "type": "scatterpolargl"
           }
          ],
          "scatterternary": [
           {
            "marker": {
             "colorbar": {
              "outlinewidth": 0,
              "ticks": ""
             }
            },
            "type": "scatterternary"
           }
          ],
          "surface": [
           {
            "colorbar": {
             "outlinewidth": 0,
             "ticks": ""
            },
            "colorscale": [
             [
              0,
              "#0d0887"
             ],
             [
              0.1111111111111111,
              "#46039f"
             ],
             [
              0.2222222222222222,
              "#7201a8"
             ],
             [
              0.3333333333333333,
              "#9c179e"
             ],
             [
              0.4444444444444444,
              "#bd3786"
             ],
             [
              0.5555555555555556,
              "#d8576b"
             ],
             [
              0.6666666666666666,
              "#ed7953"
             ],
             [
              0.7777777777777778,
              "#fb9f3a"
             ],
             [
              0.8888888888888888,
              "#fdca26"
             ],
             [
              1,
              "#f0f921"
             ]
            ],
            "type": "surface"
           }
          ],
          "table": [
           {
            "cells": {
             "fill": {
              "color": "#EBF0F8"
             },
             "line": {
              "color": "white"
             }
            },
            "header": {
             "fill": {
              "color": "#C8D4E3"
             },
             "line": {
              "color": "white"
             }
            },
            "type": "table"
           }
          ]
         },
         "layout": {
          "annotationdefaults": {
           "arrowcolor": "#2a3f5f",
           "arrowhead": 0,
           "arrowwidth": 1
          },
          "autotypenumbers": "strict",
          "coloraxis": {
           "colorbar": {
            "outlinewidth": 0,
            "ticks": ""
           }
          },
          "colorscale": {
           "diverging": [
            [
             0,
             "#8e0152"
            ],
            [
             0.1,
             "#c51b7d"
            ],
            [
             0.2,
             "#de77ae"
            ],
            [
             0.3,
             "#f1b6da"
            ],
            [
             0.4,
             "#fde0ef"
            ],
            [
             0.5,
             "#f7f7f7"
            ],
            [
             0.6,
             "#e6f5d0"
            ],
            [
             0.7,
             "#b8e186"
            ],
            [
             0.8,
             "#7fbc41"
            ],
            [
             0.9,
             "#4d9221"
            ],
            [
             1,
             "#276419"
            ]
           ],
           "sequential": [
            [
             0,
             "#0d0887"
            ],
            [
             0.1111111111111111,
             "#46039f"
            ],
            [
             0.2222222222222222,
             "#7201a8"
            ],
            [
             0.3333333333333333,
             "#9c179e"
            ],
            [
             0.4444444444444444,
             "#bd3786"
            ],
            [
             0.5555555555555556,
             "#d8576b"
            ],
            [
             0.6666666666666666,
             "#ed7953"
            ],
            [
             0.7777777777777778,
             "#fb9f3a"
            ],
            [
             0.8888888888888888,
             "#fdca26"
            ],
            [
             1,
             "#f0f921"
            ]
           ],
           "sequentialminus": [
            [
             0,
             "#0d0887"
            ],
            [
             0.1111111111111111,
             "#46039f"
            ],
            [
             0.2222222222222222,
             "#7201a8"
            ],
            [
             0.3333333333333333,
             "#9c179e"
            ],
            [
             0.4444444444444444,
             "#bd3786"
            ],
            [
             0.5555555555555556,
             "#d8576b"
            ],
            [
             0.6666666666666666,
             "#ed7953"
            ],
            [
             0.7777777777777778,
             "#fb9f3a"
            ],
            [
             0.8888888888888888,
             "#fdca26"
            ],
            [
             1,
             "#f0f921"
            ]
           ]
          },
          "colorway": [
           "#636efa",
           "#EF553B",
           "#00cc96",
           "#ab63fa",
           "#FFA15A",
           "#19d3f3",
           "#FF6692",
           "#B6E880",
           "#FF97FF",
           "#FECB52"
          ],
          "font": {
           "color": "#2a3f5f"
          },
          "geo": {
           "bgcolor": "white",
           "lakecolor": "white",
           "landcolor": "#E5ECF6",
           "showlakes": true,
           "showland": true,
           "subunitcolor": "white"
          },
          "hoverlabel": {
           "align": "left"
          },
          "hovermode": "closest",
          "mapbox": {
           "style": "light"
          },
          "paper_bgcolor": "white",
          "plot_bgcolor": "#E5ECF6",
          "polar": {
           "angularaxis": {
            "gridcolor": "white",
            "linecolor": "white",
            "ticks": ""
           },
           "bgcolor": "#E5ECF6",
           "radialaxis": {
            "gridcolor": "white",
            "linecolor": "white",
            "ticks": ""
           }
          },
          "scene": {
           "xaxis": {
            "backgroundcolor": "#E5ECF6",
            "gridcolor": "white",
            "gridwidth": 2,
            "linecolor": "white",
            "showbackground": true,
            "ticks": "",
            "zerolinecolor": "white"
           },
           "yaxis": {
            "backgroundcolor": "#E5ECF6",
            "gridcolor": "white",
            "gridwidth": 2,
            "linecolor": "white",
            "showbackground": true,
            "ticks": "",
            "zerolinecolor": "white"
           },
           "zaxis": {
            "backgroundcolor": "#E5ECF6",
            "gridcolor": "white",
            "gridwidth": 2,
            "linecolor": "white",
            "showbackground": true,
            "ticks": "",
            "zerolinecolor": "white"
           }
          },
          "shapedefaults": {
           "line": {
            "color": "#2a3f5f"
           }
          },
          "ternary": {
           "aaxis": {
            "gridcolor": "white",
            "linecolor": "white",
            "ticks": ""
           },
           "baxis": {
            "gridcolor": "white",
            "linecolor": "white",
            "ticks": ""
           },
           "bgcolor": "#E5ECF6",
           "caxis": {
            "gridcolor": "white",
            "linecolor": "white",
            "ticks": ""
           }
          },
          "title": {
           "x": 0.05
          },
          "xaxis": {
           "automargin": true,
           "gridcolor": "white",
           "linecolor": "white",
           "ticks": "",
           "title": {
            "standoff": 15
           },
           "zerolinecolor": "white",
           "zerolinewidth": 2
          },
          "yaxis": {
           "automargin": true,
           "gridcolor": "white",
           "linecolor": "white",
           "ticks": "",
           "title": {
            "standoff": 15
           },
           "zerolinecolor": "white",
           "zerolinewidth": 2
          }
         }
        },
        "title": {
         "text": "All Types of Controversies in featured companies"
        }
       }
      },
      "text/html": [
       "<div>                            <div id=\"d4ac2b4e-8be7-4926-9c33-4e3d0c67d67c\" class=\"plotly-graph-div\" style=\"height:525px; width:100%;\"></div>            <script type=\"text/javascript\">                require([\"plotly\"], function(Plotly) {                    window.PLOTLYENV=window.PLOTLYENV || {};                                    if (document.getElementById(\"d4ac2b4e-8be7-4926-9c33-4e3d0c67d67c\")) {                    Plotly.newPlot(                        \"d4ac2b4e-8be7-4926-9c33-4e3d0c67d67c\",                        [{\"domain\":{\"x\":[0.0,1.0],\"y\":[0.0,1.0]},\"hovertemplate\":\"label=%{label}<br>value=%{value}<extra></extra>\",\"labels\":[\"Business Ethics Incidents\",\"Customer Incidents\",\"Employee Incidents\",\"Environmental Supplychain Incidents\",\"Governance Incidents\",\"none\",\"Operations Incidents\",\"Product Service Incidents\",\"Public Policy Incidents\",\"Social Supplychain Incidents\",\"Society Community Incidents\"],\"legendgroup\":\"\",\"name\":\"\",\"showlegend\":true,\"values\":[25,43,14,4,2,1,6,2,3,10,17],\"type\":\"pie\",\"textinfo\":\"percent+label\",\"textposition\":\"auto\"}],                        {\"template\":{\"data\":{\"bar\":[{\"error_x\":{\"color\":\"#2a3f5f\"},\"error_y\":{\"color\":\"#2a3f5f\"},\"marker\":{\"line\":{\"color\":\"#E5ECF6\",\"width\":0.5},\"pattern\":{\"fillmode\":\"overlay\",\"size\":10,\"solidity\":0.2}},\"type\":\"bar\"}],\"barpolar\":[{\"marker\":{\"line\":{\"color\":\"#E5ECF6\",\"width\":0.5},\"pattern\":{\"fillmode\":\"overlay\",\"size\":10,\"solidity\":0.2}},\"type\":\"barpolar\"}],\"carpet\":[{\"aaxis\":{\"endlinecolor\":\"#2a3f5f\",\"gridcolor\":\"white\",\"linecolor\":\"white\",\"minorgridcolor\":\"white\",\"startlinecolor\":\"#2a3f5f\"},\"baxis\":{\"endlinecolor\":\"#2a3f5f\",\"gridcolor\":\"white\",\"linecolor\":\"white\",\"minorgridcolor\":\"white\",\"startlinecolor\":\"#2a3f5f\"},\"type\":\"carpet\"}],\"choropleth\":[{\"colorbar\":{\"outlinewidth\":0,\"ticks\":\"\"},\"type\":\"choropleth\"}],\"contour\":[{\"colorbar\":{\"outlinewidth\":0,\"ticks\":\"\"},\"colorscale\":[[0.0,\"#0d0887\"],[0.1111111111111111,\"#46039f\"],[0.2222222222222222,\"#7201a8\"],[0.3333333333333333,\"#9c179e\"],[0.4444444444444444,\"#bd3786\"],[0.5555555555555556,\"#d8576b\"],[0.6666666666666666,\"#ed7953\"],[0.7777777777777778,\"#fb9f3a\"],[0.8888888888888888,\"#fdca26\"],[1.0,\"#f0f921\"]],\"type\":\"contour\"}],\"contourcarpet\":[{\"colorbar\":{\"outlinewidth\":0,\"ticks\":\"\"},\"type\":\"contourcarpet\"}],\"heatmap\":[{\"colorbar\":{\"outlinewidth\":0,\"ticks\":\"\"},\"colorscale\":[[0.0,\"#0d0887\"],[0.1111111111111111,\"#46039f\"],[0.2222222222222222,\"#7201a8\"],[0.3333333333333333,\"#9c179e\"],[0.4444444444444444,\"#bd3786\"],[0.5555555555555556,\"#d8576b\"],[0.6666666666666666,\"#ed7953\"],[0.7777777777777778,\"#fb9f3a\"],[0.8888888888888888,\"#fdca26\"],[1.0,\"#f0f921\"]],\"type\":\"heatmap\"}],\"heatmapgl\":[{\"colorbar\":{\"outlinewidth\":0,\"ticks\":\"\"},\"colorscale\":[[0.0,\"#0d0887\"],[0.1111111111111111,\"#46039f\"],[0.2222222222222222,\"#7201a8\"],[0.3333333333333333,\"#9c179e\"],[0.4444444444444444,\"#bd3786\"],[0.5555555555555556,\"#d8576b\"],[0.6666666666666666,\"#ed7953\"],[0.7777777777777778,\"#fb9f3a\"],[0.8888888888888888,\"#fdca26\"],[1.0,\"#f0f921\"]],\"type\":\"heatmapgl\"}],\"histogram\":[{\"marker\":{\"pattern\":{\"fillmode\":\"overlay\",\"size\":10,\"solidity\":0.2}},\"type\":\"histogram\"}],\"histogram2d\":[{\"colorbar\":{\"outlinewidth\":0,\"ticks\":\"\"},\"colorscale\":[[0.0,\"#0d0887\"],[0.1111111111111111,\"#46039f\"],[0.2222222222222222,\"#7201a8\"],[0.3333333333333333,\"#9c179e\"],[0.4444444444444444,\"#bd3786\"],[0.5555555555555556,\"#d8576b\"],[0.6666666666666666,\"#ed7953\"],[0.7777777777777778,\"#fb9f3a\"],[0.8888888888888888,\"#fdca26\"],[1.0,\"#f0f921\"]],\"type\":\"histogram2d\"}],\"histogram2dcontour\":[{\"colorbar\":{\"outlinewidth\":0,\"ticks\":\"\"},\"colorscale\":[[0.0,\"#0d0887\"],[0.1111111111111111,\"#46039f\"],[0.2222222222222222,\"#7201a8\"],[0.3333333333333333,\"#9c179e\"],[0.4444444444444444,\"#bd3786\"],[0.5555555555555556,\"#d8576b\"],[0.6666666666666666,\"#ed7953\"],[0.7777777777777778,\"#fb9f3a\"],[0.8888888888888888,\"#fdca26\"],[1.0,\"#f0f921\"]],\"type\":\"histogram2dcontour\"}],\"mesh3d\":[{\"colorbar\":{\"outlinewidth\":0,\"ticks\":\"\"},\"type\":\"mesh3d\"}],\"parcoords\":[{\"line\":{\"colorbar\":{\"outlinewidth\":0,\"ticks\":\"\"}},\"type\":\"parcoords\"}],\"pie\":[{\"automargin\":true,\"type\":\"pie\"}],\"scatter\":[{\"marker\":{\"colorbar\":{\"outlinewidth\":0,\"ticks\":\"\"}},\"type\":\"scatter\"}],\"scatter3d\":[{\"line\":{\"colorbar\":{\"outlinewidth\":0,\"ticks\":\"\"}},\"marker\":{\"colorbar\":{\"outlinewidth\":0,\"ticks\":\"\"}},\"type\":\"scatter3d\"}],\"scattercarpet\":[{\"marker\":{\"colorbar\":{\"outlinewidth\":0,\"ticks\":\"\"}},\"type\":\"scattercarpet\"}],\"scattergeo\":[{\"marker\":{\"colorbar\":{\"outlinewidth\":0,\"ticks\":\"\"}},\"type\":\"scattergeo\"}],\"scattergl\":[{\"marker\":{\"colorbar\":{\"outlinewidth\":0,\"ticks\":\"\"}},\"type\":\"scattergl\"}],\"scattermapbox\":[{\"marker\":{\"colorbar\":{\"outlinewidth\":0,\"ticks\":\"\"}},\"type\":\"scattermapbox\"}],\"scatterpolar\":[{\"marker\":{\"colorbar\":{\"outlinewidth\":0,\"ticks\":\"\"}},\"type\":\"scatterpolar\"}],\"scatterpolargl\":[{\"marker\":{\"colorbar\":{\"outlinewidth\":0,\"ticks\":\"\"}},\"type\":\"scatterpolargl\"}],\"scatterternary\":[{\"marker\":{\"colorbar\":{\"outlinewidth\":0,\"ticks\":\"\"}},\"type\":\"scatterternary\"}],\"surface\":[{\"colorbar\":{\"outlinewidth\":0,\"ticks\":\"\"},\"colorscale\":[[0.0,\"#0d0887\"],[0.1111111111111111,\"#46039f\"],[0.2222222222222222,\"#7201a8\"],[0.3333333333333333,\"#9c179e\"],[0.4444444444444444,\"#bd3786\"],[0.5555555555555556,\"#d8576b\"],[0.6666666666666666,\"#ed7953\"],[0.7777777777777778,\"#fb9f3a\"],[0.8888888888888888,\"#fdca26\"],[1.0,\"#f0f921\"]],\"type\":\"surface\"}],\"table\":[{\"cells\":{\"fill\":{\"color\":\"#EBF0F8\"},\"line\":{\"color\":\"white\"}},\"header\":{\"fill\":{\"color\":\"#C8D4E3\"},\"line\":{\"color\":\"white\"}},\"type\":\"table\"}]},\"layout\":{\"annotationdefaults\":{\"arrowcolor\":\"#2a3f5f\",\"arrowhead\":0,\"arrowwidth\":1},\"autotypenumbers\":\"strict\",\"coloraxis\":{\"colorbar\":{\"outlinewidth\":0,\"ticks\":\"\"}},\"colorscale\":{\"diverging\":[[0,\"#8e0152\"],[0.1,\"#c51b7d\"],[0.2,\"#de77ae\"],[0.3,\"#f1b6da\"],[0.4,\"#fde0ef\"],[0.5,\"#f7f7f7\"],[0.6,\"#e6f5d0\"],[0.7,\"#b8e186\"],[0.8,\"#7fbc41\"],[0.9,\"#4d9221\"],[1,\"#276419\"]],\"sequential\":[[0.0,\"#0d0887\"],[0.1111111111111111,\"#46039f\"],[0.2222222222222222,\"#7201a8\"],[0.3333333333333333,\"#9c179e\"],[0.4444444444444444,\"#bd3786\"],[0.5555555555555556,\"#d8576b\"],[0.6666666666666666,\"#ed7953\"],[0.7777777777777778,\"#fb9f3a\"],[0.8888888888888888,\"#fdca26\"],[1.0,\"#f0f921\"]],\"sequentialminus\":[[0.0,\"#0d0887\"],[0.1111111111111111,\"#46039f\"],[0.2222222222222222,\"#7201a8\"],[0.3333333333333333,\"#9c179e\"],[0.4444444444444444,\"#bd3786\"],[0.5555555555555556,\"#d8576b\"],[0.6666666666666666,\"#ed7953\"],[0.7777777777777778,\"#fb9f3a\"],[0.8888888888888888,\"#fdca26\"],[1.0,\"#f0f921\"]]},\"colorway\":[\"#636efa\",\"#EF553B\",\"#00cc96\",\"#ab63fa\",\"#FFA15A\",\"#19d3f3\",\"#FF6692\",\"#B6E880\",\"#FF97FF\",\"#FECB52\"],\"font\":{\"color\":\"#2a3f5f\"},\"geo\":{\"bgcolor\":\"white\",\"lakecolor\":\"white\",\"landcolor\":\"#E5ECF6\",\"showlakes\":true,\"showland\":true,\"subunitcolor\":\"white\"},\"hoverlabel\":{\"align\":\"left\"},\"hovermode\":\"closest\",\"mapbox\":{\"style\":\"light\"},\"paper_bgcolor\":\"white\",\"plot_bgcolor\":\"#E5ECF6\",\"polar\":{\"angularaxis\":{\"gridcolor\":\"white\",\"linecolor\":\"white\",\"ticks\":\"\"},\"bgcolor\":\"#E5ECF6\",\"radialaxis\":{\"gridcolor\":\"white\",\"linecolor\":\"white\",\"ticks\":\"\"}},\"scene\":{\"xaxis\":{\"backgroundcolor\":\"#E5ECF6\",\"gridcolor\":\"white\",\"gridwidth\":2,\"linecolor\":\"white\",\"showbackground\":true,\"ticks\":\"\",\"zerolinecolor\":\"white\"},\"yaxis\":{\"backgroundcolor\":\"#E5ECF6\",\"gridcolor\":\"white\",\"gridwidth\":2,\"linecolor\":\"white\",\"showbackground\":true,\"ticks\":\"\",\"zerolinecolor\":\"white\"},\"zaxis\":{\"backgroundcolor\":\"#E5ECF6\",\"gridcolor\":\"white\",\"gridwidth\":2,\"linecolor\":\"white\",\"showbackground\":true,\"ticks\":\"\",\"zerolinecolor\":\"white\"}},\"shapedefaults\":{\"line\":{\"color\":\"#2a3f5f\"}},\"ternary\":{\"aaxis\":{\"gridcolor\":\"white\",\"linecolor\":\"white\",\"ticks\":\"\"},\"baxis\":{\"gridcolor\":\"white\",\"linecolor\":\"white\",\"ticks\":\"\"},\"bgcolor\":\"#E5ECF6\",\"caxis\":{\"gridcolor\":\"white\",\"linecolor\":\"white\",\"ticks\":\"\"}},\"title\":{\"x\":0.05},\"xaxis\":{\"automargin\":true,\"gridcolor\":\"white\",\"linecolor\":\"white\",\"ticks\":\"\",\"title\":{\"standoff\":15},\"zerolinecolor\":\"white\",\"zerolinewidth\":2},\"yaxis\":{\"automargin\":true,\"gridcolor\":\"white\",\"linecolor\":\"white\",\"ticks\":\"\",\"title\":{\"standoff\":15},\"zerolinecolor\":\"white\",\"zerolinewidth\":2}}},\"legend\":{\"tracegroupgap\":0},\"title\":{\"text\":\"All Types of Controversies in featured companies\"}},                        {\"responsive\": true}                    ).then(function(){\n",
       "                            \n",
       "var gd = document.getElementById('d4ac2b4e-8be7-4926-9c33-4e3d0c67d67c');\n",
       "var x = new MutationObserver(function (mutations, observer) {{\n",
       "        var display = window.getComputedStyle(gd).display;\n",
       "        if (!display || display === 'none') {{\n",
       "            console.log([gd, 'removed!']);\n",
       "            Plotly.purge(gd);\n",
       "            observer.disconnect();\n",
       "        }}\n",
       "}});\n",
       "\n",
       "// Listen for the removal of the full notebook cells\n",
       "var notebookContainer = gd.closest('#notebook-container');\n",
       "if (notebookContainer) {{\n",
       "    x.observe(notebookContainer, {childList: true});\n",
       "}}\n",
       "\n",
       "// Listen for the clearing of the current output cell\n",
       "var outputEl = gd.closest('.output');\n",
       "if (outputEl) {{\n",
       "    x.observe(outputEl, {childList: true});\n",
       "}}\n",
       "\n",
       "                        })                };                });            </script>        </div>"
      ]
     },
     "metadata": {},
     "output_type": "display_data"
    }
   ],
   "source": [
    "names = ['Business Ethics Incidents', 'Customer Incidents','Employee Incidents', 'Environmental Supplychain Incidents',\n",
    "       'Governance Incidents', 'none', 'Operations Incidents','Product Service Incidents', 'Public Policy Incidents',\n",
    "       'Social Supplychain Incidents', 'Society Community Incidents']\n",
    "values = [controversy_df['businessEthicsIncidents'].sum(), controversy_df['customerIncidents'].sum(), \n",
    "          controversy_df['employeeIncidents'].sum(),controversy_df['environmentalSupplyChainIncidents'].sum(), \n",
    "          controversy_df['governanceIncidents'].sum(), controversy_df['None'].sum(),controversy_df['operationsIncidents'].sum(),\n",
    "          controversy_df['productServiceIncidents'].sum(),controversy_df['publicPolicyIncidents'].sum(), \n",
    "          controversy_df['socialSupplyChainIncidents'].sum(),controversy_df['societyCommunityIncidents'].sum()]\n",
    "\n",
    "# codebook_plotly_dapi.ipynb\n",
    "fig = px.pie(total_business_controversy,\n",
    "    values= values,\n",
    "    names= names,\n",
    "    title= 'All Types of Controversies in featured companies')\n",
    "\n",
    "fig.update_traces(textposition='auto', textinfo='percent+label')\n",
    "fig.show()"
   ]
  },
  {
   "cell_type": "code",
   "execution_count": 106,
   "id": "86e107fe",
   "metadata": {},
   "outputs": [
    {
     "data": {
      "application/vnd.plotly.v1+json": {
       "config": {
        "plotlyServerURL": "https://plot.ly"
       },
       "data": [
        {
         "alignmentgroup": "True",
         "hovertemplate": "variable=totalScore<br>Industry=%{x}<br>Sum of ESG Score=%{y}<extra></extra>",
         "legendgroup": "totalScore",
         "marker": {
          "color": "#636efa",
          "pattern": {
           "shape": ""
          }
         },
         "name": "totalScore",
         "offsetgroup": "totalScore",
         "orientation": "v",
         "showlegend": true,
         "textposition": "auto",
         "type": "bar",
         "x": [
          "Utilities",
          "Banks",
          "Diversified Financials",
          "Food Products",
          "Healthcare",
          "Household Products",
          "Software & Services",
          "Pharmaceuticals",
          "Semiconductors",
          "Aerospace & Defense",
          "Chemicals",
          "Transportation",
          "Technology Hardware",
          "Telecommunication Services",
          "Automobiles",
          "Real Estate",
          "Retailing",
          "Precious Metals",
          "Commercial Services",
          "Machinery",
          "Insurance",
          "Building Products"
         ],
         "xaxis": "x",
         "y": [
          166.2,
          136.4,
          132.5,
          99.1,
          94.9,
          93.2,
          87.6,
          68.2,
          59.8,
          57.3,
          48.900000000000006,
          40.7,
          40.2,
          38.9,
          29.6,
          27.7,
          26,
          23.2,
          23,
          16.9,
          16.4,
          15.2
         ],
         "yaxis": "y"
        }
       ],
       "layout": {
        "barmode": "relative",
        "legend": {
         "title": {
          "text": "variable"
         },
         "tracegroupgap": 0
        },
        "showlegend": false,
        "template": {
         "data": {
          "bar": [
           {
            "error_x": {
             "color": "#2a3f5f"
            },
            "error_y": {
             "color": "#2a3f5f"
            },
            "marker": {
             "line": {
              "color": "#E5ECF6",
              "width": 0.5
             },
             "pattern": {
              "fillmode": "overlay",
              "size": 10,
              "solidity": 0.2
             }
            },
            "type": "bar"
           }
          ],
          "barpolar": [
           {
            "marker": {
             "line": {
              "color": "#E5ECF6",
              "width": 0.5
             },
             "pattern": {
              "fillmode": "overlay",
              "size": 10,
              "solidity": 0.2
             }
            },
            "type": "barpolar"
           }
          ],
          "carpet": [
           {
            "aaxis": {
             "endlinecolor": "#2a3f5f",
             "gridcolor": "white",
             "linecolor": "white",
             "minorgridcolor": "white",
             "startlinecolor": "#2a3f5f"
            },
            "baxis": {
             "endlinecolor": "#2a3f5f",
             "gridcolor": "white",
             "linecolor": "white",
             "minorgridcolor": "white",
             "startlinecolor": "#2a3f5f"
            },
            "type": "carpet"
           }
          ],
          "choropleth": [
           {
            "colorbar": {
             "outlinewidth": 0,
             "ticks": ""
            },
            "type": "choropleth"
           }
          ],
          "contour": [
           {
            "colorbar": {
             "outlinewidth": 0,
             "ticks": ""
            },
            "colorscale": [
             [
              0,
              "#0d0887"
             ],
             [
              0.1111111111111111,
              "#46039f"
             ],
             [
              0.2222222222222222,
              "#7201a8"
             ],
             [
              0.3333333333333333,
              "#9c179e"
             ],
             [
              0.4444444444444444,
              "#bd3786"
             ],
             [
              0.5555555555555556,
              "#d8576b"
             ],
             [
              0.6666666666666666,
              "#ed7953"
             ],
             [
              0.7777777777777778,
              "#fb9f3a"
             ],
             [
              0.8888888888888888,
              "#fdca26"
             ],
             [
              1,
              "#f0f921"
             ]
            ],
            "type": "contour"
           }
          ],
          "contourcarpet": [
           {
            "colorbar": {
             "outlinewidth": 0,
             "ticks": ""
            },
            "type": "contourcarpet"
           }
          ],
          "heatmap": [
           {
            "colorbar": {
             "outlinewidth": 0,
             "ticks": ""
            },
            "colorscale": [
             [
              0,
              "#0d0887"
             ],
             [
              0.1111111111111111,
              "#46039f"
             ],
             [
              0.2222222222222222,
              "#7201a8"
             ],
             [
              0.3333333333333333,
              "#9c179e"
             ],
             [
              0.4444444444444444,
              "#bd3786"
             ],
             [
              0.5555555555555556,
              "#d8576b"
             ],
             [
              0.6666666666666666,
              "#ed7953"
             ],
             [
              0.7777777777777778,
              "#fb9f3a"
             ],
             [
              0.8888888888888888,
              "#fdca26"
             ],
             [
              1,
              "#f0f921"
             ]
            ],
            "type": "heatmap"
           }
          ],
          "heatmapgl": [
           {
            "colorbar": {
             "outlinewidth": 0,
             "ticks": ""
            },
            "colorscale": [
             [
              0,
              "#0d0887"
             ],
             [
              0.1111111111111111,
              "#46039f"
             ],
             [
              0.2222222222222222,
              "#7201a8"
             ],
             [
              0.3333333333333333,
              "#9c179e"
             ],
             [
              0.4444444444444444,
              "#bd3786"
             ],
             [
              0.5555555555555556,
              "#d8576b"
             ],
             [
              0.6666666666666666,
              "#ed7953"
             ],
             [
              0.7777777777777778,
              "#fb9f3a"
             ],
             [
              0.8888888888888888,
              "#fdca26"
             ],
             [
              1,
              "#f0f921"
             ]
            ],
            "type": "heatmapgl"
           }
          ],
          "histogram": [
           {
            "marker": {
             "pattern": {
              "fillmode": "overlay",
              "size": 10,
              "solidity": 0.2
             }
            },
            "type": "histogram"
           }
          ],
          "histogram2d": [
           {
            "colorbar": {
             "outlinewidth": 0,
             "ticks": ""
            },
            "colorscale": [
             [
              0,
              "#0d0887"
             ],
             [
              0.1111111111111111,
              "#46039f"
             ],
             [
              0.2222222222222222,
              "#7201a8"
             ],
             [
              0.3333333333333333,
              "#9c179e"
             ],
             [
              0.4444444444444444,
              "#bd3786"
             ],
             [
              0.5555555555555556,
              "#d8576b"
             ],
             [
              0.6666666666666666,
              "#ed7953"
             ],
             [
              0.7777777777777778,
              "#fb9f3a"
             ],
             [
              0.8888888888888888,
              "#fdca26"
             ],
             [
              1,
              "#f0f921"
             ]
            ],
            "type": "histogram2d"
           }
          ],
          "histogram2dcontour": [
           {
            "colorbar": {
             "outlinewidth": 0,
             "ticks": ""
            },
            "colorscale": [
             [
              0,
              "#0d0887"
             ],
             [
              0.1111111111111111,
              "#46039f"
             ],
             [
              0.2222222222222222,
              "#7201a8"
             ],
             [
              0.3333333333333333,
              "#9c179e"
             ],
             [
              0.4444444444444444,
              "#bd3786"
             ],
             [
              0.5555555555555556,
              "#d8576b"
             ],
             [
              0.6666666666666666,
              "#ed7953"
             ],
             [
              0.7777777777777778,
              "#fb9f3a"
             ],
             [
              0.8888888888888888,
              "#fdca26"
             ],
             [
              1,
              "#f0f921"
             ]
            ],
            "type": "histogram2dcontour"
           }
          ],
          "mesh3d": [
           {
            "colorbar": {
             "outlinewidth": 0,
             "ticks": ""
            },
            "type": "mesh3d"
           }
          ],
          "parcoords": [
           {
            "line": {
             "colorbar": {
              "outlinewidth": 0,
              "ticks": ""
             }
            },
            "type": "parcoords"
           }
          ],
          "pie": [
           {
            "automargin": true,
            "type": "pie"
           }
          ],
          "scatter": [
           {
            "marker": {
             "colorbar": {
              "outlinewidth": 0,
              "ticks": ""
             }
            },
            "type": "scatter"
           }
          ],
          "scatter3d": [
           {
            "line": {
             "colorbar": {
              "outlinewidth": 0,
              "ticks": ""
             }
            },
            "marker": {
             "colorbar": {
              "outlinewidth": 0,
              "ticks": ""
             }
            },
            "type": "scatter3d"
           }
          ],
          "scattercarpet": [
           {
            "marker": {
             "colorbar": {
              "outlinewidth": 0,
              "ticks": ""
             }
            },
            "type": "scattercarpet"
           }
          ],
          "scattergeo": [
           {
            "marker": {
             "colorbar": {
              "outlinewidth": 0,
              "ticks": ""
             }
            },
            "type": "scattergeo"
           }
          ],
          "scattergl": [
           {
            "marker": {
             "colorbar": {
              "outlinewidth": 0,
              "ticks": ""
             }
            },
            "type": "scattergl"
           }
          ],
          "scattermapbox": [
           {
            "marker": {
             "colorbar": {
              "outlinewidth": 0,
              "ticks": ""
             }
            },
            "type": "scattermapbox"
           }
          ],
          "scatterpolar": [
           {
            "marker": {
             "colorbar": {
              "outlinewidth": 0,
              "ticks": ""
             }
            },
            "type": "scatterpolar"
           }
          ],
          "scatterpolargl": [
           {
            "marker": {
             "colorbar": {
              "outlinewidth": 0,
              "ticks": ""
             }
            },
            "type": "scatterpolargl"
           }
          ],
          "scatterternary": [
           {
            "marker": {
             "colorbar": {
              "outlinewidth": 0,
              "ticks": ""
             }
            },
            "type": "scatterternary"
           }
          ],
          "surface": [
           {
            "colorbar": {
             "outlinewidth": 0,
             "ticks": ""
            },
            "colorscale": [
             [
              0,
              "#0d0887"
             ],
             [
              0.1111111111111111,
              "#46039f"
             ],
             [
              0.2222222222222222,
              "#7201a8"
             ],
             [
              0.3333333333333333,
              "#9c179e"
             ],
             [
              0.4444444444444444,
              "#bd3786"
             ],
             [
              0.5555555555555556,
              "#d8576b"
             ],
             [
              0.6666666666666666,
              "#ed7953"
             ],
             [
              0.7777777777777778,
              "#fb9f3a"
             ],
             [
              0.8888888888888888,
              "#fdca26"
             ],
             [
              1,
              "#f0f921"
             ]
            ],
            "type": "surface"
           }
          ],
          "table": [
           {
            "cells": {
             "fill": {
              "color": "#EBF0F8"
             },
             "line": {
              "color": "white"
             }
            },
            "header": {
             "fill": {
              "color": "#C8D4E3"
             },
             "line": {
              "color": "white"
             }
            },
            "type": "table"
           }
          ]
         },
         "layout": {
          "annotationdefaults": {
           "arrowcolor": "#2a3f5f",
           "arrowhead": 0,
           "arrowwidth": 1
          },
          "autotypenumbers": "strict",
          "coloraxis": {
           "colorbar": {
            "outlinewidth": 0,
            "ticks": ""
           }
          },
          "colorscale": {
           "diverging": [
            [
             0,
             "#8e0152"
            ],
            [
             0.1,
             "#c51b7d"
            ],
            [
             0.2,
             "#de77ae"
            ],
            [
             0.3,
             "#f1b6da"
            ],
            [
             0.4,
             "#fde0ef"
            ],
            [
             0.5,
             "#f7f7f7"
            ],
            [
             0.6,
             "#e6f5d0"
            ],
            [
             0.7,
             "#b8e186"
            ],
            [
             0.8,
             "#7fbc41"
            ],
            [
             0.9,
             "#4d9221"
            ],
            [
             1,
             "#276419"
            ]
           ],
           "sequential": [
            [
             0,
             "#0d0887"
            ],
            [
             0.1111111111111111,
             "#46039f"
            ],
            [
             0.2222222222222222,
             "#7201a8"
            ],
            [
             0.3333333333333333,
             "#9c179e"
            ],
            [
             0.4444444444444444,
             "#bd3786"
            ],
            [
             0.5555555555555556,
             "#d8576b"
            ],
            [
             0.6666666666666666,
             "#ed7953"
            ],
            [
             0.7777777777777778,
             "#fb9f3a"
            ],
            [
             0.8888888888888888,
             "#fdca26"
            ],
            [
             1,
             "#f0f921"
            ]
           ],
           "sequentialminus": [
            [
             0,
             "#0d0887"
            ],
            [
             0.1111111111111111,
             "#46039f"
            ],
            [
             0.2222222222222222,
             "#7201a8"
            ],
            [
             0.3333333333333333,
             "#9c179e"
            ],
            [
             0.4444444444444444,
             "#bd3786"
            ],
            [
             0.5555555555555556,
             "#d8576b"
            ],
            [
             0.6666666666666666,
             "#ed7953"
            ],
            [
             0.7777777777777778,
             "#fb9f3a"
            ],
            [
             0.8888888888888888,
             "#fdca26"
            ],
            [
             1,
             "#f0f921"
            ]
           ]
          },
          "colorway": [
           "#636efa",
           "#EF553B",
           "#00cc96",
           "#ab63fa",
           "#FFA15A",
           "#19d3f3",
           "#FF6692",
           "#B6E880",
           "#FF97FF",
           "#FECB52"
          ],
          "font": {
           "color": "#2a3f5f"
          },
          "geo": {
           "bgcolor": "white",
           "lakecolor": "white",
           "landcolor": "#E5ECF6",
           "showlakes": true,
           "showland": true,
           "subunitcolor": "white"
          },
          "hoverlabel": {
           "align": "left"
          },
          "hovermode": "closest",
          "mapbox": {
           "style": "light"
          },
          "paper_bgcolor": "white",
          "plot_bgcolor": "#E5ECF6",
          "polar": {
           "angularaxis": {
            "gridcolor": "white",
            "linecolor": "white",
            "ticks": ""
           },
           "bgcolor": "#E5ECF6",
           "radialaxis": {
            "gridcolor": "white",
            "linecolor": "white",
            "ticks": ""
           }
          },
          "scene": {
           "xaxis": {
            "backgroundcolor": "#E5ECF6",
            "gridcolor": "white",
            "gridwidth": 2,
            "linecolor": "white",
            "showbackground": true,
            "ticks": "",
            "zerolinecolor": "white"
           },
           "yaxis": {
            "backgroundcolor": "#E5ECF6",
            "gridcolor": "white",
            "gridwidth": 2,
            "linecolor": "white",
            "showbackground": true,
            "ticks": "",
            "zerolinecolor": "white"
           },
           "zaxis": {
            "backgroundcolor": "#E5ECF6",
            "gridcolor": "white",
            "gridwidth": 2,
            "linecolor": "white",
            "showbackground": true,
            "ticks": "",
            "zerolinecolor": "white"
           }
          },
          "shapedefaults": {
           "line": {
            "color": "#2a3f5f"
           }
          },
          "ternary": {
           "aaxis": {
            "gridcolor": "white",
            "linecolor": "white",
            "ticks": ""
           },
           "baxis": {
            "gridcolor": "white",
            "linecolor": "white",
            "ticks": ""
           },
           "bgcolor": "#E5ECF6",
           "caxis": {
            "gridcolor": "white",
            "linecolor": "white",
            "ticks": ""
           }
          },
          "title": {
           "x": 0.05
          },
          "xaxis": {
           "automargin": true,
           "gridcolor": "white",
           "linecolor": "white",
           "ticks": "",
           "title": {
            "standoff": 15
           },
           "zerolinecolor": "white",
           "zerolinewidth": 2
          },
          "yaxis": {
           "automargin": true,
           "gridcolor": "white",
           "linecolor": "white",
           "ticks": "",
           "title": {
            "standoff": 15
           },
           "zerolinecolor": "white",
           "zerolinewidth": 2
          }
         }
        },
        "title": {
         "text": "ESG Scores by Industry"
        },
        "xaxis": {
         "anchor": "y",
         "domain": [
          0,
          1
         ],
         "title": {
          "text": "Industry"
         }
        },
        "yaxis": {
         "anchor": "x",
         "domain": [
          0,
          1
         ],
         "title": {
          "text": "Sum of ESG Score"
         }
        }
       }
      },
      "text/html": [
       "<div>                            <div id=\"5865ceca-e39b-4ece-bdc8-131232b67b29\" class=\"plotly-graph-div\" style=\"height:525px; width:100%;\"></div>            <script type=\"text/javascript\">                require([\"plotly\"], function(Plotly) {                    window.PLOTLYENV=window.PLOTLYENV || {};                                    if (document.getElementById(\"5865ceca-e39b-4ece-bdc8-131232b67b29\")) {                    Plotly.newPlot(                        \"5865ceca-e39b-4ece-bdc8-131232b67b29\",                        [{\"alignmentgroup\":\"True\",\"hovertemplate\":\"variable=totalScore<br>Industry=%{x}<br>Sum of ESG Score=%{y}<extra></extra>\",\"legendgroup\":\"totalScore\",\"marker\":{\"color\":\"#636efa\",\"pattern\":{\"shape\":\"\"}},\"name\":\"totalScore\",\"offsetgroup\":\"totalScore\",\"orientation\":\"v\",\"showlegend\":true,\"textposition\":\"auto\",\"x\":[\"Utilities\",\"Banks\",\"Diversified Financials\",\"Food Products\",\"Healthcare\",\"Household Products\",\"Software & Services\",\"Pharmaceuticals\",\"Semiconductors\",\"Aerospace & Defense\",\"Chemicals\",\"Transportation\",\"Technology Hardware\",\"Telecommunication Services\",\"Automobiles\",\"Real Estate\",\"Retailing\",\"Precious Metals\",\"Commercial Services\",\"Machinery\",\"Insurance\",\"Building Products\"],\"xaxis\":\"x\",\"y\":[166.2,136.4,132.5,99.1,94.9,93.2,87.6,68.2,59.8,57.3,48.900000000000006,40.7,40.2,38.9,29.6,27.7,26.0,23.2,23.0,16.9,16.4,15.2],\"yaxis\":\"y\",\"type\":\"bar\"}],                        {\"template\":{\"data\":{\"bar\":[{\"error_x\":{\"color\":\"#2a3f5f\"},\"error_y\":{\"color\":\"#2a3f5f\"},\"marker\":{\"line\":{\"color\":\"#E5ECF6\",\"width\":0.5},\"pattern\":{\"fillmode\":\"overlay\",\"size\":10,\"solidity\":0.2}},\"type\":\"bar\"}],\"barpolar\":[{\"marker\":{\"line\":{\"color\":\"#E5ECF6\",\"width\":0.5},\"pattern\":{\"fillmode\":\"overlay\",\"size\":10,\"solidity\":0.2}},\"type\":\"barpolar\"}],\"carpet\":[{\"aaxis\":{\"endlinecolor\":\"#2a3f5f\",\"gridcolor\":\"white\",\"linecolor\":\"white\",\"minorgridcolor\":\"white\",\"startlinecolor\":\"#2a3f5f\"},\"baxis\":{\"endlinecolor\":\"#2a3f5f\",\"gridcolor\":\"white\",\"linecolor\":\"white\",\"minorgridcolor\":\"white\",\"startlinecolor\":\"#2a3f5f\"},\"type\":\"carpet\"}],\"choropleth\":[{\"colorbar\":{\"outlinewidth\":0,\"ticks\":\"\"},\"type\":\"choropleth\"}],\"contour\":[{\"colorbar\":{\"outlinewidth\":0,\"ticks\":\"\"},\"colorscale\":[[0.0,\"#0d0887\"],[0.1111111111111111,\"#46039f\"],[0.2222222222222222,\"#7201a8\"],[0.3333333333333333,\"#9c179e\"],[0.4444444444444444,\"#bd3786\"],[0.5555555555555556,\"#d8576b\"],[0.6666666666666666,\"#ed7953\"],[0.7777777777777778,\"#fb9f3a\"],[0.8888888888888888,\"#fdca26\"],[1.0,\"#f0f921\"]],\"type\":\"contour\"}],\"contourcarpet\":[{\"colorbar\":{\"outlinewidth\":0,\"ticks\":\"\"},\"type\":\"contourcarpet\"}],\"heatmap\":[{\"colorbar\":{\"outlinewidth\":0,\"ticks\":\"\"},\"colorscale\":[[0.0,\"#0d0887\"],[0.1111111111111111,\"#46039f\"],[0.2222222222222222,\"#7201a8\"],[0.3333333333333333,\"#9c179e\"],[0.4444444444444444,\"#bd3786\"],[0.5555555555555556,\"#d8576b\"],[0.6666666666666666,\"#ed7953\"],[0.7777777777777778,\"#fb9f3a\"],[0.8888888888888888,\"#fdca26\"],[1.0,\"#f0f921\"]],\"type\":\"heatmap\"}],\"heatmapgl\":[{\"colorbar\":{\"outlinewidth\":0,\"ticks\":\"\"},\"colorscale\":[[0.0,\"#0d0887\"],[0.1111111111111111,\"#46039f\"],[0.2222222222222222,\"#7201a8\"],[0.3333333333333333,\"#9c179e\"],[0.4444444444444444,\"#bd3786\"],[0.5555555555555556,\"#d8576b\"],[0.6666666666666666,\"#ed7953\"],[0.7777777777777778,\"#fb9f3a\"],[0.8888888888888888,\"#fdca26\"],[1.0,\"#f0f921\"]],\"type\":\"heatmapgl\"}],\"histogram\":[{\"marker\":{\"pattern\":{\"fillmode\":\"overlay\",\"size\":10,\"solidity\":0.2}},\"type\":\"histogram\"}],\"histogram2d\":[{\"colorbar\":{\"outlinewidth\":0,\"ticks\":\"\"},\"colorscale\":[[0.0,\"#0d0887\"],[0.1111111111111111,\"#46039f\"],[0.2222222222222222,\"#7201a8\"],[0.3333333333333333,\"#9c179e\"],[0.4444444444444444,\"#bd3786\"],[0.5555555555555556,\"#d8576b\"],[0.6666666666666666,\"#ed7953\"],[0.7777777777777778,\"#fb9f3a\"],[0.8888888888888888,\"#fdca26\"],[1.0,\"#f0f921\"]],\"type\":\"histogram2d\"}],\"histogram2dcontour\":[{\"colorbar\":{\"outlinewidth\":0,\"ticks\":\"\"},\"colorscale\":[[0.0,\"#0d0887\"],[0.1111111111111111,\"#46039f\"],[0.2222222222222222,\"#7201a8\"],[0.3333333333333333,\"#9c179e\"],[0.4444444444444444,\"#bd3786\"],[0.5555555555555556,\"#d8576b\"],[0.6666666666666666,\"#ed7953\"],[0.7777777777777778,\"#fb9f3a\"],[0.8888888888888888,\"#fdca26\"],[1.0,\"#f0f921\"]],\"type\":\"histogram2dcontour\"}],\"mesh3d\":[{\"colorbar\":{\"outlinewidth\":0,\"ticks\":\"\"},\"type\":\"mesh3d\"}],\"parcoords\":[{\"line\":{\"colorbar\":{\"outlinewidth\":0,\"ticks\":\"\"}},\"type\":\"parcoords\"}],\"pie\":[{\"automargin\":true,\"type\":\"pie\"}],\"scatter\":[{\"marker\":{\"colorbar\":{\"outlinewidth\":0,\"ticks\":\"\"}},\"type\":\"scatter\"}],\"scatter3d\":[{\"line\":{\"colorbar\":{\"outlinewidth\":0,\"ticks\":\"\"}},\"marker\":{\"colorbar\":{\"outlinewidth\":0,\"ticks\":\"\"}},\"type\":\"scatter3d\"}],\"scattercarpet\":[{\"marker\":{\"colorbar\":{\"outlinewidth\":0,\"ticks\":\"\"}},\"type\":\"scattercarpet\"}],\"scattergeo\":[{\"marker\":{\"colorbar\":{\"outlinewidth\":0,\"ticks\":\"\"}},\"type\":\"scattergeo\"}],\"scattergl\":[{\"marker\":{\"colorbar\":{\"outlinewidth\":0,\"ticks\":\"\"}},\"type\":\"scattergl\"}],\"scattermapbox\":[{\"marker\":{\"colorbar\":{\"outlinewidth\":0,\"ticks\":\"\"}},\"type\":\"scattermapbox\"}],\"scatterpolar\":[{\"marker\":{\"colorbar\":{\"outlinewidth\":0,\"ticks\":\"\"}},\"type\":\"scatterpolar\"}],\"scatterpolargl\":[{\"marker\":{\"colorbar\":{\"outlinewidth\":0,\"ticks\":\"\"}},\"type\":\"scatterpolargl\"}],\"scatterternary\":[{\"marker\":{\"colorbar\":{\"outlinewidth\":0,\"ticks\":\"\"}},\"type\":\"scatterternary\"}],\"surface\":[{\"colorbar\":{\"outlinewidth\":0,\"ticks\":\"\"},\"colorscale\":[[0.0,\"#0d0887\"],[0.1111111111111111,\"#46039f\"],[0.2222222222222222,\"#7201a8\"],[0.3333333333333333,\"#9c179e\"],[0.4444444444444444,\"#bd3786\"],[0.5555555555555556,\"#d8576b\"],[0.6666666666666666,\"#ed7953\"],[0.7777777777777778,\"#fb9f3a\"],[0.8888888888888888,\"#fdca26\"],[1.0,\"#f0f921\"]],\"type\":\"surface\"}],\"table\":[{\"cells\":{\"fill\":{\"color\":\"#EBF0F8\"},\"line\":{\"color\":\"white\"}},\"header\":{\"fill\":{\"color\":\"#C8D4E3\"},\"line\":{\"color\":\"white\"}},\"type\":\"table\"}]},\"layout\":{\"annotationdefaults\":{\"arrowcolor\":\"#2a3f5f\",\"arrowhead\":0,\"arrowwidth\":1},\"autotypenumbers\":\"strict\",\"coloraxis\":{\"colorbar\":{\"outlinewidth\":0,\"ticks\":\"\"}},\"colorscale\":{\"diverging\":[[0,\"#8e0152\"],[0.1,\"#c51b7d\"],[0.2,\"#de77ae\"],[0.3,\"#f1b6da\"],[0.4,\"#fde0ef\"],[0.5,\"#f7f7f7\"],[0.6,\"#e6f5d0\"],[0.7,\"#b8e186\"],[0.8,\"#7fbc41\"],[0.9,\"#4d9221\"],[1,\"#276419\"]],\"sequential\":[[0.0,\"#0d0887\"],[0.1111111111111111,\"#46039f\"],[0.2222222222222222,\"#7201a8\"],[0.3333333333333333,\"#9c179e\"],[0.4444444444444444,\"#bd3786\"],[0.5555555555555556,\"#d8576b\"],[0.6666666666666666,\"#ed7953\"],[0.7777777777777778,\"#fb9f3a\"],[0.8888888888888888,\"#fdca26\"],[1.0,\"#f0f921\"]],\"sequentialminus\":[[0.0,\"#0d0887\"],[0.1111111111111111,\"#46039f\"],[0.2222222222222222,\"#7201a8\"],[0.3333333333333333,\"#9c179e\"],[0.4444444444444444,\"#bd3786\"],[0.5555555555555556,\"#d8576b\"],[0.6666666666666666,\"#ed7953\"],[0.7777777777777778,\"#fb9f3a\"],[0.8888888888888888,\"#fdca26\"],[1.0,\"#f0f921\"]]},\"colorway\":[\"#636efa\",\"#EF553B\",\"#00cc96\",\"#ab63fa\",\"#FFA15A\",\"#19d3f3\",\"#FF6692\",\"#B6E880\",\"#FF97FF\",\"#FECB52\"],\"font\":{\"color\":\"#2a3f5f\"},\"geo\":{\"bgcolor\":\"white\",\"lakecolor\":\"white\",\"landcolor\":\"#E5ECF6\",\"showlakes\":true,\"showland\":true,\"subunitcolor\":\"white\"},\"hoverlabel\":{\"align\":\"left\"},\"hovermode\":\"closest\",\"mapbox\":{\"style\":\"light\"},\"paper_bgcolor\":\"white\",\"plot_bgcolor\":\"#E5ECF6\",\"polar\":{\"angularaxis\":{\"gridcolor\":\"white\",\"linecolor\":\"white\",\"ticks\":\"\"},\"bgcolor\":\"#E5ECF6\",\"radialaxis\":{\"gridcolor\":\"white\",\"linecolor\":\"white\",\"ticks\":\"\"}},\"scene\":{\"xaxis\":{\"backgroundcolor\":\"#E5ECF6\",\"gridcolor\":\"white\",\"gridwidth\":2,\"linecolor\":\"white\",\"showbackground\":true,\"ticks\":\"\",\"zerolinecolor\":\"white\"},\"yaxis\":{\"backgroundcolor\":\"#E5ECF6\",\"gridcolor\":\"white\",\"gridwidth\":2,\"linecolor\":\"white\",\"showbackground\":true,\"ticks\":\"\",\"zerolinecolor\":\"white\"},\"zaxis\":{\"backgroundcolor\":\"#E5ECF6\",\"gridcolor\":\"white\",\"gridwidth\":2,\"linecolor\":\"white\",\"showbackground\":true,\"ticks\":\"\",\"zerolinecolor\":\"white\"}},\"shapedefaults\":{\"line\":{\"color\":\"#2a3f5f\"}},\"ternary\":{\"aaxis\":{\"gridcolor\":\"white\",\"linecolor\":\"white\",\"ticks\":\"\"},\"baxis\":{\"gridcolor\":\"white\",\"linecolor\":\"white\",\"ticks\":\"\"},\"bgcolor\":\"#E5ECF6\",\"caxis\":{\"gridcolor\":\"white\",\"linecolor\":\"white\",\"ticks\":\"\"}},\"title\":{\"x\":0.05},\"xaxis\":{\"automargin\":true,\"gridcolor\":\"white\",\"linecolor\":\"white\",\"ticks\":\"\",\"title\":{\"standoff\":15},\"zerolinecolor\":\"white\",\"zerolinewidth\":2},\"yaxis\":{\"automargin\":true,\"gridcolor\":\"white\",\"linecolor\":\"white\",\"ticks\":\"\",\"title\":{\"standoff\":15},\"zerolinecolor\":\"white\",\"zerolinewidth\":2}}},\"xaxis\":{\"anchor\":\"y\",\"domain\":[0.0,1.0],\"title\":{\"text\":\"Industry\"}},\"yaxis\":{\"anchor\":\"x\",\"domain\":[0.0,1.0],\"title\":{\"text\":\"Sum of ESG Score\"}},\"legend\":{\"title\":{\"text\":\"variable\"},\"tracegroupgap\":0},\"title\":{\"text\":\"ESG Scores by Industry\"},\"barmode\":\"relative\",\"showlegend\":false},                        {\"responsive\": true}                    ).then(function(){\n",
       "                            \n",
       "var gd = document.getElementById('5865ceca-e39b-4ece-bdc8-131232b67b29');\n",
       "var x = new MutationObserver(function (mutations, observer) {{\n",
       "        var display = window.getComputedStyle(gd).display;\n",
       "        if (!display || display === 'none') {{\n",
       "            console.log([gd, 'removed!']);\n",
       "            Plotly.purge(gd);\n",
       "            observer.disconnect();\n",
       "        }}\n",
       "}});\n",
       "\n",
       "// Listen for the removal of the full notebook cells\n",
       "var notebookContainer = gd.closest('#notebook-container');\n",
       "if (notebookContainer) {{\n",
       "    x.observe(notebookContainer, {childList: true});\n",
       "}}\n",
       "\n",
       "// Listen for the clearing of the current output cell\n",
       "var outputEl = gd.closest('.output');\n",
       "if (outputEl) {{\n",
       "    x.observe(outputEl, {childList: true});\n",
       "}}\n",
       "\n",
       "                        })                };                });            </script>        </div>"
      ]
     },
     "metadata": {},
     "output_type": "display_data"
    }
   ],
   "source": [
    "# Industry wise EGS Scores\n",
    "fig = px.bar(esg_info_df.groupby(['peerGroup']).sum()['totalScore'].sort_values(ascending=False),  \n",
    "             title = 'ESG Scores by Industry',\n",
    "              labels={ # replaces default labels by column name\n",
    "                \"peerGroup\": \"Industry\",  \"value\": \"Sum of ESG Score\"\n",
    "            },\n",
    "             \n",
    "             )\n",
    "fig.update_layout(showlegend=False)\n",
    "fig.show()"
   ]
  },
  {
   "cell_type": "code",
   "execution_count": 130,
   "id": "d75548e2",
   "metadata": {},
   "outputs": [
    {
     "data": {
      "application/vnd.plotly.v1+json": {
       "config": {
        "plotlyServerURL": "https://plot.ly"
       },
       "data": [
        {
         "hovertemplate": "Ticker=INTC<br>Industry=%{x}<br>ESG Score=%{y}<br>returnOnEquity=%{marker.size}<extra></extra>",
         "legendgroup": "INTC",
         "marker": {
          "color": "#636efa",
          "size": [
           0.22522
          ],
          "sizemode": "area",
          "sizeref": 0.016445725,
          "symbol": "circle"
         },
         "mode": "markers",
         "name": "INTC",
         "orientation": "v",
         "showlegend": true,
         "type": "scatter",
         "x": [
          "Semiconductors"
         ],
         "xaxis": "x",
         "y": [
          17
         ],
         "yaxis": "y"
        },
        {
         "hovertemplate": "Ticker=MSFT<br>Industry=%{x}<br>ESG Score=%{y}<br>returnOnEquity=%{marker.size}<extra></extra>",
         "legendgroup": "MSFT",
         "marker": {
          "color": "#EF553B",
          "size": [
           0.49051
          ],
          "sizemode": "area",
          "sizeref": 0.016445725,
          "symbol": "circle"
         },
         "mode": "markers",
         "name": "MSFT",
         "orientation": "v",
         "showlegend": true,
         "type": "scatter",
         "x": [
          "Software & Services"
         ],
         "xaxis": "x",
         "y": [
          13
         ],
         "yaxis": "y"
        },
        {
         "hovertemplate": "Ticker=BAC<br>Industry=%{x}<br>ESG Score=%{y}<br>returnOnEquity=%{marker.size}<extra></extra>",
         "legendgroup": "BAC",
         "marker": {
          "color": "#00cc96",
          "size": [
           0.11778
          ],
          "sizemode": "area",
          "sizeref": 0.016445725,
          "symbol": "circle"
         },
         "mode": "markers",
         "name": "BAC",
         "orientation": "v",
         "showlegend": true,
         "type": "scatter",
         "x": [
          "Banks"
         ],
         "xaxis": "x",
         "y": [
          27
         ],
         "yaxis": "y"
        },
        {
         "hovertemplate": "Ticker=AAPL<br>Industry=%{x}<br>ESG Score=%{y}<br>returnOnEquity=%{marker.size}<extra></extra>",
         "legendgroup": "AAPL",
         "marker": {
          "color": "#ab63fa",
          "size": [
           1.45567
          ],
          "sizemode": "area",
          "sizeref": 0.016445725,
          "symbol": "circle"
         },
         "mode": "markers",
         "name": "AAPL",
         "orientation": "v",
         "showlegend": true,
         "type": "scatter",
         "x": [
          "Technology Hardware"
         ],
         "xaxis": "x",
         "y": [
          16.3
         ],
         "yaxis": "y"
        },
        {
         "hovertemplate": "Ticker=NVDA<br>Industry=%{x}<br>ESG Score=%{y}<br>returnOnEquity=%{marker.size}<extra></extra>",
         "legendgroup": "NVDA",
         "marker": {
          "color": "#FFA15A",
          "size": [
           0.44832
          ],
          "sizemode": "area",
          "sizeref": 0.016445725,
          "symbol": "circle"
         },
         "mode": "markers",
         "name": "NVDA",
         "orientation": "v",
         "showlegend": true,
         "type": "scatter",
         "x": [
          "Semiconductors"
         ],
         "xaxis": "x",
         "y": [
          12.8
         ],
         "yaxis": "y"
        },
        {
         "hovertemplate": "Ticker=VZ<br>Industry=%{x}<br>ESG Score=%{y}<br>returnOnEquity=%{marker.size}<extra></extra>",
         "legendgroup": "VZ",
         "marker": {
          "color": "#19d3f3",
          "size": [
           0.31167
          ],
          "sizemode": "area",
          "sizeref": 0.016445725,
          "symbol": "circle"
         },
         "mode": "markers",
         "name": "VZ",
         "orientation": "v",
         "showlegend": true,
         "type": "scatter",
         "x": [
          "Telecommunication Services"
         ],
         "xaxis": "x",
         "y": [
          16.7
         ],
         "yaxis": "y"
        },
        {
         "hovertemplate": "Ticker=CSCO<br>Industry=%{x}<br>ESG Score=%{y}<br>returnOnEquity=%{marker.size}<extra></extra>",
         "legendgroup": "CSCO",
         "marker": {
          "color": "#FF6692",
          "size": [
           0.28190002
          ],
          "sizemode": "area",
          "sizeref": 0.016445725,
          "symbol": "circle"
         },
         "mode": "markers",
         "name": "CSCO",
         "orientation": "v",
         "showlegend": true,
         "type": "scatter",
         "x": [
          "Technology Hardware"
         ],
         "xaxis": "x",
         "y": [
          11.8
         ],
         "yaxis": "y"
        },
        {
         "hovertemplate": "Ticker=EXC<br>Industry=%{x}<br>ESG Score=%{y}<br>returnOnEquity=%{marker.size}<extra></extra>",
         "legendgroup": "EXC",
         "marker": {
          "color": "#B6E880",
          "size": [
           0.05409
          ],
          "sizemode": "area",
          "sizeref": 0.016445725,
          "symbol": "circle"
         },
         "mode": "markers",
         "name": "EXC",
         "orientation": "v",
         "showlegend": true,
         "type": "scatter",
         "x": [
          "Utilities"
         ],
         "xaxis": "x",
         "y": [
          24.4
         ],
         "yaxis": "y"
        },
        {
         "hovertemplate": "Ticker=PEP<br>Industry=%{x}<br>ESG Score=%{y}<br>returnOnEquity=%{marker.size}<extra></extra>",
         "legendgroup": "PEP",
         "marker": {
          "color": "#FF97FF",
          "size": [
           0.55412996
          ],
          "sizemode": "area",
          "sizeref": 0.016445725,
          "symbol": "circle"
         },
         "mode": "markers",
         "name": "PEP",
         "orientation": "v",
         "showlegend": true,
         "type": "scatter",
         "x": [
          "Food Products"
         ],
         "xaxis": "x",
         "y": [
          16
         ],
         "yaxis": "y"
        },
        {
         "hovertemplate": "Ticker=MA<br>Industry=%{x}<br>ESG Score=%{y}<br>returnOnEquity=%{marker.size}<extra></extra>",
         "legendgroup": "MA",
         "marker": {
          "color": "#FECB52",
          "size": [
           1.2473301
          ],
          "sizemode": "area",
          "sizeref": 0.016445725,
          "symbol": "circle"
         },
         "mode": "markers",
         "name": "MA",
         "orientation": "v",
         "showlegend": true,
         "type": "scatter",
         "x": [
          "Software & Services"
         ],
         "xaxis": "x",
         "y": [
          17.2
         ],
         "yaxis": "y"
        },
        {
         "hovertemplate": "Ticker=HIG<br>Industry=%{x}<br>ESG Score=%{y}<br>returnOnEquity=%{marker.size}<extra></extra>",
         "legendgroup": "HIG",
         "marker": {
          "color": "#636efa",
          "size": [
           0.12995
          ],
          "sizemode": "area",
          "sizeref": 0.016445725,
          "symbol": "circle"
         },
         "mode": "markers",
         "name": "HIG",
         "orientation": "v",
         "showlegend": true,
         "type": "scatter",
         "x": [
          "Insurance"
         ],
         "xaxis": "x",
         "y": [
          16.4
         ],
         "yaxis": "y"
        },
        {
         "hovertemplate": "Ticker=C<br>Industry=%{x}<br>ESG Score=%{y}<br>returnOnEquity=%{marker.size}<extra></extra>",
         "legendgroup": "C",
         "marker": {
          "color": "#EF553B",
          "size": [
           0.10931
          ],
          "sizemode": "area",
          "sizeref": 0.016445725,
          "symbol": "circle"
         },
         "mode": "markers",
         "name": "C",
         "orientation": "v",
         "showlegend": true,
         "type": "scatter",
         "x": [
          "Banks"
         ],
         "xaxis": "x",
         "y": [
          27.8
         ],
         "yaxis": "y"
        },
        {
         "hovertemplate": "Ticker=ANTM<br>Industry=%{x}<br>ESG Score=%{y}<br>returnOnEquity=%{marker.size}<extra></extra>",
         "legendgroup": "ANTM",
         "marker": {
          "color": "#00cc96",
          "size": [
           0.15835
          ],
          "sizemode": "area",
          "sizeref": 0.016445725,
          "symbol": "circle"
         },
         "mode": "markers",
         "name": "ANTM",
         "orientation": "v",
         "showlegend": true,
         "type": "scatter",
         "x": [
          "Healthcare"
         ],
         "xaxis": "x",
         "y": [
          11.6
         ],
         "yaxis": "y"
        },
        {
         "hovertemplate": "Ticker=ACN<br>Industry=%{x}<br>ESG Score=%{y}<br>returnOnEquity=%{marker.size}<extra></extra>",
         "legendgroup": "ACN",
         "marker": {
          "color": "#ab63fa",
          "size": [
           0.31948
          ],
          "sizemode": "area",
          "sizeref": 0.016445725,
          "symbol": "circle"
         },
         "mode": "markers",
         "name": "ACN",
         "orientation": "v",
         "showlegend": true,
         "type": "scatter",
         "x": [
          "Software & Services"
         ],
         "xaxis": "x",
         "y": [
          9.4
         ],
         "yaxis": "y"
        },
        {
         "hovertemplate": "Ticker=T<br>Industry=%{x}<br>ESG Score=%{y}<br>returnOnEquity=%{marker.size}<extra></extra>",
         "legendgroup": "T",
         "marker": {
          "color": "#FFA15A",
          "size": [
           0.01368
          ],
          "sizemode": "area",
          "sizeref": 0.016445725,
          "symbol": "circle"
         },
         "mode": "markers",
         "name": "T",
         "orientation": "v",
         "showlegend": true,
         "type": "scatter",
         "x": [
          "Telecommunication Services"
         ],
         "xaxis": "x",
         "y": [
          22.2
         ],
         "yaxis": "y"
        },
        {
         "hovertemplate": "Ticker=IBM<br>Industry=%{x}<br>ESG Score=%{y}<br>returnOnEquity=%{marker.size}<extra></extra>",
         "legendgroup": "IBM",
         "marker": {
          "color": "#19d3f3",
          "size": [
           0.21405001
          ],
          "sizemode": "area",
          "sizeref": 0.016445725,
          "symbol": "circle"
         },
         "mode": "markers",
         "name": "IBM",
         "orientation": "v",
         "showlegend": true,
         "type": "scatter",
         "x": [
          "Software & Services"
         ],
         "xaxis": "x",
         "y": [
          14.8
         ],
         "yaxis": "y"
        },
        {
         "hovertemplate": "Ticker=F<br>Industry=%{x}<br>ESG Score=%{y}<br>returnOnEquity=%{marker.size}<extra></extra>",
         "legendgroup": "F",
         "marker": {
          "color": "#FF6692",
          "size": [
           0.45095003
          ],
          "sizemode": "area",
          "sizeref": 0.016445725,
          "symbol": "circle"
         },
         "mode": "markers",
         "name": "F",
         "orientation": "v",
         "showlegend": true,
         "type": "scatter",
         "x": [
          "Automobiles"
         ],
         "xaxis": "x",
         "y": [
          29.6
         ],
         "yaxis": "y"
        },
        {
         "hovertemplate": "Ticker=OC<br>Industry=%{x}<br>ESG Score=%{y}<br>returnOnEquity=%{marker.size}<extra></extra>",
         "legendgroup": "OC",
         "marker": {
          "color": "#B6E880",
          "size": [
           0.24493
          ],
          "sizemode": "area",
          "sizeref": 0.016445725,
          "symbol": "circle"
         },
         "mode": "markers",
         "name": "OC",
         "orientation": "v",
         "showlegend": true,
         "type": "scatter",
         "x": [
          "Building Products"
         ],
         "xaxis": "x",
         "y": [
          15.2
         ],
         "yaxis": "y"
        },
        {
         "hovertemplate": "Ticker=INTU<br>Industry=%{x}<br>ESG Score=%{y}<br>returnOnEquity=%{marker.size}<extra></extra>",
         "legendgroup": "INTU",
         "marker": {
          "color": "#FF97FF",
          "size": [
           0.27934
          ],
          "sizemode": "area",
          "sizeref": 0.016445725,
          "symbol": "circle"
         },
         "mode": "markers",
         "name": "INTU",
         "orientation": "v",
         "showlegend": true,
         "type": "scatter",
         "x": [
          "Software & Services"
         ],
         "xaxis": "x",
         "y": [
          16.5
         ],
         "yaxis": "y"
        },
        {
         "hovertemplate": "Ticker=WFC<br>Industry=%{x}<br>ESG Score=%{y}<br>returnOnEquity=%{marker.size}<extra></extra>",
         "legendgroup": "WFC",
         "marker": {
          "color": "#FECB52",
          "size": [
           0.1075
          ],
          "sizemode": "area",
          "sizeref": 0.016445725,
          "symbol": "circle"
         },
         "mode": "markers",
         "name": "WFC",
         "orientation": "v",
         "showlegend": true,
         "type": "scatter",
         "x": [
          "Banks"
         ],
         "xaxis": "x",
         "y": [
          32.8
         ],
         "yaxis": "y"
        },
        {
         "hovertemplate": "Ticker=MRK<br>Industry=%{x}<br>ESG Score=%{y}<br>returnOnEquity=%{marker.size}<extra></extra>",
         "legendgroup": "MRK",
         "marker": {
          "color": "#636efa",
          "size": [
           0.26036
          ],
          "sizemode": "area",
          "sizeref": 0.016445725,
          "symbol": "circle"
         },
         "mode": "markers",
         "name": "MRK",
         "orientation": "v",
         "showlegend": true,
         "type": "scatter",
         "x": [
          "Pharmaceuticals"
         ],
         "xaxis": "x",
         "y": [
          21.9
         ],
         "yaxis": "y"
        },
        {
         "hovertemplate": "Ticker=JPM<br>Industry=%{x}<br>ESG Score=%{y}<br>returnOnEquity=%{marker.size}<extra></extra>",
         "legendgroup": "JPM",
         "marker": {
          "color": "#EF553B",
          "size": [
           0.16856001
          ],
          "sizemode": "area",
          "sizeref": 0.016445725,
          "symbol": "circle"
         },
         "mode": "markers",
         "name": "JPM",
         "orientation": "v",
         "showlegend": true,
         "type": "scatter",
         "x": [
          "Banks"
         ],
         "xaxis": "x",
         "y": [
          29.3
         ],
         "yaxis": "y"
        },
        {
         "hovertemplate": "Ticker=AEP<br>Industry=%{x}<br>ESG Score=%{y}<br>returnOnEquity=%{marker.size}<extra></extra>",
         "legendgroup": "AEP",
         "marker": {
          "color": "#00cc96",
          "size": [
           0.11048
          ],
          "sizemode": "area",
          "sizeref": 0.016445725,
          "symbol": "circle"
         },
         "mode": "markers",
         "name": "AEP",
         "orientation": "v",
         "showlegend": true,
         "type": "scatter",
         "x": [
          "Utilities"
         ],
         "xaxis": "x",
         "y": [
          30.5
         ],
         "yaxis": "y"
        },
        {
         "hovertemplate": "Ticker=UNH<br>Industry=%{x}<br>ESG Score=%{y}<br>returnOnEquity=%{marker.size}<extra></extra>",
         "legendgroup": "UNH",
         "marker": {
          "color": "#ab63fa",
          "size": [
           0.21985
          ],
          "sizemode": "area",
          "sizeref": 0.016445725,
          "symbol": "circle"
         },
         "mode": "markers",
         "name": "UNH",
         "orientation": "v",
         "showlegend": true,
         "type": "scatter",
         "x": [
          "Healthcare"
         ],
         "xaxis": "x",
         "y": [
          17.4
         ],
         "yaxis": "y"
        },
        {
         "hovertemplate": "Ticker=CI<br>Industry=%{x}<br>ESG Score=%{y}<br>returnOnEquity=%{marker.size}<extra></extra>",
         "legendgroup": "CI",
         "marker": {
          "color": "#FFA15A",
          "size": [
           0.17627001
          ],
          "sizemode": "area",
          "sizeref": 0.016445725,
          "symbol": "circle"
         },
         "mode": "markers",
         "name": "CI",
         "orientation": "v",
         "showlegend": true,
         "type": "scatter",
         "x": [
          "Healthcare"
         ],
         "xaxis": "x",
         "y": [
          11.6
         ],
         "yaxis": "y"
        },
        {
         "hovertemplate": "Ticker=AMAT<br>Industry=%{x}<br>ESG Score=%{y}<br>returnOnEquity=%{marker.size}<extra></extra>",
         "legendgroup": "AMAT",
         "marker": {
          "color": "#19d3f3",
          "size": [
           0.51593
          ],
          "sizemode": "area",
          "sizeref": 0.016445725,
          "symbol": "circle"
         },
         "mode": "markers",
         "name": "AMAT",
         "orientation": "v",
         "showlegend": true,
         "type": "scatter",
         "x": [
          "Semiconductors"
         ],
         "xaxis": "x",
         "y": [
          12
         ],
         "yaxis": "y"
        },
        {
         "hovertemplate": "Ticker=CL<br>Industry=%{x}<br>ESG Score=%{y}<br>returnOnEquity=%{marker.size}<extra></extra>",
         "legendgroup": "CL",
         "marker": {
          "color": "#FF6692",
          "size": [
           2.25676
          ],
          "sizemode": "area",
          "sizeref": 0.016445725,
          "symbol": "circle"
         },
         "mode": "markers",
         "name": "CL",
         "orientation": "v",
         "showlegend": true,
         "type": "scatter",
         "x": [
          "Household Products"
         ],
         "xaxis": "x",
         "y": [
          22.1
         ],
         "yaxis": "y"
        },
        {
         "hovertemplate": "Ticker=EQIX<br>Industry=%{x}<br>ESG Score=%{y}<br>returnOnEquity=%{marker.size}<extra></extra>",
         "legendgroup": "EQIX",
         "marker": {
          "color": "#B6E880",
          "size": [
           0.04048
          ],
          "sizemode": "area",
          "sizeref": 0.016445725,
          "symbol": "circle"
         },
         "mode": "markers",
         "name": "EQIX",
         "orientation": "v",
         "showlegend": true,
         "type": "scatter",
         "x": [
          "Real Estate"
         ],
         "xaxis": "x",
         "y": [
          14.7
         ],
         "yaxis": "y"
        },
        {
         "hovertemplate": "Ticker=UPS<br>Industry=%{x}<br>ESG Score=%{y}<br>returnOnEquity=%{marker.size}<extra></extra>",
         "legendgroup": "UPS",
         "marker": {
          "color": "#FF97FF",
          "size": [
           0.73033994
          ],
          "sizemode": "area",
          "sizeref": 0.016445725,
          "symbol": "circle"
         },
         "mode": "markers",
         "name": "UPS",
         "orientation": "v",
         "showlegend": true,
         "type": "scatter",
         "x": [
          "Transportation"
         ],
         "xaxis": "x",
         "y": [
          20.2
         ],
         "yaxis": "y"
        },
        {
         "hovertemplate": "Ticker=NEM<br>Industry=%{x}<br>ESG Score=%{y}<br>returnOnEquity=%{marker.size}<extra></extra>",
         "legendgroup": "NEM",
         "marker": {
          "color": "#FECB52",
          "size": [
           0.07253
          ],
          "sizemode": "area",
          "sizeref": 0.016445725,
          "symbol": "circle"
         },
         "mode": "markers",
         "name": "NEM",
         "orientation": "v",
         "showlegend": true,
         "type": "scatter",
         "x": [
          "Precious Metals"
         ],
         "xaxis": "x",
         "y": [
          23.2
         ],
         "yaxis": "y"
        },
        {
         "hovertemplate": "Ticker=LMT<br>Industry=%{x}<br>ESG Score=%{y}<br>returnOnEquity=%{marker.size}<extra></extra>",
         "legendgroup": "LMT",
         "marker": {
          "color": "#636efa",
          "size": [
           0.74307
          ],
          "sizemode": "area",
          "sizeref": 0.016445725,
          "symbol": "circle"
         },
         "mode": "markers",
         "name": "LMT",
         "orientation": "v",
         "showlegend": true,
         "type": "scatter",
         "x": [
          "Aerospace & Defense"
         ],
         "xaxis": "x",
         "y": [
          28.8
         ],
         "yaxis": "y"
        },
        {
         "hovertemplate": "Ticker=BLK<br>Industry=%{x}<br>ESG Score=%{y}<br>returnOnEquity=%{marker.size}<extra></extra>",
         "legendgroup": "BLK",
         "marker": {
          "color": "#EF553B",
          "size": [
           0.16974
          ],
          "sizemode": "area",
          "sizeref": 0.016445725,
          "symbol": "circle"
         },
         "mode": "markers",
         "name": "BLK",
         "orientation": "v",
         "showlegend": true,
         "type": "scatter",
         "x": [
          "Diversified Financials"
         ],
         "xaxis": "x",
         "y": [
          20.7
         ],
         "yaxis": "y"
        },
        {
         "hovertemplate": "Ticker=EIX<br>Industry=%{x}<br>ESG Score=%{y}<br>returnOnEquity=%{marker.size}<extra></extra>",
         "legendgroup": "EIX",
         "marker": {
          "color": "#00cc96",
          "size": [
           0.04705
          ],
          "sizemode": "area",
          "sizeref": 0.016445725,
          "symbol": "circle"
         },
         "mode": "markers",
         "name": "EIX",
         "orientation": "v",
         "showlegend": true,
         "type": "scatter",
         "x": [
          "Utilities"
         ],
         "xaxis": "x",
         "y": [
          27
         ],
         "yaxis": "y"
        },
        {
         "hovertemplate": "Ticker=JNJ<br>Industry=%{x}<br>ESG Score=%{y}<br>returnOnEquity=%{marker.size}<extra></extra>",
         "legendgroup": "JNJ",
         "marker": {
          "color": "#ab63fa",
          "size": [
           0.30412
          ],
          "sizemode": "area",
          "sizeref": 0.016445725,
          "symbol": "circle"
         },
         "mode": "markers",
         "name": "JNJ",
         "orientation": "v",
         "showlegend": true,
         "type": "scatter",
         "x": [
          "Pharmaceuticals"
         ],
         "xaxis": "x",
         "y": [
          27.3
         ],
         "yaxis": "y"
        },
        {
         "hovertemplate": "Ticker=SYF<br>Industry=%{x}<br>ESG Score=%{y}<br>returnOnEquity=%{marker.size}<extra></extra>",
         "legendgroup": "SYF",
         "marker": {
          "color": "#FFA15A",
          "size": [
           0.32031
          ],
          "sizemode": "area",
          "sizeref": 0.016445725,
          "symbol": "circle"
         },
         "mode": "markers",
         "name": "SYF",
         "orientation": "v",
         "showlegend": true,
         "type": "scatter",
         "x": [
          "Diversified Financials"
         ],
         "xaxis": "x",
         "y": [
          18.7
         ],
         "yaxis": "y"
        },
        {
         "hovertemplate": "Ticker=FDX<br>Industry=%{x}<br>ESG Score=%{y}<br>returnOnEquity=%{marker.size}<extra></extra>",
         "legendgroup": "FDX",
         "marker": {
          "color": "#19d3f3",
          "size": [
           0.21384001
          ],
          "sizemode": "area",
          "sizeref": 0.016445725,
          "symbol": "circle"
         },
         "mode": "markers",
         "name": "FDX",
         "orientation": "v",
         "showlegend": true,
         "type": "scatter",
         "x": [
          "Transportation"
         ],
         "xaxis": "x",
         "y": [
          20.5
         ],
         "yaxis": "y"
        },
        {
         "hovertemplate": "Ticker=GS<br>Industry=%{x}<br>ESG Score=%{y}<br>returnOnEquity=%{marker.size}<extra></extra>",
         "legendgroup": "GS",
         "marker": {
          "color": "#FF6692",
          "size": [
           0.20768999
          ],
          "sizemode": "area",
          "sizeref": 0.016445725,
          "symbol": "circle"
         },
         "mode": "markers",
         "name": "GS",
         "orientation": "v",
         "showlegend": true,
         "type": "scatter",
         "x": [
          "Diversified Financials"
         ],
         "xaxis": "x",
         "y": [
          25
         ],
         "yaxis": "y"
        },
        {
         "hovertemplate": "Ticker=NOC<br>Industry=%{x}<br>ESG Score=%{y}<br>returnOnEquity=%{marker.size}<extra></extra>",
         "legendgroup": "NOC",
         "marker": {
          "color": "#B6E880",
          "size": [
           0.59604
          ],
          "sizemode": "area",
          "sizeref": 0.016445725,
          "symbol": "circle"
         },
         "mode": "markers",
         "name": "NOC",
         "orientation": "v",
         "showlegend": true,
         "type": "scatter",
         "x": [
          "Aerospace & Defense"
         ],
         "xaxis": "x",
         "y": [
          28.5
         ],
         "yaxis": "y"
        },
        {
         "hovertemplate": "Ticker=PG<br>Industry=%{x}<br>ESG Score=%{y}<br>returnOnEquity=%{marker.size}<extra></extra>",
         "legendgroup": "PG",
         "marker": {
          "color": "#FF97FF",
          "size": [
           0.31092
          ],
          "sizemode": "area",
          "sizeref": 0.016445725,
          "symbol": "circle"
         },
         "mode": "markers",
         "name": "PG",
         "orientation": "v",
         "showlegend": true,
         "type": "scatter",
         "x": [
          "Household Products"
         ],
         "xaxis": "x",
         "y": [
          27
         ],
         "yaxis": "y"
        },
        {
         "hovertemplate": "Ticker=ADM<br>Industry=%{x}<br>ESG Score=%{y}<br>returnOnEquity=%{marker.size}<extra></extra>",
         "legendgroup": "ADM",
         "marker": {
          "color": "#FECB52",
          "size": [
           0.12636
          ],
          "sizemode": "area",
          "sizeref": 0.016445725,
          "symbol": "circle"
         },
         "mode": "markers",
         "name": "ADM",
         "orientation": "v",
         "showlegend": true,
         "type": "scatter",
         "x": [
          "Food Products"
         ],
         "xaxis": "x",
         "y": [
          36.4
         ],
         "yaxis": "y"
        },
        {
         "hovertemplate": "Ticker=ETR<br>Industry=%{x}<br>ESG Score=%{y}<br>returnOnEquity=%{marker.size}<extra></extra>",
         "legendgroup": "ETR",
         "marker": {
          "color": "#636efa",
          "size": [
           0.096820004
          ],
          "sizemode": "area",
          "sizeref": 0.016445725,
          "symbol": "circle"
         },
         "mode": "markers",
         "name": "ETR",
         "orientation": "v",
         "showlegend": true,
         "type": "scatter",
         "x": [
          "Utilities"
         ],
         "xaxis": "x",
         "y": [
          30.3
         ],
         "yaxis": "y"
        },
        {
         "hovertemplate": "Ticker=QCOM<br>Industry=%{x}<br>ESG Score=%{y}<br>returnOnEquity=%{marker.size}<extra></extra>",
         "legendgroup": "QCOM",
         "marker": {
          "color": "#EF553B",
          "size": [
           1.06739
          ],
          "sizemode": "area",
          "sizeref": 0.016445725,
          "symbol": "circle"
         },
         "mode": "markers",
         "name": "QCOM",
         "orientation": "v",
         "showlegend": true,
         "type": "scatter",
         "x": [
          "Semiconductors"
         ],
         "xaxis": "x",
         "y": [
          18
         ],
         "yaxis": "y"
        },
        {
         "hovertemplate": "Ticker=GIS<br>Industry=%{x}<br>ESG Score=%{y}<br>returnOnEquity=%{marker.size}<extra></extra>",
         "legendgroup": "GIS",
         "marker": {
          "color": "#00cc96",
          "size": [
           0.22723
          ],
          "sizemode": "area",
          "sizeref": 0.016445725,
          "symbol": "circle"
         },
         "mode": "markers",
         "name": "GIS",
         "orientation": "v",
         "showlegend": true,
         "type": "scatter",
         "x": [
          "Food Products"
         ],
         "xaxis": "x",
         "y": [
          21.7
         ],
         "yaxis": "y"
        },
        {
         "hovertemplate": "Ticker=DE<br>Industry=%{x}<br>ESG Score=%{y}<br>returnOnEquity=%{marker.size}<extra></extra>",
         "legendgroup": "DE",
         "marker": {
          "color": "#ab63fa",
          "size": [
           0.3802
          ],
          "sizemode": "area",
          "sizeref": 0.016445725,
          "symbol": "circle"
         },
         "mode": "markers",
         "name": "DE",
         "orientation": "v",
         "showlegend": true,
         "type": "scatter",
         "x": [
          "Machinery"
         ],
         "xaxis": "x",
         "y": [
          16.9
         ],
         "yaxis": "y"
        },
        {
         "hovertemplate": "Ticker=RF<br>Industry=%{x}<br>ESG Score=%{y}<br>returnOnEquity=%{marker.size}<extra></extra>",
         "legendgroup": "RF",
         "marker": {
          "color": "#FFA15A",
          "size": [
           0.13838
          ],
          "sizemode": "area",
          "sizeref": 0.016445725,
          "symbol": "circle"
         },
         "mode": "markers",
         "name": "RF",
         "orientation": "v",
         "showlegend": true,
         "type": "scatter",
         "x": [
          "Banks"
         ],
         "xaxis": "x",
         "y": [
          19.5
         ],
         "yaxis": "y"
        },
        {
         "hovertemplate": "Ticker=LOW<br>Industry=%{x}<br>ESG Score=%{y}<br>returnOnEquity=%{marker.size}<extra></extra>",
         "legendgroup": "LOW",
         "marker": {
          "color": "#19d3f3",
          "size": [
           6.57829
          ],
          "sizemode": "area",
          "sizeref": 0.016445725,
          "symbol": "circle"
         },
         "mode": "markers",
         "name": "LOW",
         "orientation": "v",
         "showlegend": true,
         "type": "scatter",
         "x": [
          "Retailing"
         ],
         "xaxis": "x",
         "y": [
          11.7
         ],
         "yaxis": "y"
        },
        {
         "hovertemplate": "Ticker=AMGN<br>Industry=%{x}<br>ESG Score=%{y}<br>returnOnEquity=%{marker.size}<extra></extra>",
         "legendgroup": "AMGN",
         "marker": {
          "color": "#FF6692",
          "size": [
           0.585
          ],
          "sizemode": "area",
          "sizeref": 0.016445725,
          "symbol": "circle"
         },
         "mode": "markers",
         "name": "AMGN",
         "orientation": "v",
         "showlegend": true,
         "type": "scatter",
         "x": [
          "Pharmaceuticals"
         ],
         "xaxis": "x",
         "y": [
          19
         ],
         "yaxis": "y"
        },
        {
         "hovertemplate": "Ticker=ABT<br>Industry=%{x}<br>ESG Score=%{y}<br>returnOnEquity=%{marker.size}<extra></extra>",
         "legendgroup": "ABT",
         "marker": {
          "color": "#B6E880",
          "size": [
           0.21862
          ],
          "sizemode": "area",
          "sizeref": 0.016445725,
          "symbol": "circle"
         },
         "mode": "markers",
         "name": "ABT",
         "orientation": "v",
         "showlegend": true,
         "type": "scatter",
         "x": [
          "Healthcare"
         ],
         "xaxis": "x",
         "y": [
          26
         ],
         "yaxis": "y"
        },
        {
         "hovertemplate": "Ticker=HPE<br>Industry=%{x}<br>ESG Score=%{y}<br>returnOnEquity=%{marker.size}<extra></extra>",
         "legendgroup": "HPE",
         "marker": {
          "color": "#FF97FF",
          "size": [
           0.18979
          ],
          "sizemode": "area",
          "sizeref": 0.016445725,
          "symbol": "circle"
         },
         "mode": "markers",
         "name": "HPE",
         "orientation": "v",
         "showlegend": true,
         "type": "scatter",
         "x": [
          "Technology Hardware"
         ],
         "xaxis": "x",
         "y": [
          12.1
         ],
         "yaxis": "y"
        },
        {
         "hovertemplate": "Ticker=BDX<br>Industry=%{x}<br>ESG Score=%{y}<br>returnOnEquity=%{marker.size}<extra></extra>",
         "legendgroup": "BDX",
         "marker": {
          "color": "#FECB52",
          "size": [
           0.088190004
          ],
          "sizemode": "area",
          "sizeref": 0.016445725,
          "symbol": "circle"
         },
         "mode": "markers",
         "name": "BDX",
         "orientation": "v",
         "showlegend": true,
         "type": "scatter",
         "x": [
          "Healthcare"
         ],
         "xaxis": "x",
         "y": [
          28.3
         ],
         "yaxis": "y"
        },
        {
         "hovertemplate": "Ticker=CLX<br>Industry=%{x}<br>ESG Score=%{y}<br>returnOnEquity=%{marker.size}<extra></extra>",
         "legendgroup": "CLX",
         "marker": {
          "color": "#636efa",
          "size": [
           0.27365
          ],
          "sizemode": "area",
          "sizeref": 0.016445725,
          "symbol": "circle"
         },
         "mode": "markers",
         "name": "CLX",
         "orientation": "v",
         "showlegend": true,
         "type": "scatter",
         "x": [
          "Household Products"
         ],
         "xaxis": "x",
         "y": [
          21.9
         ],
         "yaxis": "y"
        },
        {
         "hovertemplate": "Ticker=AES<br>Industry=%{x}<br>ESG Score=%{y}<br>returnOnEquity=%{marker.size}<extra></extra>",
         "legendgroup": "AES",
         "marker": {
          "color": "#EF553B",
          "size": [
           0.15587
          ],
          "sizemode": "area",
          "sizeref": 0.016445725,
          "symbol": "circle"
         },
         "mode": "markers",
         "name": "AES",
         "orientation": "v",
         "showlegend": true,
         "type": "scatter",
         "x": [
          "Utilities"
         ],
         "xaxis": "x",
         "y": [
          35
         ],
         "yaxis": "y"
        },
        {
         "hovertemplate": "Ticker=SPGI<br>Industry=%{x}<br>ESG Score=%{y}<br>returnOnEquity=%{marker.size}<extra></extra>",
         "legendgroup": "SPGI",
         "marker": {
          "color": "#00cc96",
          "size": [
           0.73425
          ],
          "sizemode": "area",
          "sizeref": 0.016445725,
          "symbol": "circle"
         },
         "mode": "markers",
         "name": "SPGI",
         "orientation": "v",
         "showlegend": true,
         "type": "scatter",
         "x": [
          "Diversified Financials"
         ],
         "xaxis": "x",
         "y": [
          12.7
         ],
         "yaxis": "y"
        },
        {
         "hovertemplate": "Ticker=ES<br>Industry=%{x}<br>ESG Score=%{y}<br>returnOnEquity=%{marker.size}<extra></extra>",
         "legendgroup": "ES",
         "marker": {
          "color": "#ab63fa",
          "size": [
           0.08315
          ],
          "sizemode": "area",
          "sizeref": 0.016445725,
          "symbol": "circle"
         },
         "mode": "markers",
         "name": "ES",
         "orientation": "v",
         "showlegend": true,
         "type": "scatter",
         "x": [
          "Utilities"
         ],
         "xaxis": "x",
         "y": [
          19
         ],
         "yaxis": "y"
        },
        {
         "hovertemplate": "Ticker=HSY<br>Industry=%{x}<br>ESG Score=%{y}<br>returnOnEquity=%{marker.size}<extra></extra>",
         "legendgroup": "HSY",
         "marker": {
          "color": "#FFA15A",
          "size": [
           0.59371
          ],
          "sizemode": "area",
          "sizeref": 0.016445725,
          "symbol": "circle"
         },
         "mode": "markers",
         "name": "HSY",
         "orientation": "v",
         "showlegend": true,
         "type": "scatter",
         "x": [
          "Food Products"
         ],
         "xaxis": "x",
         "y": [
          25
         ],
         "yaxis": "y"
        },
        {
         "hovertemplate": "Ticker=AXP<br>Industry=%{x}<br>ESG Score=%{y}<br>returnOnEquity=%{marker.size}<extra></extra>",
         "legendgroup": "AXP",
         "marker": {
          "color": "#19d3f3",
          "size": [
           0.33606
          ],
          "sizemode": "area",
          "sizeref": 0.016445725,
          "symbol": "circle"
         },
         "mode": "markers",
         "name": "AXP",
         "orientation": "v",
         "showlegend": true,
         "type": "scatter",
         "x": [
          "Diversified Financials"
         ],
         "xaxis": "x",
         "y": [
          20.3
         ],
         "yaxis": "y"
        },
        {
         "hovertemplate": "Ticker=NLSN<br>Industry=%{x}<br>ESG Score=%{y}<br>returnOnEquity=%{marker.size}<extra></extra>",
         "legendgroup": "NLSN",
         "marker": {
          "color": "#FF6692",
          "size": [
           0.19481
          ],
          "sizemode": "area",
          "sizeref": 0.016445725,
          "symbol": "circle"
         },
         "mode": "markers",
         "name": "NLSN",
         "orientation": "v",
         "showlegend": true,
         "type": "scatter",
         "x": [
          "Commercial Services"
         ],
         "xaxis": "x",
         "y": [
          23
         ],
         "yaxis": "y"
        },
        {
         "hovertemplate": "Ticker=EBAY<br>Industry=%{x}<br>ESG Score=%{y}<br>returnOnEquity=%{marker.size}<extra></extra>",
         "legendgroup": "EBAY",
         "marker": {
          "color": "#B6E880",
          "size": [
           0.28445998
          ],
          "sizemode": "area",
          "sizeref": 0.016445725,
          "symbol": "circle"
         },
         "mode": "markers",
         "name": "EBAY",
         "orientation": "v",
         "showlegend": true,
         "type": "scatter",
         "x": [
          "Software & Services"
         ],
         "xaxis": "x",
         "y": [
          16.7
         ],
         "yaxis": "y"
        },
        {
         "hovertemplate": "Ticker=ECL<br>Industry=%{x}<br>ESG Score=%{y}<br>returnOnEquity=%{marker.size}<extra></extra>",
         "legendgroup": "ECL",
         "marker": {
          "color": "#FF97FF",
          "size": [
           0.17579001
          ],
          "sizemode": "area",
          "sizeref": 0.016445725,
          "symbol": "circle"
         },
         "mode": "markers",
         "name": "ECL",
         "orientation": "v",
         "showlegend": true,
         "type": "scatter",
         "x": [
          "Chemicals"
         ],
         "xaxis": "x",
         "y": [
          24.1
         ],
         "yaxis": "y"
        },
        {
         "hovertemplate": "Ticker=NDAQ<br>Industry=%{x}<br>ESG Score=%{y}<br>returnOnEquity=%{marker.size}<extra></extra>",
         "legendgroup": "NDAQ",
         "marker": {
          "color": "#FECB52",
          "size": [
           0.18642999
          ],
          "sizemode": "area",
          "sizeref": 0.016445725,
          "symbol": "circle"
         },
         "mode": "markers",
         "name": "NDAQ",
         "orientation": "v",
         "showlegend": true,
         "type": "scatter",
         "x": [
          "Diversified Financials"
         ],
         "xaxis": "x",
         "y": [
          11.9
         ],
         "yaxis": "y"
        },
        {
         "hovertemplate": "Ticker=DLR<br>Industry=%{x}<br>ESG Score=%{y}<br>returnOnEquity=%{marker.size}<extra></extra>",
         "legendgroup": "DLR",
         "marker": {
          "color": "#636efa",
          "size": [
           0.09442
          ],
          "sizemode": "area",
          "sizeref": 0.016445725,
          "symbol": "circle"
         },
         "mode": "markers",
         "name": "DLR",
         "orientation": "v",
         "showlegend": true,
         "type": "scatter",
         "x": [
          "Real Estate"
         ],
         "xaxis": "x",
         "y": [
          13
         ],
         "yaxis": "y"
        },
        {
         "hovertemplate": "Ticker=COF<br>Industry=%{x}<br>ESG Score=%{y}<br>returnOnEquity=%{marker.size}<extra></extra>",
         "legendgroup": "COF",
         "marker": {
          "color": "#EF553B",
          "size": [
           0.20556
          ],
          "sizemode": "area",
          "sizeref": 0.016445725,
          "symbol": "circle"
         },
         "mode": "markers",
         "name": "COF",
         "orientation": "v",
         "showlegend": true,
         "type": "scatter",
         "x": [
          "Diversified Financials"
         ],
         "xaxis": "x",
         "y": [
          23.2
         ],
         "yaxis": "y"
        },
        {
         "hovertemplate": "Ticker=BBY<br>Industry=%{x}<br>ESG Score=%{y}<br>returnOnEquity=%{marker.size}<extra></extra>",
         "legendgroup": "BBY",
         "marker": {
          "color": "#00cc96",
          "size": [
           0.63223
          ],
          "sizemode": "area",
          "sizeref": 0.016445725,
          "symbol": "circle"
         },
         "mode": "markers",
         "name": "BBY",
         "orientation": "v",
         "showlegend": true,
         "type": "scatter",
         "x": [
          "Retailing"
         ],
         "xaxis": "x",
         "y": [
          14.3
         ],
         "yaxis": "y"
        },
        {
         "hovertemplate": "Ticker=KMB<br>Industry=%{x}<br>ESG Score=%{y}<br>returnOnEquity=%{marker.size}<extra></extra>",
         "legendgroup": "KMB",
         "marker": {
          "color": "#ab63fa",
          "size": [
           2.29639
          ],
          "sizemode": "area",
          "sizeref": 0.016445725,
          "symbol": "circle"
         },
         "mode": "markers",
         "name": "KMB",
         "orientation": "v",
         "showlegend": true,
         "type": "scatter",
         "x": [
          "Household Products"
         ],
         "xaxis": "x",
         "y": [
          22.2
         ],
         "yaxis": "y"
        },
        {
         "hovertemplate": "Ticker=EMN<br>Industry=%{x}<br>ESG Score=%{y}<br>returnOnEquity=%{marker.size}<extra></extra>",
         "legendgroup": "EMN",
         "marker": {
          "color": "#FFA15A",
          "size": [
           0.08428001
          ],
          "sizemode": "area",
          "sizeref": 0.016445725,
          "symbol": "circle"
         },
         "mode": "markers",
         "name": "EMN",
         "orientation": "v",
         "showlegend": true,
         "type": "scatter",
         "x": [
          "Chemicals"
         ],
         "xaxis": "x",
         "y": [
          24.8
         ],
         "yaxis": "y"
        }
       ],
       "layout": {
        "legend": {
         "itemsizing": "constant",
         "title": {
          "text": "Ticker"
         },
         "tracegroupgap": 0
        },
        "template": {
         "data": {
          "bar": [
           {
            "error_x": {
             "color": "#2a3f5f"
            },
            "error_y": {
             "color": "#2a3f5f"
            },
            "marker": {
             "line": {
              "color": "#E5ECF6",
              "width": 0.5
             },
             "pattern": {
              "fillmode": "overlay",
              "size": 10,
              "solidity": 0.2
             }
            },
            "type": "bar"
           }
          ],
          "barpolar": [
           {
            "marker": {
             "line": {
              "color": "#E5ECF6",
              "width": 0.5
             },
             "pattern": {
              "fillmode": "overlay",
              "size": 10,
              "solidity": 0.2
             }
            },
            "type": "barpolar"
           }
          ],
          "carpet": [
           {
            "aaxis": {
             "endlinecolor": "#2a3f5f",
             "gridcolor": "white",
             "linecolor": "white",
             "minorgridcolor": "white",
             "startlinecolor": "#2a3f5f"
            },
            "baxis": {
             "endlinecolor": "#2a3f5f",
             "gridcolor": "white",
             "linecolor": "white",
             "minorgridcolor": "white",
             "startlinecolor": "#2a3f5f"
            },
            "type": "carpet"
           }
          ],
          "choropleth": [
           {
            "colorbar": {
             "outlinewidth": 0,
             "ticks": ""
            },
            "type": "choropleth"
           }
          ],
          "contour": [
           {
            "colorbar": {
             "outlinewidth": 0,
             "ticks": ""
            },
            "colorscale": [
             [
              0,
              "#0d0887"
             ],
             [
              0.1111111111111111,
              "#46039f"
             ],
             [
              0.2222222222222222,
              "#7201a8"
             ],
             [
              0.3333333333333333,
              "#9c179e"
             ],
             [
              0.4444444444444444,
              "#bd3786"
             ],
             [
              0.5555555555555556,
              "#d8576b"
             ],
             [
              0.6666666666666666,
              "#ed7953"
             ],
             [
              0.7777777777777778,
              "#fb9f3a"
             ],
             [
              0.8888888888888888,
              "#fdca26"
             ],
             [
              1,
              "#f0f921"
             ]
            ],
            "type": "contour"
           }
          ],
          "contourcarpet": [
           {
            "colorbar": {
             "outlinewidth": 0,
             "ticks": ""
            },
            "type": "contourcarpet"
           }
          ],
          "heatmap": [
           {
            "colorbar": {
             "outlinewidth": 0,
             "ticks": ""
            },
            "colorscale": [
             [
              0,
              "#0d0887"
             ],
             [
              0.1111111111111111,
              "#46039f"
             ],
             [
              0.2222222222222222,
              "#7201a8"
             ],
             [
              0.3333333333333333,
              "#9c179e"
             ],
             [
              0.4444444444444444,
              "#bd3786"
             ],
             [
              0.5555555555555556,
              "#d8576b"
             ],
             [
              0.6666666666666666,
              "#ed7953"
             ],
             [
              0.7777777777777778,
              "#fb9f3a"
             ],
             [
              0.8888888888888888,
              "#fdca26"
             ],
             [
              1,
              "#f0f921"
             ]
            ],
            "type": "heatmap"
           }
          ],
          "heatmapgl": [
           {
            "colorbar": {
             "outlinewidth": 0,
             "ticks": ""
            },
            "colorscale": [
             [
              0,
              "#0d0887"
             ],
             [
              0.1111111111111111,
              "#46039f"
             ],
             [
              0.2222222222222222,
              "#7201a8"
             ],
             [
              0.3333333333333333,
              "#9c179e"
             ],
             [
              0.4444444444444444,
              "#bd3786"
             ],
             [
              0.5555555555555556,
              "#d8576b"
             ],
             [
              0.6666666666666666,
              "#ed7953"
             ],
             [
              0.7777777777777778,
              "#fb9f3a"
             ],
             [
              0.8888888888888888,
              "#fdca26"
             ],
             [
              1,
              "#f0f921"
             ]
            ],
            "type": "heatmapgl"
           }
          ],
          "histogram": [
           {
            "marker": {
             "pattern": {
              "fillmode": "overlay",
              "size": 10,
              "solidity": 0.2
             }
            },
            "type": "histogram"
           }
          ],
          "histogram2d": [
           {
            "colorbar": {
             "outlinewidth": 0,
             "ticks": ""
            },
            "colorscale": [
             [
              0,
              "#0d0887"
             ],
             [
              0.1111111111111111,
              "#46039f"
             ],
             [
              0.2222222222222222,
              "#7201a8"
             ],
             [
              0.3333333333333333,
              "#9c179e"
             ],
             [
              0.4444444444444444,
              "#bd3786"
             ],
             [
              0.5555555555555556,
              "#d8576b"
             ],
             [
              0.6666666666666666,
              "#ed7953"
             ],
             [
              0.7777777777777778,
              "#fb9f3a"
             ],
             [
              0.8888888888888888,
              "#fdca26"
             ],
             [
              1,
              "#f0f921"
             ]
            ],
            "type": "histogram2d"
           }
          ],
          "histogram2dcontour": [
           {
            "colorbar": {
             "outlinewidth": 0,
             "ticks": ""
            },
            "colorscale": [
             [
              0,
              "#0d0887"
             ],
             [
              0.1111111111111111,
              "#46039f"
             ],
             [
              0.2222222222222222,
              "#7201a8"
             ],
             [
              0.3333333333333333,
              "#9c179e"
             ],
             [
              0.4444444444444444,
              "#bd3786"
             ],
             [
              0.5555555555555556,
              "#d8576b"
             ],
             [
              0.6666666666666666,
              "#ed7953"
             ],
             [
              0.7777777777777778,
              "#fb9f3a"
             ],
             [
              0.8888888888888888,
              "#fdca26"
             ],
             [
              1,
              "#f0f921"
             ]
            ],
            "type": "histogram2dcontour"
           }
          ],
          "mesh3d": [
           {
            "colorbar": {
             "outlinewidth": 0,
             "ticks": ""
            },
            "type": "mesh3d"
           }
          ],
          "parcoords": [
           {
            "line": {
             "colorbar": {
              "outlinewidth": 0,
              "ticks": ""
             }
            },
            "type": "parcoords"
           }
          ],
          "pie": [
           {
            "automargin": true,
            "type": "pie"
           }
          ],
          "scatter": [
           {
            "marker": {
             "colorbar": {
              "outlinewidth": 0,
              "ticks": ""
             }
            },
            "type": "scatter"
           }
          ],
          "scatter3d": [
           {
            "line": {
             "colorbar": {
              "outlinewidth": 0,
              "ticks": ""
             }
            },
            "marker": {
             "colorbar": {
              "outlinewidth": 0,
              "ticks": ""
             }
            },
            "type": "scatter3d"
           }
          ],
          "scattercarpet": [
           {
            "marker": {
             "colorbar": {
              "outlinewidth": 0,
              "ticks": ""
             }
            },
            "type": "scattercarpet"
           }
          ],
          "scattergeo": [
           {
            "marker": {
             "colorbar": {
              "outlinewidth": 0,
              "ticks": ""
             }
            },
            "type": "scattergeo"
           }
          ],
          "scattergl": [
           {
            "marker": {
             "colorbar": {
              "outlinewidth": 0,
              "ticks": ""
             }
            },
            "type": "scattergl"
           }
          ],
          "scattermapbox": [
           {
            "marker": {
             "colorbar": {
              "outlinewidth": 0,
              "ticks": ""
             }
            },
            "type": "scattermapbox"
           }
          ],
          "scatterpolar": [
           {
            "marker": {
             "colorbar": {
              "outlinewidth": 0,
              "ticks": ""
             }
            },
            "type": "scatterpolar"
           }
          ],
          "scatterpolargl": [
           {
            "marker": {
             "colorbar": {
              "outlinewidth": 0,
              "ticks": ""
             }
            },
            "type": "scatterpolargl"
           }
          ],
          "scatterternary": [
           {
            "marker": {
             "colorbar": {
              "outlinewidth": 0,
              "ticks": ""
             }
            },
            "type": "scatterternary"
           }
          ],
          "surface": [
           {
            "colorbar": {
             "outlinewidth": 0,
             "ticks": ""
            },
            "colorscale": [
             [
              0,
              "#0d0887"
             ],
             [
              0.1111111111111111,
              "#46039f"
             ],
             [
              0.2222222222222222,
              "#7201a8"
             ],
             [
              0.3333333333333333,
              "#9c179e"
             ],
             [
              0.4444444444444444,
              "#bd3786"
             ],
             [
              0.5555555555555556,
              "#d8576b"
             ],
             [
              0.6666666666666666,
              "#ed7953"
             ],
             [
              0.7777777777777778,
              "#fb9f3a"
             ],
             [
              0.8888888888888888,
              "#fdca26"
             ],
             [
              1,
              "#f0f921"
             ]
            ],
            "type": "surface"
           }
          ],
          "table": [
           {
            "cells": {
             "fill": {
              "color": "#EBF0F8"
             },
             "line": {
              "color": "white"
             }
            },
            "header": {
             "fill": {
              "color": "#C8D4E3"
             },
             "line": {
              "color": "white"
             }
            },
            "type": "table"
           }
          ]
         },
         "layout": {
          "annotationdefaults": {
           "arrowcolor": "#2a3f5f",
           "arrowhead": 0,
           "arrowwidth": 1
          },
          "autotypenumbers": "strict",
          "coloraxis": {
           "colorbar": {
            "outlinewidth": 0,
            "ticks": ""
           }
          },
          "colorscale": {
           "diverging": [
            [
             0,
             "#8e0152"
            ],
            [
             0.1,
             "#c51b7d"
            ],
            [
             0.2,
             "#de77ae"
            ],
            [
             0.3,
             "#f1b6da"
            ],
            [
             0.4,
             "#fde0ef"
            ],
            [
             0.5,
             "#f7f7f7"
            ],
            [
             0.6,
             "#e6f5d0"
            ],
            [
             0.7,
             "#b8e186"
            ],
            [
             0.8,
             "#7fbc41"
            ],
            [
             0.9,
             "#4d9221"
            ],
            [
             1,
             "#276419"
            ]
           ],
           "sequential": [
            [
             0,
             "#0d0887"
            ],
            [
             0.1111111111111111,
             "#46039f"
            ],
            [
             0.2222222222222222,
             "#7201a8"
            ],
            [
             0.3333333333333333,
             "#9c179e"
            ],
            [
             0.4444444444444444,
             "#bd3786"
            ],
            [
             0.5555555555555556,
             "#d8576b"
            ],
            [
             0.6666666666666666,
             "#ed7953"
            ],
            [
             0.7777777777777778,
             "#fb9f3a"
            ],
            [
             0.8888888888888888,
             "#fdca26"
            ],
            [
             1,
             "#f0f921"
            ]
           ],
           "sequentialminus": [
            [
             0,
             "#0d0887"
            ],
            [
             0.1111111111111111,
             "#46039f"
            ],
            [
             0.2222222222222222,
             "#7201a8"
            ],
            [
             0.3333333333333333,
             "#9c179e"
            ],
            [
             0.4444444444444444,
             "#bd3786"
            ],
            [
             0.5555555555555556,
             "#d8576b"
            ],
            [
             0.6666666666666666,
             "#ed7953"
            ],
            [
             0.7777777777777778,
             "#fb9f3a"
            ],
            [
             0.8888888888888888,
             "#fdca26"
            ],
            [
             1,
             "#f0f921"
            ]
           ]
          },
          "colorway": [
           "#636efa",
           "#EF553B",
           "#00cc96",
           "#ab63fa",
           "#FFA15A",
           "#19d3f3",
           "#FF6692",
           "#B6E880",
           "#FF97FF",
           "#FECB52"
          ],
          "font": {
           "color": "#2a3f5f"
          },
          "geo": {
           "bgcolor": "white",
           "lakecolor": "white",
           "landcolor": "#E5ECF6",
           "showlakes": true,
           "showland": true,
           "subunitcolor": "white"
          },
          "hoverlabel": {
           "align": "left"
          },
          "hovermode": "closest",
          "mapbox": {
           "style": "light"
          },
          "paper_bgcolor": "white",
          "plot_bgcolor": "#E5ECF6",
          "polar": {
           "angularaxis": {
            "gridcolor": "white",
            "linecolor": "white",
            "ticks": ""
           },
           "bgcolor": "#E5ECF6",
           "radialaxis": {
            "gridcolor": "white",
            "linecolor": "white",
            "ticks": ""
           }
          },
          "scene": {
           "xaxis": {
            "backgroundcolor": "#E5ECF6",
            "gridcolor": "white",
            "gridwidth": 2,
            "linecolor": "white",
            "showbackground": true,
            "ticks": "",
            "zerolinecolor": "white"
           },
           "yaxis": {
            "backgroundcolor": "#E5ECF6",
            "gridcolor": "white",
            "gridwidth": 2,
            "linecolor": "white",
            "showbackground": true,
            "ticks": "",
            "zerolinecolor": "white"
           },
           "zaxis": {
            "backgroundcolor": "#E5ECF6",
            "gridcolor": "white",
            "gridwidth": 2,
            "linecolor": "white",
            "showbackground": true,
            "ticks": "",
            "zerolinecolor": "white"
           }
          },
          "shapedefaults": {
           "line": {
            "color": "#2a3f5f"
           }
          },
          "ternary": {
           "aaxis": {
            "gridcolor": "white",
            "linecolor": "white",
            "ticks": ""
           },
           "baxis": {
            "gridcolor": "white",
            "linecolor": "white",
            "ticks": ""
           },
           "bgcolor": "#E5ECF6",
           "caxis": {
            "gridcolor": "white",
            "linecolor": "white",
            "ticks": ""
           }
          },
          "title": {
           "x": 0.05
          },
          "xaxis": {
           "automargin": true,
           "gridcolor": "white",
           "linecolor": "white",
           "ticks": "",
           "title": {
            "standoff": 15
           },
           "zerolinecolor": "white",
           "zerolinewidth": 2
          },
          "yaxis": {
           "automargin": true,
           "gridcolor": "white",
           "linecolor": "white",
           "ticks": "",
           "title": {
            "standoff": 15
           },
           "zerolinecolor": "white",
           "zerolinewidth": 2
          }
         }
        },
        "title": {
         "text": "ESG Scores for featured companies"
        },
        "xaxis": {
         "anchor": "y",
         "domain": [
          0,
          1
         ],
         "title": {
          "text": "Industry"
         }
        },
        "yaxis": {
         "anchor": "x",
         "domain": [
          0,
          1
         ],
         "title": {
          "text": "ESG Score"
         }
        }
       }
      },
      "text/html": [
       "<div>                            <div id=\"24ce7725-1528-4f27-b559-3b3afff4ae1d\" class=\"plotly-graph-div\" style=\"height:525px; width:100%;\"></div>            <script type=\"text/javascript\">                require([\"plotly\"], function(Plotly) {                    window.PLOTLYENV=window.PLOTLYENV || {};                                    if (document.getElementById(\"24ce7725-1528-4f27-b559-3b3afff4ae1d\")) {                    Plotly.newPlot(                        \"24ce7725-1528-4f27-b559-3b3afff4ae1d\",                        [{\"hovertemplate\":\"Ticker=INTC<br>Industry=%{x}<br>ESG Score=%{y}<br>returnOnEquity=%{marker.size}<extra></extra>\",\"legendgroup\":\"INTC\",\"marker\":{\"color\":\"#636efa\",\"size\":[0.22522],\"sizemode\":\"area\",\"sizeref\":0.016445725,\"symbol\":\"circle\"},\"mode\":\"markers\",\"name\":\"INTC\",\"orientation\":\"v\",\"showlegend\":true,\"x\":[\"Semiconductors\"],\"xaxis\":\"x\",\"y\":[17.0],\"yaxis\":\"y\",\"type\":\"scatter\"},{\"hovertemplate\":\"Ticker=MSFT<br>Industry=%{x}<br>ESG Score=%{y}<br>returnOnEquity=%{marker.size}<extra></extra>\",\"legendgroup\":\"MSFT\",\"marker\":{\"color\":\"#EF553B\",\"size\":[0.49051],\"sizemode\":\"area\",\"sizeref\":0.016445725,\"symbol\":\"circle\"},\"mode\":\"markers\",\"name\":\"MSFT\",\"orientation\":\"v\",\"showlegend\":true,\"x\":[\"Software & Services\"],\"xaxis\":\"x\",\"y\":[13.0],\"yaxis\":\"y\",\"type\":\"scatter\"},{\"hovertemplate\":\"Ticker=BAC<br>Industry=%{x}<br>ESG Score=%{y}<br>returnOnEquity=%{marker.size}<extra></extra>\",\"legendgroup\":\"BAC\",\"marker\":{\"color\":\"#00cc96\",\"size\":[0.11778],\"sizemode\":\"area\",\"sizeref\":0.016445725,\"symbol\":\"circle\"},\"mode\":\"markers\",\"name\":\"BAC\",\"orientation\":\"v\",\"showlegend\":true,\"x\":[\"Banks\"],\"xaxis\":\"x\",\"y\":[27.0],\"yaxis\":\"y\",\"type\":\"scatter\"},{\"hovertemplate\":\"Ticker=AAPL<br>Industry=%{x}<br>ESG Score=%{y}<br>returnOnEquity=%{marker.size}<extra></extra>\",\"legendgroup\":\"AAPL\",\"marker\":{\"color\":\"#ab63fa\",\"size\":[1.45567],\"sizemode\":\"area\",\"sizeref\":0.016445725,\"symbol\":\"circle\"},\"mode\":\"markers\",\"name\":\"AAPL\",\"orientation\":\"v\",\"showlegend\":true,\"x\":[\"Technology Hardware\"],\"xaxis\":\"x\",\"y\":[16.3],\"yaxis\":\"y\",\"type\":\"scatter\"},{\"hovertemplate\":\"Ticker=NVDA<br>Industry=%{x}<br>ESG Score=%{y}<br>returnOnEquity=%{marker.size}<extra></extra>\",\"legendgroup\":\"NVDA\",\"marker\":{\"color\":\"#FFA15A\",\"size\":[0.44832],\"sizemode\":\"area\",\"sizeref\":0.016445725,\"symbol\":\"circle\"},\"mode\":\"markers\",\"name\":\"NVDA\",\"orientation\":\"v\",\"showlegend\":true,\"x\":[\"Semiconductors\"],\"xaxis\":\"x\",\"y\":[12.8],\"yaxis\":\"y\",\"type\":\"scatter\"},{\"hovertemplate\":\"Ticker=VZ<br>Industry=%{x}<br>ESG Score=%{y}<br>returnOnEquity=%{marker.size}<extra></extra>\",\"legendgroup\":\"VZ\",\"marker\":{\"color\":\"#19d3f3\",\"size\":[0.31167],\"sizemode\":\"area\",\"sizeref\":0.016445725,\"symbol\":\"circle\"},\"mode\":\"markers\",\"name\":\"VZ\",\"orientation\":\"v\",\"showlegend\":true,\"x\":[\"Telecommunication Services\"],\"xaxis\":\"x\",\"y\":[16.7],\"yaxis\":\"y\",\"type\":\"scatter\"},{\"hovertemplate\":\"Ticker=CSCO<br>Industry=%{x}<br>ESG Score=%{y}<br>returnOnEquity=%{marker.size}<extra></extra>\",\"legendgroup\":\"CSCO\",\"marker\":{\"color\":\"#FF6692\",\"size\":[0.28190002],\"sizemode\":\"area\",\"sizeref\":0.016445725,\"symbol\":\"circle\"},\"mode\":\"markers\",\"name\":\"CSCO\",\"orientation\":\"v\",\"showlegend\":true,\"x\":[\"Technology Hardware\"],\"xaxis\":\"x\",\"y\":[11.8],\"yaxis\":\"y\",\"type\":\"scatter\"},{\"hovertemplate\":\"Ticker=EXC<br>Industry=%{x}<br>ESG Score=%{y}<br>returnOnEquity=%{marker.size}<extra></extra>\",\"legendgroup\":\"EXC\",\"marker\":{\"color\":\"#B6E880\",\"size\":[0.05409],\"sizemode\":\"area\",\"sizeref\":0.016445725,\"symbol\":\"circle\"},\"mode\":\"markers\",\"name\":\"EXC\",\"orientation\":\"v\",\"showlegend\":true,\"x\":[\"Utilities\"],\"xaxis\":\"x\",\"y\":[24.4],\"yaxis\":\"y\",\"type\":\"scatter\"},{\"hovertemplate\":\"Ticker=PEP<br>Industry=%{x}<br>ESG Score=%{y}<br>returnOnEquity=%{marker.size}<extra></extra>\",\"legendgroup\":\"PEP\",\"marker\":{\"color\":\"#FF97FF\",\"size\":[0.55412996],\"sizemode\":\"area\",\"sizeref\":0.016445725,\"symbol\":\"circle\"},\"mode\":\"markers\",\"name\":\"PEP\",\"orientation\":\"v\",\"showlegend\":true,\"x\":[\"Food Products\"],\"xaxis\":\"x\",\"y\":[16.0],\"yaxis\":\"y\",\"type\":\"scatter\"},{\"hovertemplate\":\"Ticker=MA<br>Industry=%{x}<br>ESG Score=%{y}<br>returnOnEquity=%{marker.size}<extra></extra>\",\"legendgroup\":\"MA\",\"marker\":{\"color\":\"#FECB52\",\"size\":[1.2473301],\"sizemode\":\"area\",\"sizeref\":0.016445725,\"symbol\":\"circle\"},\"mode\":\"markers\",\"name\":\"MA\",\"orientation\":\"v\",\"showlegend\":true,\"x\":[\"Software & Services\"],\"xaxis\":\"x\",\"y\":[17.2],\"yaxis\":\"y\",\"type\":\"scatter\"},{\"hovertemplate\":\"Ticker=HIG<br>Industry=%{x}<br>ESG Score=%{y}<br>returnOnEquity=%{marker.size}<extra></extra>\",\"legendgroup\":\"HIG\",\"marker\":{\"color\":\"#636efa\",\"size\":[0.12995],\"sizemode\":\"area\",\"sizeref\":0.016445725,\"symbol\":\"circle\"},\"mode\":\"markers\",\"name\":\"HIG\",\"orientation\":\"v\",\"showlegend\":true,\"x\":[\"Insurance\"],\"xaxis\":\"x\",\"y\":[16.4],\"yaxis\":\"y\",\"type\":\"scatter\"},{\"hovertemplate\":\"Ticker=C<br>Industry=%{x}<br>ESG Score=%{y}<br>returnOnEquity=%{marker.size}<extra></extra>\",\"legendgroup\":\"C\",\"marker\":{\"color\":\"#EF553B\",\"size\":[0.10931],\"sizemode\":\"area\",\"sizeref\":0.016445725,\"symbol\":\"circle\"},\"mode\":\"markers\",\"name\":\"C\",\"orientation\":\"v\",\"showlegend\":true,\"x\":[\"Banks\"],\"xaxis\":\"x\",\"y\":[27.8],\"yaxis\":\"y\",\"type\":\"scatter\"},{\"hovertemplate\":\"Ticker=ANTM<br>Industry=%{x}<br>ESG Score=%{y}<br>returnOnEquity=%{marker.size}<extra></extra>\",\"legendgroup\":\"ANTM\",\"marker\":{\"color\":\"#00cc96\",\"size\":[0.15835],\"sizemode\":\"area\",\"sizeref\":0.016445725,\"symbol\":\"circle\"},\"mode\":\"markers\",\"name\":\"ANTM\",\"orientation\":\"v\",\"showlegend\":true,\"x\":[\"Healthcare\"],\"xaxis\":\"x\",\"y\":[11.6],\"yaxis\":\"y\",\"type\":\"scatter\"},{\"hovertemplate\":\"Ticker=ACN<br>Industry=%{x}<br>ESG Score=%{y}<br>returnOnEquity=%{marker.size}<extra></extra>\",\"legendgroup\":\"ACN\",\"marker\":{\"color\":\"#ab63fa\",\"size\":[0.31948],\"sizemode\":\"area\",\"sizeref\":0.016445725,\"symbol\":\"circle\"},\"mode\":\"markers\",\"name\":\"ACN\",\"orientation\":\"v\",\"showlegend\":true,\"x\":[\"Software & Services\"],\"xaxis\":\"x\",\"y\":[9.4],\"yaxis\":\"y\",\"type\":\"scatter\"},{\"hovertemplate\":\"Ticker=T<br>Industry=%{x}<br>ESG Score=%{y}<br>returnOnEquity=%{marker.size}<extra></extra>\",\"legendgroup\":\"T\",\"marker\":{\"color\":\"#FFA15A\",\"size\":[0.01368],\"sizemode\":\"area\",\"sizeref\":0.016445725,\"symbol\":\"circle\"},\"mode\":\"markers\",\"name\":\"T\",\"orientation\":\"v\",\"showlegend\":true,\"x\":[\"Telecommunication Services\"],\"xaxis\":\"x\",\"y\":[22.2],\"yaxis\":\"y\",\"type\":\"scatter\"},{\"hovertemplate\":\"Ticker=IBM<br>Industry=%{x}<br>ESG Score=%{y}<br>returnOnEquity=%{marker.size}<extra></extra>\",\"legendgroup\":\"IBM\",\"marker\":{\"color\":\"#19d3f3\",\"size\":[0.21405001],\"sizemode\":\"area\",\"sizeref\":0.016445725,\"symbol\":\"circle\"},\"mode\":\"markers\",\"name\":\"IBM\",\"orientation\":\"v\",\"showlegend\":true,\"x\":[\"Software & Services\"],\"xaxis\":\"x\",\"y\":[14.8],\"yaxis\":\"y\",\"type\":\"scatter\"},{\"hovertemplate\":\"Ticker=F<br>Industry=%{x}<br>ESG Score=%{y}<br>returnOnEquity=%{marker.size}<extra></extra>\",\"legendgroup\":\"F\",\"marker\":{\"color\":\"#FF6692\",\"size\":[0.45095003],\"sizemode\":\"area\",\"sizeref\":0.016445725,\"symbol\":\"circle\"},\"mode\":\"markers\",\"name\":\"F\",\"orientation\":\"v\",\"showlegend\":true,\"x\":[\"Automobiles\"],\"xaxis\":\"x\",\"y\":[29.6],\"yaxis\":\"y\",\"type\":\"scatter\"},{\"hovertemplate\":\"Ticker=OC<br>Industry=%{x}<br>ESG Score=%{y}<br>returnOnEquity=%{marker.size}<extra></extra>\",\"legendgroup\":\"OC\",\"marker\":{\"color\":\"#B6E880\",\"size\":[0.24493],\"sizemode\":\"area\",\"sizeref\":0.016445725,\"symbol\":\"circle\"},\"mode\":\"markers\",\"name\":\"OC\",\"orientation\":\"v\",\"showlegend\":true,\"x\":[\"Building Products\"],\"xaxis\":\"x\",\"y\":[15.2],\"yaxis\":\"y\",\"type\":\"scatter\"},{\"hovertemplate\":\"Ticker=INTU<br>Industry=%{x}<br>ESG Score=%{y}<br>returnOnEquity=%{marker.size}<extra></extra>\",\"legendgroup\":\"INTU\",\"marker\":{\"color\":\"#FF97FF\",\"size\":[0.27934],\"sizemode\":\"area\",\"sizeref\":0.016445725,\"symbol\":\"circle\"},\"mode\":\"markers\",\"name\":\"INTU\",\"orientation\":\"v\",\"showlegend\":true,\"x\":[\"Software & Services\"],\"xaxis\":\"x\",\"y\":[16.5],\"yaxis\":\"y\",\"type\":\"scatter\"},{\"hovertemplate\":\"Ticker=WFC<br>Industry=%{x}<br>ESG Score=%{y}<br>returnOnEquity=%{marker.size}<extra></extra>\",\"legendgroup\":\"WFC\",\"marker\":{\"color\":\"#FECB52\",\"size\":[0.1075],\"sizemode\":\"area\",\"sizeref\":0.016445725,\"symbol\":\"circle\"},\"mode\":\"markers\",\"name\":\"WFC\",\"orientation\":\"v\",\"showlegend\":true,\"x\":[\"Banks\"],\"xaxis\":\"x\",\"y\":[32.8],\"yaxis\":\"y\",\"type\":\"scatter\"},{\"hovertemplate\":\"Ticker=MRK<br>Industry=%{x}<br>ESG Score=%{y}<br>returnOnEquity=%{marker.size}<extra></extra>\",\"legendgroup\":\"MRK\",\"marker\":{\"color\":\"#636efa\",\"size\":[0.26036],\"sizemode\":\"area\",\"sizeref\":0.016445725,\"symbol\":\"circle\"},\"mode\":\"markers\",\"name\":\"MRK\",\"orientation\":\"v\",\"showlegend\":true,\"x\":[\"Pharmaceuticals\"],\"xaxis\":\"x\",\"y\":[21.9],\"yaxis\":\"y\",\"type\":\"scatter\"},{\"hovertemplate\":\"Ticker=JPM<br>Industry=%{x}<br>ESG Score=%{y}<br>returnOnEquity=%{marker.size}<extra></extra>\",\"legendgroup\":\"JPM\",\"marker\":{\"color\":\"#EF553B\",\"size\":[0.16856001],\"sizemode\":\"area\",\"sizeref\":0.016445725,\"symbol\":\"circle\"},\"mode\":\"markers\",\"name\":\"JPM\",\"orientation\":\"v\",\"showlegend\":true,\"x\":[\"Banks\"],\"xaxis\":\"x\",\"y\":[29.3],\"yaxis\":\"y\",\"type\":\"scatter\"},{\"hovertemplate\":\"Ticker=AEP<br>Industry=%{x}<br>ESG Score=%{y}<br>returnOnEquity=%{marker.size}<extra></extra>\",\"legendgroup\":\"AEP\",\"marker\":{\"color\":\"#00cc96\",\"size\":[0.11048],\"sizemode\":\"area\",\"sizeref\":0.016445725,\"symbol\":\"circle\"},\"mode\":\"markers\",\"name\":\"AEP\",\"orientation\":\"v\",\"showlegend\":true,\"x\":[\"Utilities\"],\"xaxis\":\"x\",\"y\":[30.5],\"yaxis\":\"y\",\"type\":\"scatter\"},{\"hovertemplate\":\"Ticker=UNH<br>Industry=%{x}<br>ESG Score=%{y}<br>returnOnEquity=%{marker.size}<extra></extra>\",\"legendgroup\":\"UNH\",\"marker\":{\"color\":\"#ab63fa\",\"size\":[0.21985],\"sizemode\":\"area\",\"sizeref\":0.016445725,\"symbol\":\"circle\"},\"mode\":\"markers\",\"name\":\"UNH\",\"orientation\":\"v\",\"showlegend\":true,\"x\":[\"Healthcare\"],\"xaxis\":\"x\",\"y\":[17.4],\"yaxis\":\"y\",\"type\":\"scatter\"},{\"hovertemplate\":\"Ticker=CI<br>Industry=%{x}<br>ESG Score=%{y}<br>returnOnEquity=%{marker.size}<extra></extra>\",\"legendgroup\":\"CI\",\"marker\":{\"color\":\"#FFA15A\",\"size\":[0.17627001],\"sizemode\":\"area\",\"sizeref\":0.016445725,\"symbol\":\"circle\"},\"mode\":\"markers\",\"name\":\"CI\",\"orientation\":\"v\",\"showlegend\":true,\"x\":[\"Healthcare\"],\"xaxis\":\"x\",\"y\":[11.6],\"yaxis\":\"y\",\"type\":\"scatter\"},{\"hovertemplate\":\"Ticker=AMAT<br>Industry=%{x}<br>ESG Score=%{y}<br>returnOnEquity=%{marker.size}<extra></extra>\",\"legendgroup\":\"AMAT\",\"marker\":{\"color\":\"#19d3f3\",\"size\":[0.51593],\"sizemode\":\"area\",\"sizeref\":0.016445725,\"symbol\":\"circle\"},\"mode\":\"markers\",\"name\":\"AMAT\",\"orientation\":\"v\",\"showlegend\":true,\"x\":[\"Semiconductors\"],\"xaxis\":\"x\",\"y\":[12.0],\"yaxis\":\"y\",\"type\":\"scatter\"},{\"hovertemplate\":\"Ticker=CL<br>Industry=%{x}<br>ESG Score=%{y}<br>returnOnEquity=%{marker.size}<extra></extra>\",\"legendgroup\":\"CL\",\"marker\":{\"color\":\"#FF6692\",\"size\":[2.25676],\"sizemode\":\"area\",\"sizeref\":0.016445725,\"symbol\":\"circle\"},\"mode\":\"markers\",\"name\":\"CL\",\"orientation\":\"v\",\"showlegend\":true,\"x\":[\"Household Products\"],\"xaxis\":\"x\",\"y\":[22.1],\"yaxis\":\"y\",\"type\":\"scatter\"},{\"hovertemplate\":\"Ticker=EQIX<br>Industry=%{x}<br>ESG Score=%{y}<br>returnOnEquity=%{marker.size}<extra></extra>\",\"legendgroup\":\"EQIX\",\"marker\":{\"color\":\"#B6E880\",\"size\":[0.04048],\"sizemode\":\"area\",\"sizeref\":0.016445725,\"symbol\":\"circle\"},\"mode\":\"markers\",\"name\":\"EQIX\",\"orientation\":\"v\",\"showlegend\":true,\"x\":[\"Real Estate\"],\"xaxis\":\"x\",\"y\":[14.7],\"yaxis\":\"y\",\"type\":\"scatter\"},{\"hovertemplate\":\"Ticker=UPS<br>Industry=%{x}<br>ESG Score=%{y}<br>returnOnEquity=%{marker.size}<extra></extra>\",\"legendgroup\":\"UPS\",\"marker\":{\"color\":\"#FF97FF\",\"size\":[0.73033994],\"sizemode\":\"area\",\"sizeref\":0.016445725,\"symbol\":\"circle\"},\"mode\":\"markers\",\"name\":\"UPS\",\"orientation\":\"v\",\"showlegend\":true,\"x\":[\"Transportation\"],\"xaxis\":\"x\",\"y\":[20.2],\"yaxis\":\"y\",\"type\":\"scatter\"},{\"hovertemplate\":\"Ticker=NEM<br>Industry=%{x}<br>ESG Score=%{y}<br>returnOnEquity=%{marker.size}<extra></extra>\",\"legendgroup\":\"NEM\",\"marker\":{\"color\":\"#FECB52\",\"size\":[0.07253],\"sizemode\":\"area\",\"sizeref\":0.016445725,\"symbol\":\"circle\"},\"mode\":\"markers\",\"name\":\"NEM\",\"orientation\":\"v\",\"showlegend\":true,\"x\":[\"Precious Metals\"],\"xaxis\":\"x\",\"y\":[23.2],\"yaxis\":\"y\",\"type\":\"scatter\"},{\"hovertemplate\":\"Ticker=LMT<br>Industry=%{x}<br>ESG Score=%{y}<br>returnOnEquity=%{marker.size}<extra></extra>\",\"legendgroup\":\"LMT\",\"marker\":{\"color\":\"#636efa\",\"size\":[0.74307],\"sizemode\":\"area\",\"sizeref\":0.016445725,\"symbol\":\"circle\"},\"mode\":\"markers\",\"name\":\"LMT\",\"orientation\":\"v\",\"showlegend\":true,\"x\":[\"Aerospace & Defense\"],\"xaxis\":\"x\",\"y\":[28.8],\"yaxis\":\"y\",\"type\":\"scatter\"},{\"hovertemplate\":\"Ticker=BLK<br>Industry=%{x}<br>ESG Score=%{y}<br>returnOnEquity=%{marker.size}<extra></extra>\",\"legendgroup\":\"BLK\",\"marker\":{\"color\":\"#EF553B\",\"size\":[0.16974],\"sizemode\":\"area\",\"sizeref\":0.016445725,\"symbol\":\"circle\"},\"mode\":\"markers\",\"name\":\"BLK\",\"orientation\":\"v\",\"showlegend\":true,\"x\":[\"Diversified Financials\"],\"xaxis\":\"x\",\"y\":[20.7],\"yaxis\":\"y\",\"type\":\"scatter\"},{\"hovertemplate\":\"Ticker=EIX<br>Industry=%{x}<br>ESG Score=%{y}<br>returnOnEquity=%{marker.size}<extra></extra>\",\"legendgroup\":\"EIX\",\"marker\":{\"color\":\"#00cc96\",\"size\":[0.04705],\"sizemode\":\"area\",\"sizeref\":0.016445725,\"symbol\":\"circle\"},\"mode\":\"markers\",\"name\":\"EIX\",\"orientation\":\"v\",\"showlegend\":true,\"x\":[\"Utilities\"],\"xaxis\":\"x\",\"y\":[27.0],\"yaxis\":\"y\",\"type\":\"scatter\"},{\"hovertemplate\":\"Ticker=JNJ<br>Industry=%{x}<br>ESG Score=%{y}<br>returnOnEquity=%{marker.size}<extra></extra>\",\"legendgroup\":\"JNJ\",\"marker\":{\"color\":\"#ab63fa\",\"size\":[0.30412],\"sizemode\":\"area\",\"sizeref\":0.016445725,\"symbol\":\"circle\"},\"mode\":\"markers\",\"name\":\"JNJ\",\"orientation\":\"v\",\"showlegend\":true,\"x\":[\"Pharmaceuticals\"],\"xaxis\":\"x\",\"y\":[27.3],\"yaxis\":\"y\",\"type\":\"scatter\"},{\"hovertemplate\":\"Ticker=SYF<br>Industry=%{x}<br>ESG Score=%{y}<br>returnOnEquity=%{marker.size}<extra></extra>\",\"legendgroup\":\"SYF\",\"marker\":{\"color\":\"#FFA15A\",\"size\":[0.32031],\"sizemode\":\"area\",\"sizeref\":0.016445725,\"symbol\":\"circle\"},\"mode\":\"markers\",\"name\":\"SYF\",\"orientation\":\"v\",\"showlegend\":true,\"x\":[\"Diversified Financials\"],\"xaxis\":\"x\",\"y\":[18.7],\"yaxis\":\"y\",\"type\":\"scatter\"},{\"hovertemplate\":\"Ticker=FDX<br>Industry=%{x}<br>ESG Score=%{y}<br>returnOnEquity=%{marker.size}<extra></extra>\",\"legendgroup\":\"FDX\",\"marker\":{\"color\":\"#19d3f3\",\"size\":[0.21384001],\"sizemode\":\"area\",\"sizeref\":0.016445725,\"symbol\":\"circle\"},\"mode\":\"markers\",\"name\":\"FDX\",\"orientation\":\"v\",\"showlegend\":true,\"x\":[\"Transportation\"],\"xaxis\":\"x\",\"y\":[20.5],\"yaxis\":\"y\",\"type\":\"scatter\"},{\"hovertemplate\":\"Ticker=GS<br>Industry=%{x}<br>ESG Score=%{y}<br>returnOnEquity=%{marker.size}<extra></extra>\",\"legendgroup\":\"GS\",\"marker\":{\"color\":\"#FF6692\",\"size\":[0.20768999],\"sizemode\":\"area\",\"sizeref\":0.016445725,\"symbol\":\"circle\"},\"mode\":\"markers\",\"name\":\"GS\",\"orientation\":\"v\",\"showlegend\":true,\"x\":[\"Diversified Financials\"],\"xaxis\":\"x\",\"y\":[25.0],\"yaxis\":\"y\",\"type\":\"scatter\"},{\"hovertemplate\":\"Ticker=NOC<br>Industry=%{x}<br>ESG Score=%{y}<br>returnOnEquity=%{marker.size}<extra></extra>\",\"legendgroup\":\"NOC\",\"marker\":{\"color\":\"#B6E880\",\"size\":[0.59604],\"sizemode\":\"area\",\"sizeref\":0.016445725,\"symbol\":\"circle\"},\"mode\":\"markers\",\"name\":\"NOC\",\"orientation\":\"v\",\"showlegend\":true,\"x\":[\"Aerospace & Defense\"],\"xaxis\":\"x\",\"y\":[28.5],\"yaxis\":\"y\",\"type\":\"scatter\"},{\"hovertemplate\":\"Ticker=PG<br>Industry=%{x}<br>ESG Score=%{y}<br>returnOnEquity=%{marker.size}<extra></extra>\",\"legendgroup\":\"PG\",\"marker\":{\"color\":\"#FF97FF\",\"size\":[0.31092],\"sizemode\":\"area\",\"sizeref\":0.016445725,\"symbol\":\"circle\"},\"mode\":\"markers\",\"name\":\"PG\",\"orientation\":\"v\",\"showlegend\":true,\"x\":[\"Household Products\"],\"xaxis\":\"x\",\"y\":[27.0],\"yaxis\":\"y\",\"type\":\"scatter\"},{\"hovertemplate\":\"Ticker=ADM<br>Industry=%{x}<br>ESG Score=%{y}<br>returnOnEquity=%{marker.size}<extra></extra>\",\"legendgroup\":\"ADM\",\"marker\":{\"color\":\"#FECB52\",\"size\":[0.12636],\"sizemode\":\"area\",\"sizeref\":0.016445725,\"symbol\":\"circle\"},\"mode\":\"markers\",\"name\":\"ADM\",\"orientation\":\"v\",\"showlegend\":true,\"x\":[\"Food Products\"],\"xaxis\":\"x\",\"y\":[36.4],\"yaxis\":\"y\",\"type\":\"scatter\"},{\"hovertemplate\":\"Ticker=ETR<br>Industry=%{x}<br>ESG Score=%{y}<br>returnOnEquity=%{marker.size}<extra></extra>\",\"legendgroup\":\"ETR\",\"marker\":{\"color\":\"#636efa\",\"size\":[0.096820004],\"sizemode\":\"area\",\"sizeref\":0.016445725,\"symbol\":\"circle\"},\"mode\":\"markers\",\"name\":\"ETR\",\"orientation\":\"v\",\"showlegend\":true,\"x\":[\"Utilities\"],\"xaxis\":\"x\",\"y\":[30.3],\"yaxis\":\"y\",\"type\":\"scatter\"},{\"hovertemplate\":\"Ticker=QCOM<br>Industry=%{x}<br>ESG Score=%{y}<br>returnOnEquity=%{marker.size}<extra></extra>\",\"legendgroup\":\"QCOM\",\"marker\":{\"color\":\"#EF553B\",\"size\":[1.06739],\"sizemode\":\"area\",\"sizeref\":0.016445725,\"symbol\":\"circle\"},\"mode\":\"markers\",\"name\":\"QCOM\",\"orientation\":\"v\",\"showlegend\":true,\"x\":[\"Semiconductors\"],\"xaxis\":\"x\",\"y\":[18.0],\"yaxis\":\"y\",\"type\":\"scatter\"},{\"hovertemplate\":\"Ticker=GIS<br>Industry=%{x}<br>ESG Score=%{y}<br>returnOnEquity=%{marker.size}<extra></extra>\",\"legendgroup\":\"GIS\",\"marker\":{\"color\":\"#00cc96\",\"size\":[0.22723],\"sizemode\":\"area\",\"sizeref\":0.016445725,\"symbol\":\"circle\"},\"mode\":\"markers\",\"name\":\"GIS\",\"orientation\":\"v\",\"showlegend\":true,\"x\":[\"Food Products\"],\"xaxis\":\"x\",\"y\":[21.7],\"yaxis\":\"y\",\"type\":\"scatter\"},{\"hovertemplate\":\"Ticker=DE<br>Industry=%{x}<br>ESG Score=%{y}<br>returnOnEquity=%{marker.size}<extra></extra>\",\"legendgroup\":\"DE\",\"marker\":{\"color\":\"#ab63fa\",\"size\":[0.3802],\"sizemode\":\"area\",\"sizeref\":0.016445725,\"symbol\":\"circle\"},\"mode\":\"markers\",\"name\":\"DE\",\"orientation\":\"v\",\"showlegend\":true,\"x\":[\"Machinery\"],\"xaxis\":\"x\",\"y\":[16.9],\"yaxis\":\"y\",\"type\":\"scatter\"},{\"hovertemplate\":\"Ticker=RF<br>Industry=%{x}<br>ESG Score=%{y}<br>returnOnEquity=%{marker.size}<extra></extra>\",\"legendgroup\":\"RF\",\"marker\":{\"color\":\"#FFA15A\",\"size\":[0.13838],\"sizemode\":\"area\",\"sizeref\":0.016445725,\"symbol\":\"circle\"},\"mode\":\"markers\",\"name\":\"RF\",\"orientation\":\"v\",\"showlegend\":true,\"x\":[\"Banks\"],\"xaxis\":\"x\",\"y\":[19.5],\"yaxis\":\"y\",\"type\":\"scatter\"},{\"hovertemplate\":\"Ticker=LOW<br>Industry=%{x}<br>ESG Score=%{y}<br>returnOnEquity=%{marker.size}<extra></extra>\",\"legendgroup\":\"LOW\",\"marker\":{\"color\":\"#19d3f3\",\"size\":[6.57829],\"sizemode\":\"area\",\"sizeref\":0.016445725,\"symbol\":\"circle\"},\"mode\":\"markers\",\"name\":\"LOW\",\"orientation\":\"v\",\"showlegend\":true,\"x\":[\"Retailing\"],\"xaxis\":\"x\",\"y\":[11.7],\"yaxis\":\"y\",\"type\":\"scatter\"},{\"hovertemplate\":\"Ticker=AMGN<br>Industry=%{x}<br>ESG Score=%{y}<br>returnOnEquity=%{marker.size}<extra></extra>\",\"legendgroup\":\"AMGN\",\"marker\":{\"color\":\"#FF6692\",\"size\":[0.585],\"sizemode\":\"area\",\"sizeref\":0.016445725,\"symbol\":\"circle\"},\"mode\":\"markers\",\"name\":\"AMGN\",\"orientation\":\"v\",\"showlegend\":true,\"x\":[\"Pharmaceuticals\"],\"xaxis\":\"x\",\"y\":[19.0],\"yaxis\":\"y\",\"type\":\"scatter\"},{\"hovertemplate\":\"Ticker=ABT<br>Industry=%{x}<br>ESG Score=%{y}<br>returnOnEquity=%{marker.size}<extra></extra>\",\"legendgroup\":\"ABT\",\"marker\":{\"color\":\"#B6E880\",\"size\":[0.21862],\"sizemode\":\"area\",\"sizeref\":0.016445725,\"symbol\":\"circle\"},\"mode\":\"markers\",\"name\":\"ABT\",\"orientation\":\"v\",\"showlegend\":true,\"x\":[\"Healthcare\"],\"xaxis\":\"x\",\"y\":[26.0],\"yaxis\":\"y\",\"type\":\"scatter\"},{\"hovertemplate\":\"Ticker=HPE<br>Industry=%{x}<br>ESG Score=%{y}<br>returnOnEquity=%{marker.size}<extra></extra>\",\"legendgroup\":\"HPE\",\"marker\":{\"color\":\"#FF97FF\",\"size\":[0.18979],\"sizemode\":\"area\",\"sizeref\":0.016445725,\"symbol\":\"circle\"},\"mode\":\"markers\",\"name\":\"HPE\",\"orientation\":\"v\",\"showlegend\":true,\"x\":[\"Technology Hardware\"],\"xaxis\":\"x\",\"y\":[12.1],\"yaxis\":\"y\",\"type\":\"scatter\"},{\"hovertemplate\":\"Ticker=BDX<br>Industry=%{x}<br>ESG Score=%{y}<br>returnOnEquity=%{marker.size}<extra></extra>\",\"legendgroup\":\"BDX\",\"marker\":{\"color\":\"#FECB52\",\"size\":[0.088190004],\"sizemode\":\"area\",\"sizeref\":0.016445725,\"symbol\":\"circle\"},\"mode\":\"markers\",\"name\":\"BDX\",\"orientation\":\"v\",\"showlegend\":true,\"x\":[\"Healthcare\"],\"xaxis\":\"x\",\"y\":[28.3],\"yaxis\":\"y\",\"type\":\"scatter\"},{\"hovertemplate\":\"Ticker=CLX<br>Industry=%{x}<br>ESG Score=%{y}<br>returnOnEquity=%{marker.size}<extra></extra>\",\"legendgroup\":\"CLX\",\"marker\":{\"color\":\"#636efa\",\"size\":[0.27365],\"sizemode\":\"area\",\"sizeref\":0.016445725,\"symbol\":\"circle\"},\"mode\":\"markers\",\"name\":\"CLX\",\"orientation\":\"v\",\"showlegend\":true,\"x\":[\"Household Products\"],\"xaxis\":\"x\",\"y\":[21.9],\"yaxis\":\"y\",\"type\":\"scatter\"},{\"hovertemplate\":\"Ticker=AES<br>Industry=%{x}<br>ESG Score=%{y}<br>returnOnEquity=%{marker.size}<extra></extra>\",\"legendgroup\":\"AES\",\"marker\":{\"color\":\"#EF553B\",\"size\":[0.15587],\"sizemode\":\"area\",\"sizeref\":0.016445725,\"symbol\":\"circle\"},\"mode\":\"markers\",\"name\":\"AES\",\"orientation\":\"v\",\"showlegend\":true,\"x\":[\"Utilities\"],\"xaxis\":\"x\",\"y\":[35.0],\"yaxis\":\"y\",\"type\":\"scatter\"},{\"hovertemplate\":\"Ticker=SPGI<br>Industry=%{x}<br>ESG Score=%{y}<br>returnOnEquity=%{marker.size}<extra></extra>\",\"legendgroup\":\"SPGI\",\"marker\":{\"color\":\"#00cc96\",\"size\":[0.73425],\"sizemode\":\"area\",\"sizeref\":0.016445725,\"symbol\":\"circle\"},\"mode\":\"markers\",\"name\":\"SPGI\",\"orientation\":\"v\",\"showlegend\":true,\"x\":[\"Diversified Financials\"],\"xaxis\":\"x\",\"y\":[12.7],\"yaxis\":\"y\",\"type\":\"scatter\"},{\"hovertemplate\":\"Ticker=ES<br>Industry=%{x}<br>ESG Score=%{y}<br>returnOnEquity=%{marker.size}<extra></extra>\",\"legendgroup\":\"ES\",\"marker\":{\"color\":\"#ab63fa\",\"size\":[0.08315],\"sizemode\":\"area\",\"sizeref\":0.016445725,\"symbol\":\"circle\"},\"mode\":\"markers\",\"name\":\"ES\",\"orientation\":\"v\",\"showlegend\":true,\"x\":[\"Utilities\"],\"xaxis\":\"x\",\"y\":[19.0],\"yaxis\":\"y\",\"type\":\"scatter\"},{\"hovertemplate\":\"Ticker=HSY<br>Industry=%{x}<br>ESG Score=%{y}<br>returnOnEquity=%{marker.size}<extra></extra>\",\"legendgroup\":\"HSY\",\"marker\":{\"color\":\"#FFA15A\",\"size\":[0.59371],\"sizemode\":\"area\",\"sizeref\":0.016445725,\"symbol\":\"circle\"},\"mode\":\"markers\",\"name\":\"HSY\",\"orientation\":\"v\",\"showlegend\":true,\"x\":[\"Food Products\"],\"xaxis\":\"x\",\"y\":[25.0],\"yaxis\":\"y\",\"type\":\"scatter\"},{\"hovertemplate\":\"Ticker=AXP<br>Industry=%{x}<br>ESG Score=%{y}<br>returnOnEquity=%{marker.size}<extra></extra>\",\"legendgroup\":\"AXP\",\"marker\":{\"color\":\"#19d3f3\",\"size\":[0.33606],\"sizemode\":\"area\",\"sizeref\":0.016445725,\"symbol\":\"circle\"},\"mode\":\"markers\",\"name\":\"AXP\",\"orientation\":\"v\",\"showlegend\":true,\"x\":[\"Diversified Financials\"],\"xaxis\":\"x\",\"y\":[20.3],\"yaxis\":\"y\",\"type\":\"scatter\"},{\"hovertemplate\":\"Ticker=NLSN<br>Industry=%{x}<br>ESG Score=%{y}<br>returnOnEquity=%{marker.size}<extra></extra>\",\"legendgroup\":\"NLSN\",\"marker\":{\"color\":\"#FF6692\",\"size\":[0.19481],\"sizemode\":\"area\",\"sizeref\":0.016445725,\"symbol\":\"circle\"},\"mode\":\"markers\",\"name\":\"NLSN\",\"orientation\":\"v\",\"showlegend\":true,\"x\":[\"Commercial Services\"],\"xaxis\":\"x\",\"y\":[23.0],\"yaxis\":\"y\",\"type\":\"scatter\"},{\"hovertemplate\":\"Ticker=EBAY<br>Industry=%{x}<br>ESG Score=%{y}<br>returnOnEquity=%{marker.size}<extra></extra>\",\"legendgroup\":\"EBAY\",\"marker\":{\"color\":\"#B6E880\",\"size\":[0.28445998],\"sizemode\":\"area\",\"sizeref\":0.016445725,\"symbol\":\"circle\"},\"mode\":\"markers\",\"name\":\"EBAY\",\"orientation\":\"v\",\"showlegend\":true,\"x\":[\"Software & Services\"],\"xaxis\":\"x\",\"y\":[16.7],\"yaxis\":\"y\",\"type\":\"scatter\"},{\"hovertemplate\":\"Ticker=ECL<br>Industry=%{x}<br>ESG Score=%{y}<br>returnOnEquity=%{marker.size}<extra></extra>\",\"legendgroup\":\"ECL\",\"marker\":{\"color\":\"#FF97FF\",\"size\":[0.17579001],\"sizemode\":\"area\",\"sizeref\":0.016445725,\"symbol\":\"circle\"},\"mode\":\"markers\",\"name\":\"ECL\",\"orientation\":\"v\",\"showlegend\":true,\"x\":[\"Chemicals\"],\"xaxis\":\"x\",\"y\":[24.1],\"yaxis\":\"y\",\"type\":\"scatter\"},{\"hovertemplate\":\"Ticker=NDAQ<br>Industry=%{x}<br>ESG Score=%{y}<br>returnOnEquity=%{marker.size}<extra></extra>\",\"legendgroup\":\"NDAQ\",\"marker\":{\"color\":\"#FECB52\",\"size\":[0.18642999],\"sizemode\":\"area\",\"sizeref\":0.016445725,\"symbol\":\"circle\"},\"mode\":\"markers\",\"name\":\"NDAQ\",\"orientation\":\"v\",\"showlegend\":true,\"x\":[\"Diversified Financials\"],\"xaxis\":\"x\",\"y\":[11.9],\"yaxis\":\"y\",\"type\":\"scatter\"},{\"hovertemplate\":\"Ticker=DLR<br>Industry=%{x}<br>ESG Score=%{y}<br>returnOnEquity=%{marker.size}<extra></extra>\",\"legendgroup\":\"DLR\",\"marker\":{\"color\":\"#636efa\",\"size\":[0.09442],\"sizemode\":\"area\",\"sizeref\":0.016445725,\"symbol\":\"circle\"},\"mode\":\"markers\",\"name\":\"DLR\",\"orientation\":\"v\",\"showlegend\":true,\"x\":[\"Real Estate\"],\"xaxis\":\"x\",\"y\":[13.0],\"yaxis\":\"y\",\"type\":\"scatter\"},{\"hovertemplate\":\"Ticker=COF<br>Industry=%{x}<br>ESG Score=%{y}<br>returnOnEquity=%{marker.size}<extra></extra>\",\"legendgroup\":\"COF\",\"marker\":{\"color\":\"#EF553B\",\"size\":[0.20556],\"sizemode\":\"area\",\"sizeref\":0.016445725,\"symbol\":\"circle\"},\"mode\":\"markers\",\"name\":\"COF\",\"orientation\":\"v\",\"showlegend\":true,\"x\":[\"Diversified Financials\"],\"xaxis\":\"x\",\"y\":[23.2],\"yaxis\":\"y\",\"type\":\"scatter\"},{\"hovertemplate\":\"Ticker=BBY<br>Industry=%{x}<br>ESG Score=%{y}<br>returnOnEquity=%{marker.size}<extra></extra>\",\"legendgroup\":\"BBY\",\"marker\":{\"color\":\"#00cc96\",\"size\":[0.63223],\"sizemode\":\"area\",\"sizeref\":0.016445725,\"symbol\":\"circle\"},\"mode\":\"markers\",\"name\":\"BBY\",\"orientation\":\"v\",\"showlegend\":true,\"x\":[\"Retailing\"],\"xaxis\":\"x\",\"y\":[14.3],\"yaxis\":\"y\",\"type\":\"scatter\"},{\"hovertemplate\":\"Ticker=KMB<br>Industry=%{x}<br>ESG Score=%{y}<br>returnOnEquity=%{marker.size}<extra></extra>\",\"legendgroup\":\"KMB\",\"marker\":{\"color\":\"#ab63fa\",\"size\":[2.29639],\"sizemode\":\"area\",\"sizeref\":0.016445725,\"symbol\":\"circle\"},\"mode\":\"markers\",\"name\":\"KMB\",\"orientation\":\"v\",\"showlegend\":true,\"x\":[\"Household Products\"],\"xaxis\":\"x\",\"y\":[22.2],\"yaxis\":\"y\",\"type\":\"scatter\"},{\"hovertemplate\":\"Ticker=EMN<br>Industry=%{x}<br>ESG Score=%{y}<br>returnOnEquity=%{marker.size}<extra></extra>\",\"legendgroup\":\"EMN\",\"marker\":{\"color\":\"#FFA15A\",\"size\":[0.08428001],\"sizemode\":\"area\",\"sizeref\":0.016445725,\"symbol\":\"circle\"},\"mode\":\"markers\",\"name\":\"EMN\",\"orientation\":\"v\",\"showlegend\":true,\"x\":[\"Chemicals\"],\"xaxis\":\"x\",\"y\":[24.8],\"yaxis\":\"y\",\"type\":\"scatter\"}],                        {\"template\":{\"data\":{\"bar\":[{\"error_x\":{\"color\":\"#2a3f5f\"},\"error_y\":{\"color\":\"#2a3f5f\"},\"marker\":{\"line\":{\"color\":\"#E5ECF6\",\"width\":0.5},\"pattern\":{\"fillmode\":\"overlay\",\"size\":10,\"solidity\":0.2}},\"type\":\"bar\"}],\"barpolar\":[{\"marker\":{\"line\":{\"color\":\"#E5ECF6\",\"width\":0.5},\"pattern\":{\"fillmode\":\"overlay\",\"size\":10,\"solidity\":0.2}},\"type\":\"barpolar\"}],\"carpet\":[{\"aaxis\":{\"endlinecolor\":\"#2a3f5f\",\"gridcolor\":\"white\",\"linecolor\":\"white\",\"minorgridcolor\":\"white\",\"startlinecolor\":\"#2a3f5f\"},\"baxis\":{\"endlinecolor\":\"#2a3f5f\",\"gridcolor\":\"white\",\"linecolor\":\"white\",\"minorgridcolor\":\"white\",\"startlinecolor\":\"#2a3f5f\"},\"type\":\"carpet\"}],\"choropleth\":[{\"colorbar\":{\"outlinewidth\":0,\"ticks\":\"\"},\"type\":\"choropleth\"}],\"contour\":[{\"colorbar\":{\"outlinewidth\":0,\"ticks\":\"\"},\"colorscale\":[[0.0,\"#0d0887\"],[0.1111111111111111,\"#46039f\"],[0.2222222222222222,\"#7201a8\"],[0.3333333333333333,\"#9c179e\"],[0.4444444444444444,\"#bd3786\"],[0.5555555555555556,\"#d8576b\"],[0.6666666666666666,\"#ed7953\"],[0.7777777777777778,\"#fb9f3a\"],[0.8888888888888888,\"#fdca26\"],[1.0,\"#f0f921\"]],\"type\":\"contour\"}],\"contourcarpet\":[{\"colorbar\":{\"outlinewidth\":0,\"ticks\":\"\"},\"type\":\"contourcarpet\"}],\"heatmap\":[{\"colorbar\":{\"outlinewidth\":0,\"ticks\":\"\"},\"colorscale\":[[0.0,\"#0d0887\"],[0.1111111111111111,\"#46039f\"],[0.2222222222222222,\"#7201a8\"],[0.3333333333333333,\"#9c179e\"],[0.4444444444444444,\"#bd3786\"],[0.5555555555555556,\"#d8576b\"],[0.6666666666666666,\"#ed7953\"],[0.7777777777777778,\"#fb9f3a\"],[0.8888888888888888,\"#fdca26\"],[1.0,\"#f0f921\"]],\"type\":\"heatmap\"}],\"heatmapgl\":[{\"colorbar\":{\"outlinewidth\":0,\"ticks\":\"\"},\"colorscale\":[[0.0,\"#0d0887\"],[0.1111111111111111,\"#46039f\"],[0.2222222222222222,\"#7201a8\"],[0.3333333333333333,\"#9c179e\"],[0.4444444444444444,\"#bd3786\"],[0.5555555555555556,\"#d8576b\"],[0.6666666666666666,\"#ed7953\"],[0.7777777777777778,\"#fb9f3a\"],[0.8888888888888888,\"#fdca26\"],[1.0,\"#f0f921\"]],\"type\":\"heatmapgl\"}],\"histogram\":[{\"marker\":{\"pattern\":{\"fillmode\":\"overlay\",\"size\":10,\"solidity\":0.2}},\"type\":\"histogram\"}],\"histogram2d\":[{\"colorbar\":{\"outlinewidth\":0,\"ticks\":\"\"},\"colorscale\":[[0.0,\"#0d0887\"],[0.1111111111111111,\"#46039f\"],[0.2222222222222222,\"#7201a8\"],[0.3333333333333333,\"#9c179e\"],[0.4444444444444444,\"#bd3786\"],[0.5555555555555556,\"#d8576b\"],[0.6666666666666666,\"#ed7953\"],[0.7777777777777778,\"#fb9f3a\"],[0.8888888888888888,\"#fdca26\"],[1.0,\"#f0f921\"]],\"type\":\"histogram2d\"}],\"histogram2dcontour\":[{\"colorbar\":{\"outlinewidth\":0,\"ticks\":\"\"},\"colorscale\":[[0.0,\"#0d0887\"],[0.1111111111111111,\"#46039f\"],[0.2222222222222222,\"#7201a8\"],[0.3333333333333333,\"#9c179e\"],[0.4444444444444444,\"#bd3786\"],[0.5555555555555556,\"#d8576b\"],[0.6666666666666666,\"#ed7953\"],[0.7777777777777778,\"#fb9f3a\"],[0.8888888888888888,\"#fdca26\"],[1.0,\"#f0f921\"]],\"type\":\"histogram2dcontour\"}],\"mesh3d\":[{\"colorbar\":{\"outlinewidth\":0,\"ticks\":\"\"},\"type\":\"mesh3d\"}],\"parcoords\":[{\"line\":{\"colorbar\":{\"outlinewidth\":0,\"ticks\":\"\"}},\"type\":\"parcoords\"}],\"pie\":[{\"automargin\":true,\"type\":\"pie\"}],\"scatter\":[{\"marker\":{\"colorbar\":{\"outlinewidth\":0,\"ticks\":\"\"}},\"type\":\"scatter\"}],\"scatter3d\":[{\"line\":{\"colorbar\":{\"outlinewidth\":0,\"ticks\":\"\"}},\"marker\":{\"colorbar\":{\"outlinewidth\":0,\"ticks\":\"\"}},\"type\":\"scatter3d\"}],\"scattercarpet\":[{\"marker\":{\"colorbar\":{\"outlinewidth\":0,\"ticks\":\"\"}},\"type\":\"scattercarpet\"}],\"scattergeo\":[{\"marker\":{\"colorbar\":{\"outlinewidth\":0,\"ticks\":\"\"}},\"type\":\"scattergeo\"}],\"scattergl\":[{\"marker\":{\"colorbar\":{\"outlinewidth\":0,\"ticks\":\"\"}},\"type\":\"scattergl\"}],\"scattermapbox\":[{\"marker\":{\"colorbar\":{\"outlinewidth\":0,\"ticks\":\"\"}},\"type\":\"scattermapbox\"}],\"scatterpolar\":[{\"marker\":{\"colorbar\":{\"outlinewidth\":0,\"ticks\":\"\"}},\"type\":\"scatterpolar\"}],\"scatterpolargl\":[{\"marker\":{\"colorbar\":{\"outlinewidth\":0,\"ticks\":\"\"}},\"type\":\"scatterpolargl\"}],\"scatterternary\":[{\"marker\":{\"colorbar\":{\"outlinewidth\":0,\"ticks\":\"\"}},\"type\":\"scatterternary\"}],\"surface\":[{\"colorbar\":{\"outlinewidth\":0,\"ticks\":\"\"},\"colorscale\":[[0.0,\"#0d0887\"],[0.1111111111111111,\"#46039f\"],[0.2222222222222222,\"#7201a8\"],[0.3333333333333333,\"#9c179e\"],[0.4444444444444444,\"#bd3786\"],[0.5555555555555556,\"#d8576b\"],[0.6666666666666666,\"#ed7953\"],[0.7777777777777778,\"#fb9f3a\"],[0.8888888888888888,\"#fdca26\"],[1.0,\"#f0f921\"]],\"type\":\"surface\"}],\"table\":[{\"cells\":{\"fill\":{\"color\":\"#EBF0F8\"},\"line\":{\"color\":\"white\"}},\"header\":{\"fill\":{\"color\":\"#C8D4E3\"},\"line\":{\"color\":\"white\"}},\"type\":\"table\"}]},\"layout\":{\"annotationdefaults\":{\"arrowcolor\":\"#2a3f5f\",\"arrowhead\":0,\"arrowwidth\":1},\"autotypenumbers\":\"strict\",\"coloraxis\":{\"colorbar\":{\"outlinewidth\":0,\"ticks\":\"\"}},\"colorscale\":{\"diverging\":[[0,\"#8e0152\"],[0.1,\"#c51b7d\"],[0.2,\"#de77ae\"],[0.3,\"#f1b6da\"],[0.4,\"#fde0ef\"],[0.5,\"#f7f7f7\"],[0.6,\"#e6f5d0\"],[0.7,\"#b8e186\"],[0.8,\"#7fbc41\"],[0.9,\"#4d9221\"],[1,\"#276419\"]],\"sequential\":[[0.0,\"#0d0887\"],[0.1111111111111111,\"#46039f\"],[0.2222222222222222,\"#7201a8\"],[0.3333333333333333,\"#9c179e\"],[0.4444444444444444,\"#bd3786\"],[0.5555555555555556,\"#d8576b\"],[0.6666666666666666,\"#ed7953\"],[0.7777777777777778,\"#fb9f3a\"],[0.8888888888888888,\"#fdca26\"],[1.0,\"#f0f921\"]],\"sequentialminus\":[[0.0,\"#0d0887\"],[0.1111111111111111,\"#46039f\"],[0.2222222222222222,\"#7201a8\"],[0.3333333333333333,\"#9c179e\"],[0.4444444444444444,\"#bd3786\"],[0.5555555555555556,\"#d8576b\"],[0.6666666666666666,\"#ed7953\"],[0.7777777777777778,\"#fb9f3a\"],[0.8888888888888888,\"#fdca26\"],[1.0,\"#f0f921\"]]},\"colorway\":[\"#636efa\",\"#EF553B\",\"#00cc96\",\"#ab63fa\",\"#FFA15A\",\"#19d3f3\",\"#FF6692\",\"#B6E880\",\"#FF97FF\",\"#FECB52\"],\"font\":{\"color\":\"#2a3f5f\"},\"geo\":{\"bgcolor\":\"white\",\"lakecolor\":\"white\",\"landcolor\":\"#E5ECF6\",\"showlakes\":true,\"showland\":true,\"subunitcolor\":\"white\"},\"hoverlabel\":{\"align\":\"left\"},\"hovermode\":\"closest\",\"mapbox\":{\"style\":\"light\"},\"paper_bgcolor\":\"white\",\"plot_bgcolor\":\"#E5ECF6\",\"polar\":{\"angularaxis\":{\"gridcolor\":\"white\",\"linecolor\":\"white\",\"ticks\":\"\"},\"bgcolor\":\"#E5ECF6\",\"radialaxis\":{\"gridcolor\":\"white\",\"linecolor\":\"white\",\"ticks\":\"\"}},\"scene\":{\"xaxis\":{\"backgroundcolor\":\"#E5ECF6\",\"gridcolor\":\"white\",\"gridwidth\":2,\"linecolor\":\"white\",\"showbackground\":true,\"ticks\":\"\",\"zerolinecolor\":\"white\"},\"yaxis\":{\"backgroundcolor\":\"#E5ECF6\",\"gridcolor\":\"white\",\"gridwidth\":2,\"linecolor\":\"white\",\"showbackground\":true,\"ticks\":\"\",\"zerolinecolor\":\"white\"},\"zaxis\":{\"backgroundcolor\":\"#E5ECF6\",\"gridcolor\":\"white\",\"gridwidth\":2,\"linecolor\":\"white\",\"showbackground\":true,\"ticks\":\"\",\"zerolinecolor\":\"white\"}},\"shapedefaults\":{\"line\":{\"color\":\"#2a3f5f\"}},\"ternary\":{\"aaxis\":{\"gridcolor\":\"white\",\"linecolor\":\"white\",\"ticks\":\"\"},\"baxis\":{\"gridcolor\":\"white\",\"linecolor\":\"white\",\"ticks\":\"\"},\"bgcolor\":\"#E5ECF6\",\"caxis\":{\"gridcolor\":\"white\",\"linecolor\":\"white\",\"ticks\":\"\"}},\"title\":{\"x\":0.05},\"xaxis\":{\"automargin\":true,\"gridcolor\":\"white\",\"linecolor\":\"white\",\"ticks\":\"\",\"title\":{\"standoff\":15},\"zerolinecolor\":\"white\",\"zerolinewidth\":2},\"yaxis\":{\"automargin\":true,\"gridcolor\":\"white\",\"linecolor\":\"white\",\"ticks\":\"\",\"title\":{\"standoff\":15},\"zerolinecolor\":\"white\",\"zerolinewidth\":2}}},\"xaxis\":{\"anchor\":\"y\",\"domain\":[0.0,1.0],\"title\":{\"text\":\"Industry\"}},\"yaxis\":{\"anchor\":\"x\",\"domain\":[0.0,1.0],\"title\":{\"text\":\"ESG Score\"}},\"legend\":{\"title\":{\"text\":\"Ticker\"},\"tracegroupgap\":0,\"itemsizing\":\"constant\"},\"title\":{\"text\":\"ESG Scores for featured companies\"}},                        {\"responsive\": true}                    ).then(function(){\n",
       "                            \n",
       "var gd = document.getElementById('24ce7725-1528-4f27-b559-3b3afff4ae1d');\n",
       "var x = new MutationObserver(function (mutations, observer) {{\n",
       "        var display = window.getComputedStyle(gd).display;\n",
       "        if (!display || display === 'none') {{\n",
       "            console.log([gd, 'removed!']);\n",
       "            Plotly.purge(gd);\n",
       "            observer.disconnect();\n",
       "        }}\n",
       "}});\n",
       "\n",
       "// Listen for the removal of the full notebook cells\n",
       "var notebookContainer = gd.closest('#notebook-container');\n",
       "if (notebookContainer) {{\n",
       "    x.observe(notebookContainer, {childList: true});\n",
       "}}\n",
       "\n",
       "// Listen for the clearing of the current output cell\n",
       "var outputEl = gd.closest('.output');\n",
       "if (outputEl) {{\n",
       "    x.observe(outputEl, {childList: true});\n",
       "}}\n",
       "\n",
       "                        })                };                });            </script>        </div>"
      ]
     },
     "metadata": {},
     "output_type": "display_data"
    }
   ],
   "source": [
    "                      \n",
    "fig = px.scatter(esg_info_df, x=\"peerGroup\", y=\"totalScore\", color=\"Ticker\",\n",
    "                 size='returnOnEquity', hover_data=['totalScore'],\n",
    "                 title = 'ESG Scores for featured companies',\n",
    "                  labels={ # replaces default labels by column name\n",
    "                \"peerGroup\": \"Industry\",  \"totalScore\": \"ESG Score\"\n",
    "            },)\n",
    "fig.show()"
   ]
  },
  {
   "cell_type": "code",
   "execution_count": null,
   "id": "f6ee2f2b",
   "metadata": {},
   "outputs": [],
   "source": []
  }
 ],
 "metadata": {
  "kernelspec": {
   "display_name": "esgenv",
   "language": "python",
   "name": "esgenv"
  },
  "language_info": {
   "codemirror_mode": {
    "name": "ipython",
    "version": 3
   },
   "file_extension": ".py",
   "mimetype": "text/x-python",
   "name": "python",
   "nbconvert_exporter": "python",
   "pygments_lexer": "ipython3",
   "version": "3.7.11"
  }
 },
 "nbformat": 4,
 "nbformat_minor": 5
}
